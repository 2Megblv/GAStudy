{
 "cells": [
  {
   "cell_type": "markdown",
   "metadata": {},
   "source": [
    "# Stock Prices Prediction Using Keras Long Term Short Memory - SP500\n"
   ]
  },
  {
   "cell_type": "code",
   "execution_count": 30,
   "metadata": {},
   "outputs": [],
   "source": [
    "# Part 1 - Data Preprocessing\n",
    "\n",
    "# Importing the libraries\n",
    "import numpy as np\n",
    "import matplotlib.pyplot as plt\n",
    "import pandas as pd\n",
    "import quandl\n",
    "\n",
    "%matplotlib inline\n",
    "pd.set_option('display.notebook_repr_html', False)\n",
    "pd.set_option('display.max_columns', 6)\n",
    "pd.set_option('display.max_rows', 10)\n",
    "pd.set_option('display.width', 78)\n",
    "pd.set_option('precision', 3)"
   ]
  },
  {
   "cell_type": "code",
   "execution_count": 31,
   "metadata": {},
   "outputs": [],
   "source": [
    "# Importing the training set\n",
    "dataset_train = pd.read_csv('./data/GSPC.csv')\n",
    "training_set = dataset_train.iloc[:, 1:2].values"
   ]
  },
  {
   "cell_type": "code",
   "execution_count": 32,
   "metadata": {},
   "outputs": [
    {
     "data": {
      "text/plain": [
       "         Date     Open     High     ...        Close  Adj Close      Volume\n",
       "0  2000-01-03  1469.25  1478.00     ...      1455.22    1455.22   931800000\n",
       "1  2000-01-04  1455.22  1455.22     ...      1399.42    1399.42  1009000000\n",
       "2  2000-01-05  1399.42  1413.27     ...      1402.11    1402.11  1085500000\n",
       "3  2000-01-06  1402.11  1411.90     ...      1403.45    1403.45  1092300000\n",
       "4  2000-01-07  1403.45  1441.47     ...      1441.47    1441.47  1225200000\n",
       "\n",
       "[5 rows x 7 columns]"
      ]
     },
     "execution_count": 32,
     "metadata": {},
     "output_type": "execute_result"
    }
   ],
   "source": [
    "dataset_train.head()\n"
   ]
  },
  {
   "cell_type": "code",
   "execution_count": 33,
   "metadata": {},
   "outputs": [],
   "source": [
    "# Feature Scaling\n",
    "from sklearn.preprocessing import MinMaxScaler\n",
    "sc = MinMaxScaler(feature_range = (0, 1))\n",
    "training_set_scaled = sc.fit_transform(training_set)"
   ]
  },
  {
   "cell_type": "code",
   "execution_count": 34,
   "metadata": {},
   "outputs": [],
   "source": [
    "# Creating a data structure with 60 timesteps and 1 output\n",
    "# Used all Historical data, 1200 and 800 Rows\n",
    "X_train = []\n",
    "y_train = []\n",
    "for i in range(60, 800):\n",
    "    X_train.append(training_set_scaled[i-60:i, 0])\n",
    "    y_train.append(training_set_scaled[i, 0])\n",
    "X_train, y_train = np.array(X_train), np.array(y_train)"
   ]
  },
  {
   "cell_type": "code",
   "execution_count": 35,
   "metadata": {},
   "outputs": [],
   "source": [
    "# Reshaping\n",
    "X_train = np.reshape(X_train, (X_train.shape[0], X_train.shape[1], 1))"
   ]
  },
  {
   "cell_type": "code",
   "execution_count": 36,
   "metadata": {},
   "outputs": [],
   "source": [
    "# Part 2 - Building the RNN\n",
    "\n",
    "# Importing the Keras libraries and packages\n",
    "from keras.models import Sequential\n",
    "from keras.layers import Dense\n",
    "from keras.layers import LSTM\n",
    "from keras.layers import Dropout"
   ]
  },
  {
   "cell_type": "code",
   "execution_count": 37,
   "metadata": {},
   "outputs": [],
   "source": [
    "# Initialising the RNN\n",
    "regressor = Sequential()\n",
    "\n",
    "# Adding the first LSTM layer and some Dropout regularisation\n",
    "regressor.add(LSTM(units = 50, return_sequences = True, input_shape = (X_train.shape[1], 1)))\n",
    "regressor.add(Dropout(0.2))"
   ]
  },
  {
   "cell_type": "code",
   "execution_count": 38,
   "metadata": {},
   "outputs": [],
   "source": [
    "# Adding a second LSTM layer and some Dropout regularisation\n",
    "regressor.add(LSTM(units = 50, return_sequences = True))\n",
    "regressor.add(Dropout(0.2))"
   ]
  },
  {
   "cell_type": "code",
   "execution_count": 39,
   "metadata": {},
   "outputs": [],
   "source": [
    "\n",
    "# Adding a third LSTM layer and some Dropout regularisation\n",
    "regressor.add(LSTM(units = 50, return_sequences = True))\n",
    "regressor.add(Dropout(0.2))"
   ]
  },
  {
   "cell_type": "code",
   "execution_count": 40,
   "metadata": {},
   "outputs": [],
   "source": [
    "# Adding a fourth LSTM layer and some Dropout regularisation\n",
    "regressor.add(LSTM(units = 50))\n",
    "regressor.add(Dropout(0.2))\n"
   ]
  },
  {
   "cell_type": "code",
   "execution_count": 41,
   "metadata": {},
   "outputs": [
    {
     "name": "stdout",
     "output_type": "stream",
     "text": [
      "Epoch 1/100\n",
      "1140/1140 [==============================] - 12s 10ms/step - loss: 0.0081\n",
      "Epoch 2/100\n",
      "1140/1140 [==============================] - 7s 6ms/step - loss: 0.0010\n",
      "Epoch 3/100\n",
      "1140/1140 [==============================] - 8s 7ms/step - loss: 9.0574e-04\n",
      "Epoch 4/100\n",
      "1140/1140 [==============================] - 7s 6ms/step - loss: 0.0010\n",
      "Epoch 5/100\n",
      "1140/1140 [==============================] - 8s 7ms/step - loss: 9.0480e-04\n",
      "Epoch 6/100\n",
      "1140/1140 [==============================] - 8s 7ms/step - loss: 7.8537e-04\n",
      "Epoch 7/100\n",
      "1140/1140 [==============================] - 10s 9ms/step - loss: 7.7280e-04\n",
      "Epoch 8/100\n",
      "1140/1140 [==============================] - 7s 6ms/step - loss: 6.8573e-04\n",
      "Epoch 9/100\n",
      "1140/1140 [==============================] - 10s 9ms/step - loss: 6.9864e-04\n",
      "Epoch 10/100\n",
      "1140/1140 [==============================] - 10s 9ms/step - loss: 7.2529e-04\n",
      "Epoch 11/100\n",
      "1140/1140 [==============================] - 7s 6ms/step - loss: 6.9194e-04\n",
      "Epoch 12/100\n",
      "1140/1140 [==============================] - 10s 9ms/step - loss: 5.9898e-04: 1s - loss: 6.20\n",
      "Epoch 13/100\n",
      "1140/1140 [==============================] - 10s 9ms/step - loss: 6.7448e-04\n",
      "Epoch 14/100\n",
      "1140/1140 [==============================] - 10s 9ms/step - loss: 6.4845e-04\n",
      "Epoch 15/100\n",
      "1140/1140 [==============================] - 10s 9ms/step - loss: 6.2106e-04\n",
      "Epoch 16/100\n",
      "1140/1140 [==============================] - 8s 7ms/step - loss: 5.5446e-04\n",
      "Epoch 17/100\n",
      "1140/1140 [==============================] - 10s 9ms/step - loss: 5.9675e-04: 1s - loss: 6.1728\n",
      "Epoch 18/100\n",
      "1140/1140 [==============================] - 11s 9ms/step - loss: 5.3305e-04\n",
      "Epoch 19/100\n",
      "1140/1140 [==============================] - 11s 10ms/step - loss: 5.5095e-04\n",
      "Epoch 20/100\n",
      "1140/1140 [==============================] - 11s 10ms/step - loss: 5.1867e-04\n",
      "Epoch 21/100\n",
      "1140/1140 [==============================] - 12s 10ms/step - loss: 5.6648e-04\n",
      "Epoch 22/100\n",
      "1140/1140 [==============================] - 12s 10ms/step - loss: 5.0971e-04\n",
      "Epoch 23/100\n",
      "1140/1140 [==============================] - 15s 13ms/step - loss: 5.1897e-04\n",
      "Epoch 24/100\n",
      "1140/1140 [==============================] - 12s 11ms/step - loss: 4.8979e-04\n",
      "Epoch 25/100\n",
      "1140/1140 [==============================] - 11s 10ms/step - loss: 4.4588e-04\n",
      "Epoch 26/100\n",
      "1140/1140 [==============================] - 11s 9ms/step - loss: 4.5550e-04\n",
      "Epoch 27/100\n",
      "1140/1140 [==============================] - 11s 9ms/step - loss: 4.7479e-04: 6s - loss: 4.577 - \n",
      "Epoch 28/100\n",
      "1140/1140 [==============================] - 11s 10ms/step - loss: 4.2166e-04\n",
      "Epoch 29/100\n",
      "1140/1140 [==============================] - 11s 9ms/step - loss: 3.9663e-04\n",
      "Epoch 30/100\n",
      "1140/1140 [==============================] - 10s 8ms/step - loss: 4.3768e-04\n",
      "Epoch 31/100\n",
      "1140/1140 [==============================] - 10s 9ms/step - loss: 4.5340e-04\n",
      "Epoch 32/100\n",
      "1140/1140 [==============================] - 10s 9ms/step - loss: 4.5649e-04\n",
      "Epoch 33/100\n",
      "1140/1140 [==============================] - 10s 8ms/step - loss: 4.0025e-04\n",
      "Epoch 34/100\n",
      "1140/1140 [==============================] - 9s 8ms/step - loss: 3.9030e-04\n",
      "Epoch 35/100\n",
      "1140/1140 [==============================] - 10s 9ms/step - loss: 3.9083e-04\n",
      "Epoch 36/100\n",
      "1140/1140 [==============================] - 9s 8ms/step - loss: 4.0167e-04\n",
      "Epoch 37/100\n",
      "1140/1140 [==============================] - 8s 7ms/step - loss: 3.7963e-04\n",
      "Epoch 38/100\n",
      "1140/1140 [==============================] - 10s 9ms/step - loss: 3.8031e-04\n",
      "Epoch 39/100\n",
      "1140/1140 [==============================] - 10s 9ms/step - loss: 3.8930e-04\n",
      "Epoch 40/100\n",
      "1140/1140 [==============================] - 10s 9ms/step - loss: 4.2609e-04\n",
      "Epoch 41/100\n",
      "1140/1140 [==============================] - 10s 9ms/step - loss: 3.7798e-04\n",
      "Epoch 42/100\n",
      "1140/1140 [==============================] - 9s 8ms/step - loss: 3.3105e-04\n",
      "Epoch 43/100\n",
      "1140/1140 [==============================] - 9s 8ms/step - loss: 3.0182e-04\n",
      "Epoch 44/100\n",
      "1140/1140 [==============================] - 10s 8ms/step - loss: 3.4874e-04\n",
      "Epoch 45/100\n",
      "1140/1140 [==============================] - 10s 9ms/step - loss: 3.7644e-04\n",
      "Epoch 46/100\n",
      "1140/1140 [==============================] - 7s 7ms/step - loss: 3.3842e-04\n",
      "Epoch 47/100\n",
      "1140/1140 [==============================] - 9s 8ms/step - loss: 3.1935e-04\n",
      "Epoch 48/100\n",
      "1140/1140 [==============================] - 9s 8ms/step - loss: 3.4243e-04\n",
      "Epoch 49/100\n",
      "1140/1140 [==============================] - 10s 9ms/step - loss: 3.0312e-04: 1s - loss: 2.971\n",
      "Epoch 50/100\n",
      "1140/1140 [==============================] - 10s 9ms/step - loss: 3.3401e-04\n",
      "Epoch 51/100\n",
      "1140/1140 [==============================] - 10s 9ms/step - loss: 3.4879e-04\n",
      "Epoch 52/100\n",
      "1140/1140 [==============================] - 9s 8ms/step - loss: 3.0305e-04\n",
      "Epoch 53/100\n",
      "1140/1140 [==============================] - 10s 9ms/step - loss: 2.8821e-04\n",
      "Epoch 54/100\n",
      "1140/1140 [==============================] - 8s 7ms/step - loss: 3.0686e-04A: 2s - los\n",
      "Epoch 55/100\n",
      "1140/1140 [==============================] - 8s 7ms/step - loss: 3.2816e-04\n",
      "Epoch 56/100\n",
      "1140/1140 [==============================] - 9s 8ms/step - loss: 3.1630e-04\n",
      "Epoch 57/100\n",
      "1140/1140 [==============================] - 9s 8ms/step - loss: 2.9474e-04A: 5s \n",
      "Epoch 58/100\n",
      "1140/1140 [==============================] - 10s 9ms/step - loss: 2.8022e-04\n",
      "Epoch 59/100\n",
      "1140/1140 [==============================] - 10s 9ms/step - loss: 2.9971e-04\n",
      "Epoch 60/100\n",
      "1140/1140 [==============================] - 10s 8ms/step - loss: 2.9289e-04\n",
      "Epoch 61/100\n",
      "1140/1140 [==============================] - 10s 9ms/step - loss: 2.9695e-04\n",
      "Epoch 62/100\n",
      "1140/1140 [==============================] - 7s 6ms/step - loss: 2.6332e-04\n",
      "Epoch 63/100\n",
      "1140/1140 [==============================] - 15s 13ms/step - loss: 3.0511e-04\n",
      "Epoch 64/100\n",
      "1140/1140 [==============================] - 11s 10ms/step - loss: 2.9570e-04\n",
      "Epoch 65/100\n",
      "1140/1140 [==============================] - 11s 9ms/step - loss: 2.5188e-04\n",
      "Epoch 66/100\n",
      "1140/1140 [==============================] - 10s 9ms/step - loss: 2.8008e-04\n",
      "Epoch 67/100\n",
      "1140/1140 [==============================] - 9s 8ms/step - loss: 2.6981e-04\n",
      "Epoch 68/100\n",
      "1140/1140 [==============================] - 9s 8ms/step - loss: 2.6963e-04\n",
      "Epoch 69/100\n",
      "1140/1140 [==============================] - 9s 8ms/step - loss: 3.1147e-04\n",
      "Epoch 70/100\n",
      "1140/1140 [==============================] - 10s 9ms/step - loss: 2.4985e-04\n",
      "Epoch 71/100\n",
      "1140/1140 [==============================] - 7s 6ms/step - loss: 2.9491e-04\n",
      "Epoch 72/100\n",
      "1140/1140 [==============================] - 10s 8ms/step - loss: 2.3621e-04\n",
      "Epoch 73/100\n",
      "1140/1140 [==============================] - 10s 9ms/step - loss: 2.2988e-04\n",
      "Epoch 74/100\n",
      "1140/1140 [==============================] - 10s 9ms/step - loss: 2.3416e-04\n",
      "Epoch 75/100\n",
      "1140/1140 [==============================] - 9s 8ms/step - loss: 2.4742e-04\n",
      "Epoch 76/100\n",
      "1140/1140 [==============================] - 9s 8ms/step - loss: 2.4865e-04\n",
      "Epoch 77/100\n",
      "1140/1140 [==============================] - 10s 9ms/step - loss: 2.3667e-04\n",
      "Epoch 78/100\n",
      "1140/1140 [==============================] - 10s 8ms/step - loss: 2.1829e-04\n",
      "Epoch 79/100\n",
      "1140/1140 [==============================] - 9s 8ms/step - loss: 2.2290e-04\n",
      "Epoch 80/100\n",
      "1140/1140 [==============================] - 9s 8ms/step - loss: 2.2957e-04\n",
      "Epoch 81/100\n",
      "1140/1140 [==============================] - 9s 8ms/step - loss: 2.2277e-04\n",
      "Epoch 82/100\n",
      "1140/1140 [==============================] - 11s 9ms/step - loss: 2.3108e-04\n",
      "Epoch 83/100\n",
      "1140/1140 [==============================] - 11s 9ms/step - loss: 2.2975e-04\n",
      "Epoch 84/100\n",
      "1140/1140 [==============================] - 10s 9ms/step - loss: 2.3876e-04\n",
      "Epoch 85/100\n",
      "1140/1140 [==============================] - 10s 9ms/step - loss: 2.5504e-04\n",
      "Epoch 86/100\n",
      "1140/1140 [==============================] - 10s 9ms/step - loss: 2.3468e-04\n",
      "Epoch 87/100\n",
      "1140/1140 [==============================] - 10s 9ms/step - loss: 2.0648e-04\n",
      "Epoch 88/100\n",
      "1140/1140 [==============================] - 10s 9ms/step - loss: 2.3595e-04\n",
      "Epoch 89/100\n",
      "1140/1140 [==============================] - 10s 9ms/step - loss: 1.8530e-04\n",
      "Epoch 90/100\n",
      "1140/1140 [==============================] - 10s 9ms/step - loss: 2.2483e-04\n",
      "Epoch 91/100\n"
     ]
    },
    {
     "name": "stdout",
     "output_type": "stream",
     "text": [
      "1140/1140 [==============================] - 9s 8ms/step - loss: 2.0406e-04\n",
      "Epoch 92/100\n",
      "1140/1140 [==============================] - 10s 9ms/step - loss: 1.9210e-04\n",
      "Epoch 93/100\n",
      "1140/1140 [==============================] - 10s 8ms/step - loss: 2.0989e-04\n",
      "Epoch 94/100\n",
      "1140/1140 [==============================] - 7s 6ms/step - loss: 1.8799e-04\n",
      "Epoch 95/100\n",
      "1140/1140 [==============================] - 9s 8ms/step - loss: 2.0722e-04A: 3s - loss:\n",
      "Epoch 96/100\n",
      "1140/1140 [==============================] - 10s 8ms/step - loss: 2.1035e-04\n",
      "Epoch 97/100\n",
      "1140/1140 [==============================] - 10s 9ms/step - loss: 1.8794e-04\n",
      "Epoch 98/100\n",
      "1140/1140 [==============================] - 10s 9ms/step - loss: 1.9960e-04\n",
      "Epoch 99/100\n",
      "1140/1140 [==============================] - 10s 9ms/step - loss: 1.9139e-04\n",
      "Epoch 100/100\n",
      "1140/1140 [==============================] - 10s 9ms/step - loss: 1.8636e-04\n"
     ]
    },
    {
     "data": {
      "text/plain": [
       "<keras.callbacks.History at 0x1d2fabf8400>"
      ]
     },
     "execution_count": 41,
     "metadata": {},
     "output_type": "execute_result"
    }
   ],
   "source": [
    "# Adding the output layer\n",
    "regressor.add(Dense(units = 1))\n",
    "\n",
    "# Compiling the RNN\n",
    "regressor.compile(optimizer = 'adam', loss = 'mean_squared_error')\n",
    "\n",
    "# Fitting the RNN to the Training set\n",
    "regressor.fit(X_train, y_train, epochs = 100, batch_size = 32)\n",
    "\n"
   ]
  },
  {
   "cell_type": "code",
   "execution_count": 42,
   "metadata": {},
   "outputs": [],
   "source": [
    "# Part 3 - Making the predictions and visualising the results\n",
    "\n",
    "# Getting the real stock price of Apr - Nov 2018\n",
    "dataset_test = pd.read_csv('./data/GSPC18.csv')\n",
    "real_stock_price = dataset_test.iloc[:, 1:2].values"
   ]
  },
  {
   "cell_type": "code",
   "execution_count": 43,
   "metadata": {},
   "outputs": [],
   "source": [
    "# Getting the predicted stock price of 2018\n",
    "dataset_total = pd.concat((dataset_train['Open'], dataset_test['Open']), axis = 0)\n",
    "inputs = dataset_total[len(dataset_total) - len(dataset_test) - 60:].values\n",
    "inputs = inputs.reshape(-1,1)\n",
    "inputs = sc.transform(inputs)\n",
    "X_test = []\n",
    "for i in range(60, 220):\n",
    "    X_test.append(inputs[i-60:i, 0])\n",
    "X_test = np.array(X_test)\n",
    "X_test = np.reshape(X_test, (X_test.shape[0], X_test.shape[1], 1))\n",
    "predicted_stock_price = regressor.predict(X_test)\n",
    "predicted_stock_price = sc.inverse_transform(predicted_stock_price)\n"
   ]
  },
  {
   "cell_type": "code",
   "execution_count": 44,
   "metadata": {},
   "outputs": [
    {
     "data": {
      "image/png": "[encoded data removed]",
      "text/plain": [
       "<Figure size 432x288 with 1 Axes>"
      ]
     },
     "metadata": {},
     "output_type": "display_data"
    }
   ],
   "source": [
    "# Visualising the results\n",
    "plt.plot(real_stock_price, color = 'red', label = 'Real SP500 Price')\n",
    "plt.plot(predicted_stock_price, color = 'blue', label = 'Predicted SP500 Stock Price')\n",
    "plt.title('SP500 Stock Price Prediction')\n",
    "plt.xlabel('Time')\n",
    "plt.ylabel('SP500 Stock Price')\n",
    "plt.legend()\n",
    "plt.rcParams['figure.figsize'] = (12,9)\n",
    "plt.show()"
   ]
  },
  {
   "cell_type": "code",
   "execution_count": null,
   "metadata": {},
   "outputs": [],
   "source": []
  }
 ],
 "metadata": {
  "kernelspec": {
   "display_name": "Python 3",
   "language": "python",
   "name": "python3"
  },
  "language_info": {
   "codemirror_mode": {
    "name": "ipython",
    "version": 3
   },
   "file_extension": ".py",
   "mimetype": "text/x-python",
   "name": "python",
   "nbconvert_exporter": "python",
   "pygments_lexer": "ipython3",
   "version": "3.6.5"
  },
  "toc": {
   "base_numbering": 1,
   "nav_menu": {},
   "number_sections": true,
   "sideBar": true,
   "skip_h1_title": false,
   "title_cell": "Table of Contents",
   "title_sidebar": "Contents",
   "toc_cell": false,
   "toc_position": {},
   "toc_section_display": true,
   "toc_window_display": false
  },
  "varInspector": {
   "cols": {
    "lenName": 16,
    "lenType": 16,
    "lenVar": 40
   },
   "kernels_config": {
    "python": {
     "delete_cmd_postfix": "",
     "delete_cmd_prefix": "del ",
     "library": "var_list.py",
     "varRefreshCmd": "print(var_dic_list())"
    },
    "r": {
     "delete_cmd_postfix": ") ",
     "delete_cmd_prefix": "rm(",
     "library": "var_list.r",
     "varRefreshCmd": "cat(var_dic_list()) "
    }
   },
   "types_to_exclude": [
    "module",
    "function",
    "builtin_function_or_method",
    "instance",
    "_Feature"
   ],
   "window_display": false
  }
 },
 "nbformat": 4,
 "nbformat_minor": 2
}
