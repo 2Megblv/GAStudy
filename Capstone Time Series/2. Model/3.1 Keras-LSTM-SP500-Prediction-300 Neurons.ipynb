{
 "cells": [
  {
   "cell_type": "markdown",
   "metadata": {},
   "source": [
    "# Stock Prices Prediction Using Keras Long Term Short Memory - SP500\n"
   ]
  },
  {
   "cell_type": "code",
   "execution_count": 1,
   "metadata": {},
   "outputs": [],
   "source": [
    "# Part 1 - Data Preprocessing\n",
    "\n",
    "# Importing the libraries\n",
    "import numpy as np\n",
    "import matplotlib.pyplot as plt\n",
    "import pandas as pd\n",
    "import quandl\n",
    "\n",
    "%matplotlib inline\n",
    "pd.set_option('display.notebook_repr_html', False)\n",
    "pd.set_option('display.max_columns', 6)\n",
    "pd.set_option('display.max_rows', 10)\n",
    "pd.set_option('display.width', 78)\n",
    "pd.set_option('precision', 3)"
   ]
  },
  {
   "cell_type": "code",
   "execution_count": 2,
   "metadata": {},
   "outputs": [],
   "source": [
    "# Importing the training set\n",
    "dataset_train = pd.read_csv('./data/GSPC.csv')\n",
    "training_set = dataset_train.iloc[:, 1:2].values"
   ]
  },
  {
   "cell_type": "code",
   "execution_count": 3,
   "metadata": {},
   "outputs": [
    {
     "data": {
      "text/plain": [
       "         Date     Open     High     ...        Close  Adj Close      Volume\n",
       "0  2000-01-03  1469.25  1478.00     ...      1455.22    1455.22   931800000\n",
       "1  2000-01-04  1455.22  1455.22     ...      1399.42    1399.42  1009000000\n",
       "2  2000-01-05  1399.42  1413.27     ...      1402.11    1402.11  1085500000\n",
       "3  2000-01-06  1402.11  1411.90     ...      1403.45    1403.45  1092300000\n",
       "4  2000-01-07  1403.45  1441.47     ...      1441.47    1441.47  1225200000\n",
       "\n",
       "[5 rows x 7 columns]"
      ]
     },
     "execution_count": 3,
     "metadata": {},
     "output_type": "execute_result"
    }
   ],
   "source": [
    "dataset_train.head()\n"
   ]
  },
  {
   "cell_type": "code",
   "execution_count": 4,
   "metadata": {},
   "outputs": [],
   "source": [
    "# Feature Scaling\n",
    "from sklearn.preprocessing import MinMaxScaler\n",
    "sc = MinMaxScaler(feature_range = (0, 1))\n",
    "training_set_scaled = sc.fit_transform(training_set)"
   ]
  },
  {
   "cell_type": "code",
   "execution_count": 5,
   "metadata": {},
   "outputs": [],
   "source": [
    "# Creating a data structure with 60 timesteps and 1 output\n",
    "# Used all Historical data, 1200 and 800 Rows\n",
    "X_train = []\n",
    "y_train = []\n",
    "for i in range(60, 800):\n",
    "    X_train.append(training_set_scaled[i-60:i, 0])\n",
    "    y_train.append(training_set_scaled[i, 0])\n",
    "X_train, y_train = np.array(X_train), np.array(y_train)"
   ]
  },
  {
   "cell_type": "code",
   "execution_count": 6,
   "metadata": {},
   "outputs": [],
   "source": [
    "# Reshaping\n",
    "X_train = np.reshape(X_train, (X_train.shape[0], X_train.shape[1], 1))"
   ]
  },
  {
   "cell_type": "code",
   "execution_count": 7,
   "metadata": {},
   "outputs": [
    {
     "name": "stderr",
     "output_type": "stream",
     "text": [
      "Using TensorFlow backend.\n"
     ]
    }
   ],
   "source": [
    "# Part 2 - Building the RNN\n",
    "\n",
    "# Importing the Keras libraries and packages\n",
    "from keras.models import Sequential\n",
    "from keras.layers import Dense\n",
    "from keras.layers import LSTM\n",
    "from keras.layers import Dropout"
   ]
  },
  {
   "cell_type": "code",
   "execution_count": 8,
   "metadata": {},
   "outputs": [],
   "source": [
    "# Initialising the RNN\n",
    "regressor = Sequential()\n",
    "\n",
    "# Adding the first LSTM layer and some Dropout regularisation\n",
    "regressor.add(LSTM(units = 300, return_sequences = True, input_shape = (X_train.shape[1], 1)))\n",
    "regressor.add(Dropout(0.2))"
   ]
  },
  {
   "cell_type": "code",
   "execution_count": 9,
   "metadata": {},
   "outputs": [],
   "source": [
    "# Adding a second LSTM layer and some Dropout regularisation\n",
    "regressor.add(LSTM(units = 300, return_sequences = True))\n",
    "regressor.add(Dropout(0.2))"
   ]
  },
  {
   "cell_type": "code",
   "execution_count": 10,
   "metadata": {},
   "outputs": [],
   "source": [
    "\n",
    "# Adding a third LSTM layer and some Dropout regularisation\n",
    "regressor.add(LSTM(units = 300, return_sequences = True))\n",
    "regressor.add(Dropout(0.2))"
   ]
  },
  {
   "cell_type": "code",
   "execution_count": 11,
   "metadata": {},
   "outputs": [],
   "source": [
    "# Adding a fourth LSTM layer and some Dropout regularisation\n",
    "regressor.add(LSTM(units = 300))\n",
    "regressor.add(Dropout(0.2))\n"
   ]
  },
  {
   "cell_type": "code",
   "execution_count": 12,
   "metadata": {},
   "outputs": [
    {
     "name": "stdout",
     "output_type": "stream",
     "text": [
      "Epoch 1/100\n",
      "740/740 [==============================] - 44s 60ms/step - loss: 0.0183\n",
      "Epoch 2/100\n",
      "740/740 [==============================] - 47s 63ms/step - loss: 0.0023\n",
      "Epoch 3/100\n",
      "740/740 [==============================] - 50s 67ms/step - loss: 6.7420e-04\n",
      "Epoch 4/100\n",
      "740/740 [==============================] - 52s 70ms/step - loss: 6.1881e-04\n",
      "Epoch 5/100\n",
      "740/740 [==============================] - 51s 69ms/step - loss: 6.0277e-04\n",
      "Epoch 6/100\n",
      "740/740 [==============================] - 56s 76ms/step - loss: 6.0640e-04\n",
      "Epoch 7/100\n",
      "740/740 [==============================] - 54s 73ms/step - loss: 5.8746e-04\n",
      "Epoch 8/100\n",
      "740/740 [==============================] - 51s 68ms/step - loss: 6.5917e-04\n",
      "Epoch 9/100\n",
      "740/740 [==============================] - 52s 70ms/step - loss: 5.7227e-04\n",
      "Epoch 10/100\n",
      "740/740 [==============================] - 54s 73ms/step - loss: 5.6696e-04\n",
      "Epoch 11/100\n",
      "740/740 [==============================] - 54s 74ms/step - loss: 4.7704e-04\n",
      "Epoch 12/100\n",
      "740/740 [==============================] - 54s 73ms/step - loss: 4.9207e-04\n",
      "Epoch 13/100\n",
      "740/740 [==============================] - 54s 73ms/step - loss: 6.0595e-04\n",
      "Epoch 14/100\n",
      "740/740 [==============================] - 55s 74ms/step - loss: 4.3971e-04\n",
      "Epoch 15/100\n",
      "740/740 [==============================] - 60s 81ms/step - loss: 3.9970e-04\n",
      "Epoch 16/100\n",
      "740/740 [==============================] - 51s 69ms/step - loss: 4.3110e-04\n",
      "Epoch 17/100\n",
      "740/740 [==============================] - 50s 67ms/step - loss: 5.3759e-04\n",
      "Epoch 18/100\n",
      "740/740 [==============================] - 47s 63ms/step - loss: 4.5060e-04\n",
      "Epoch 19/100\n",
      "740/740 [==============================] - 45s 61ms/step - loss: 3.9907e-04\n",
      "Epoch 20/100\n",
      "740/740 [==============================] - 47s 63ms/step - loss: 4.7019e-04\n",
      "Epoch 21/100\n",
      "740/740 [==============================] - 47s 63ms/step - loss: 3.8216e-04\n",
      "Epoch 22/100\n",
      "740/740 [==============================] - 47s 64ms/step - loss: 3.9973e-04\n",
      "Epoch 23/100\n",
      "740/740 [==============================] - 47s 63ms/step - loss: 5.4146e-04\n",
      "Epoch 24/100\n",
      "740/740 [==============================] - 47s 63ms/step - loss: 3.8915e-04\n",
      "Epoch 25/100\n",
      "740/740 [==============================] - 47s 64ms/step - loss: 3.7058e-04\n",
      "Epoch 26/100\n",
      "740/740 [==============================] - 47s 64ms/step - loss: 4.4042e-04\n",
      "Epoch 27/100\n",
      "740/740 [==============================] - 47s 63ms/step - loss: 3.7001e-04\n",
      "Epoch 28/100\n",
      "740/740 [==============================] - 45s 60ms/step - loss: 4.0874e-04\n",
      "Epoch 29/100\n",
      "740/740 [==============================] - 47s 63ms/step - loss: 5.4342e-04\n",
      "Epoch 30/100\n",
      "740/740 [==============================] - 50s 68ms/step - loss: 3.5560e-04\n",
      "Epoch 31/100\n",
      "740/740 [==============================] - 49s 67ms/step - loss: 3.7716e-04\n",
      "Epoch 32/100\n",
      "740/740 [==============================] - 49s 66ms/step - loss: 3.2557e-04\n",
      "Epoch 33/100\n",
      "740/740 [==============================] - 49s 66ms/step - loss: 3.5251e-04\n",
      "Epoch 34/100\n",
      "740/740 [==============================] - 51s 68ms/step - loss: 3.0830e-04\n",
      "Epoch 35/100\n",
      "740/740 [==============================] - 51s 69ms/step - loss: 3.9474e-04\n",
      "Epoch 36/100\n",
      "740/740 [==============================] - 48s 65ms/step - loss: 4.2823e-04\n",
      "Epoch 37/100\n",
      "740/740 [==============================] - 45s 61ms/step - loss: 3.3285e-04\n",
      "Epoch 38/100\n",
      "740/740 [==============================] - 48s 64ms/step - loss: 3.5005e-04\n",
      "Epoch 39/100\n",
      "740/740 [==============================] - 47s 63ms/step - loss: 3.3820e-04\n",
      "Epoch 40/100\n",
      "740/740 [==============================] - 45s 61ms/step - loss: 3.9754e-04\n",
      "Epoch 41/100\n",
      "740/740 [==============================] - 47s 64ms/step - loss: 3.4499e-04\n",
      "Epoch 42/100\n",
      "740/740 [==============================] - 46s 63ms/step - loss: 3.6007e-04\n",
      "Epoch 43/100\n",
      "740/740 [==============================] - 46s 62ms/step - loss: 3.1457e-04\n",
      "Epoch 44/100\n",
      "740/740 [==============================] - 47s 64ms/step - loss: 3.7690e-04\n",
      "Epoch 45/100\n",
      "740/740 [==============================] - 46s 62ms/step - loss: 3.3595e-04\n",
      "Epoch 46/100\n",
      "740/740 [==============================] - 46s 63ms/step - loss: 2.9294e-04\n",
      "Epoch 47/100\n",
      "740/740 [==============================] - 47s 63ms/step - loss: 2.7201e-04\n",
      "Epoch 48/100\n",
      "740/740 [==============================] - 47s 63ms/step - loss: 2.6035e-04\n",
      "Epoch 49/100\n",
      "740/740 [==============================] - 50s 68ms/step - loss: 3.5109e-04\n",
      "Epoch 50/100\n",
      "740/740 [==============================] - 50s 68ms/step - loss: 2.9473e-04\n",
      "Epoch 51/100\n",
      "740/740 [==============================] - 50s 67ms/step - loss: 2.6882e-04\n",
      "Epoch 52/100\n",
      "740/740 [==============================] - 51s 68ms/step - loss: 2.7663e-04\n",
      "Epoch 53/100\n",
      "740/740 [==============================] - 48s 65ms/step - loss: 2.9603e-04\n",
      "Epoch 54/100\n",
      "740/740 [==============================] - 50s 67ms/step - loss: 5.7992e-04\n",
      "Epoch 55/100\n",
      "740/740 [==============================] - 48s 65ms/step - loss: 3.1019e-04\n",
      "Epoch 56/100\n",
      "740/740 [==============================] - 47s 64ms/step - loss: 3.4602e-04\n",
      "Epoch 57/100\n",
      "740/740 [==============================] - 48s 65ms/step - loss: 2.5445e-04\n",
      "Epoch 58/100\n",
      "740/740 [==============================] - 46s 61ms/step - loss: 3.1461e-04\n",
      "Epoch 59/100\n",
      "740/740 [==============================] - 47s 64ms/step - loss: 2.7183e-04\n",
      "Epoch 60/100\n",
      "740/740 [==============================] - 45s 61ms/step - loss: 2.9108e-04\n",
      "Epoch 61/100\n",
      "740/740 [==============================] - 50s 68ms/step - loss: 2.8716e-04\n",
      "Epoch 62/100\n",
      "740/740 [==============================] - 47s 63ms/step - loss: 2.7091e-04\n",
      "Epoch 63/100\n",
      "740/740 [==============================] - 48s 64ms/step - loss: 3.2402e-04\n",
      "Epoch 64/100\n",
      "740/740 [==============================] - 50s 67ms/step - loss: 2.7775e-04\n",
      "Epoch 65/100\n",
      "740/740 [==============================] - 45s 61ms/step - loss: 2.6481e-04\n",
      "Epoch 66/100\n",
      "740/740 [==============================] - 49s 66ms/step - loss: 2.5905e-04\n",
      "Epoch 67/100\n",
      "740/740 [==============================] - 48s 65ms/step - loss: 2.7340e-04\n",
      "Epoch 68/100\n",
      "740/740 [==============================] - 52s 70ms/step - loss: 3.1998e-04\n",
      "Epoch 69/100\n",
      "740/740 [==============================] - 49s 66ms/step - loss: 2.8856e-04\n",
      "Epoch 70/100\n",
      "740/740 [==============================] - 52s 71ms/step - loss: 2.7571e-04\n",
      "Epoch 71/100\n",
      "740/740 [==============================] - 50s 68ms/step - loss: 2.4727e-04\n",
      "Epoch 72/100\n",
      "740/740 [==============================] - 54s 73ms/step - loss: 2.3208e-04\n",
      "Epoch 73/100\n",
      "740/740 [==============================] - 53s 72ms/step - loss: 2.3057e-04\n",
      "Epoch 74/100\n",
      "740/740 [==============================] - 48s 64ms/step - loss: 2.3352e-04\n",
      "Epoch 75/100\n",
      "740/740 [==============================] - 48s 65ms/step - loss: 2.2970e-04\n",
      "Epoch 76/100\n",
      "740/740 [==============================] - 48s 65ms/step - loss: 2.4531e-04\n",
      "Epoch 77/100\n",
      "740/740 [==============================] - 48s 65ms/step - loss: 2.8591e-04\n",
      "Epoch 78/100\n",
      "740/740 [==============================] - 45s 61ms/step - loss: 2.4513e-04\n",
      "Epoch 79/100\n",
      "740/740 [==============================] - 48s 65ms/step - loss: 2.3108e-04\n",
      "Epoch 80/100\n",
      "740/740 [==============================] - 45s 60ms/step - loss: 2.9413e-04\n",
      "Epoch 81/100\n",
      "740/740 [==============================] - 47s 63ms/step - loss: 2.5490e-04\n",
      "Epoch 82/100\n",
      "740/740 [==============================] - 45s 61ms/step - loss: 2.3078e-04\n",
      "Epoch 83/100\n",
      "740/740 [==============================] - 47s 63ms/step - loss: 2.2297e-04\n",
      "Epoch 84/100\n",
      "740/740 [==============================] - 47s 64ms/step - loss: 2.2128e-04\n",
      "Epoch 85/100\n",
      "740/740 [==============================] - 45s 61ms/step - loss: 2.4904e-04\n",
      "Epoch 86/100\n",
      "740/740 [==============================] - 50s 67ms/step - loss: 2.1591e-04\n",
      "Epoch 87/100\n",
      "740/740 [==============================] - 51s 69ms/step - loss: 2.1518e-04\n",
      "Epoch 88/100\n",
      "740/740 [==============================] - 52s 70ms/step - loss: 2.3546e-04\n",
      "Epoch 89/100\n",
      "740/740 [==============================] - 50s 68ms/step - loss: 1.9189e-04\n",
      "Epoch 90/100\n",
      "740/740 [==============================] - 53s 71ms/step - loss: 2.3117e-04\n",
      "Epoch 91/100\n",
      "740/740 [==============================] - 51s 69ms/step - loss: 2.2080e-04\n",
      "Epoch 92/100\n",
      "740/740 [==============================] - 48s 65ms/step - loss: 2.0019e-04\n",
      "Epoch 93/100\n"
     ]
    },
    {
     "name": "stdout",
     "output_type": "stream",
     "text": [
      "740/740 [==============================] - 49s 66ms/step - loss: 1.9413e-04\n",
      "Epoch 94/100\n",
      "740/740 [==============================] - 46s 63ms/step - loss: 1.8487e-04\n",
      "Epoch 95/100\n",
      "740/740 [==============================] - 48s 64ms/step - loss: 1.9958e-04\n",
      "Epoch 96/100\n",
      "740/740 [==============================] - 49s 67ms/step - loss: 2.2884e-04\n",
      "Epoch 97/100\n",
      "740/740 [==============================] - 49s 66ms/step - loss: 2.3010e-04\n",
      "Epoch 98/100\n",
      "740/740 [==============================] - 51s 69ms/step - loss: 2.3655e-04\n",
      "Epoch 99/100\n",
      "740/740 [==============================] - 56s 76ms/step - loss: 2.0971e-04\n",
      "Epoch 100/100\n",
      "740/740 [==============================] - 85s 115ms/step - loss: 2.1097e-04\n"
     ]
    },
    {
     "data": {
      "text/plain": [
       "<keras.callbacks.History at 0x1dd16d98ba8>"
      ]
     },
     "execution_count": 12,
     "metadata": {},
     "output_type": "execute_result"
    }
   ],
   "source": [
    "# Adding the output layer\n",
    "regressor.add(Dense(units = 1))\n",
    "\n",
    "# Compiling the RNN\n",
    "regressor.compile(optimizer = 'adam', loss = 'mean_squared_error')\n",
    "\n",
    "# Fitting the RNN to the Training set\n",
    "regressor.fit(X_train, y_train, epochs = 100, batch_size = 32)\n",
    "\n"
   ]
  },
  {
   "cell_type": "code",
   "execution_count": 13,
   "metadata": {},
   "outputs": [],
   "source": [
    "# Part 3 - Making the predictions and visualising the results\n",
    "\n",
    "# Getting the real stock price of Apr - Nov 2018\n",
    "dataset_test = pd.read_csv('./data/GSPC18.csv')\n",
    "real_stock_price = dataset_test.iloc[:, 1:2].values"
   ]
  },
  {
   "cell_type": "code",
   "execution_count": 14,
   "metadata": {},
   "outputs": [],
   "source": [
    "# Getting the predicted stock price of 2018\n",
    "dataset_total = pd.concat((dataset_train['Open'], dataset_test['Open']), axis = 0)\n",
    "inputs = dataset_total[len(dataset_total) - len(dataset_test) - 60:].values\n",
    "inputs = inputs.reshape(-1,1)\n",
    "inputs = sc.transform(inputs)\n",
    "X_test = []\n",
    "for i in range(60, 220):\n",
    "    X_test.append(inputs[i-60:i, 0])\n",
    "X_test = np.array(X_test)\n",
    "X_test = np.reshape(X_test, (X_test.shape[0], X_test.shape[1], 1))\n",
    "predicted_stock_price = regressor.predict(X_test)\n",
    "predicted_stock_price = sc.inverse_transform(predicted_stock_price)\n"
   ]
  },
  {
   "cell_type": "code",
   "execution_count": 15,
   "metadata": {},
   "outputs": [
    {
     "data": {
      "image/png": "[encoded data removed]",
      "text/plain": [
       "<Figure size 432x288 with 1 Axes>"
      ]
     },
     "metadata": {},
     "output_type": "display_data"
    }
   ],
   "source": [
    "# Visualising the results\n",
    "plt.plot(real_stock_price, color = 'red', label = 'Real SP500 Price')\n",
    "plt.plot(predicted_stock_price, color = 'blue', label = 'Predicted SP500 Stock Price')\n",
    "plt.title('SP500 Stock Price Prediction')\n",
    "plt.xlabel('Time')\n",
    "plt.ylabel('SP500 Stock Price')\n",
    "plt.legend()\n",
    "plt.rcParams['figure.figsize'] = (12,9)\n",
    "plt.show()"
   ]
  },
  {
   "cell_type": "code",
   "execution_count": null,
   "metadata": {},
   "outputs": [],
   "source": []
  }
 ],
 "metadata": {
  "kernelspec": {
   "display_name": "Python 3",
   "language": "python",
   "name": "python3"
  },
  "language_info": {
   "codemirror_mode": {
    "name": "ipython",
    "version": 3
   },
   "file_extension": ".py",
   "mimetype": "text/x-python",
   "name": "python",
   "nbconvert_exporter": "python",
   "pygments_lexer": "ipython3",
   "version": "3.6.5"
  },
  "toc": {
   "base_numbering": 1,
   "nav_menu": {},
   "number_sections": true,
   "sideBar": true,
   "skip_h1_title": false,
   "title_cell": "Table of Contents",
   "title_sidebar": "Contents",
   "toc_cell": false,
   "toc_position": {},
   "toc_section_display": true,
   "toc_window_display": false
  },
  "varInspector": {
   "cols": {
    "lenName": 16,
    "lenType": 16,
    "lenVar": 40
   },
   "kernels_config": {
    "python": {
     "delete_cmd_postfix": "",
     "delete_cmd_prefix": "del ",
     "library": "var_list.py",
     "varRefreshCmd": "print(var_dic_list())"
    },
    "r": {
     "delete_cmd_postfix": ") ",
     "delete_cmd_prefix": "rm(",
     "library": "var_list.r",
     "varRefreshCmd": "cat(var_dic_list()) "
    }
   },
   "types_to_exclude": [
    "module",
    "function",
    "builtin_function_or_method",
    "instance",
    "_Feature"
   ],
   "window_display": false
  }
 },
 "nbformat": 4,
 "nbformat_minor": 2
}
