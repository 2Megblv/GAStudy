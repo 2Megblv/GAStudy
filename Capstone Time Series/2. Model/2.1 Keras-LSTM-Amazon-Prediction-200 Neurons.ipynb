{
 "cells": [
  {
   "cell_type": "markdown",
   "metadata": {},
   "source": [
    "# Stock Prices Prediction Using Keras Long Term Short Memory - Amazon\n"
   ]
  },
  {
   "cell_type": "code",
   "execution_count": 2,
   "metadata": {},
   "outputs": [],
   "source": [
    "# Part 1 - Data Preprocessing\n",
    "\n",
    "# Importing the libraries\n",
    "import numpy as np\n",
    "import matplotlib.pyplot as plt\n",
    "import pandas as pd\n",
    "import quandl\n",
    "\n",
    "%matplotlib inline\n",
    "pd.set_option('display.notebook_repr_html', False)\n",
    "pd.set_option('display.max_columns', 6)\n",
    "pd.set_option('display.max_rows', 10)\n",
    "pd.set_option('display.width', 78)\n",
    "pd.set_option('precision', 3)"
   ]
  },
  {
   "cell_type": "code",
   "execution_count": 3,
   "metadata": {},
   "outputs": [
    {
     "name": "stdout",
     "output_type": "stream",
     "text": [
      "             Open   High    Low     ...       Adj. Low  Adj. Close  \\\n",
      "Date                                ...                              \n",
      "1997-05-16  22.38  23.75  20.50     ...          1.708       1.729   \n",
      "1997-05-19  20.50  21.25  19.50     ...          1.625       1.708   \n",
      "1997-05-20  20.75  21.00  19.63     ...          1.636       1.636   \n",
      "1997-05-21  19.25  19.75  16.50     ...          1.375       1.427   \n",
      "1997-05-22  17.25  17.38  15.75     ...          1.312       1.396   \n",
      "\n",
      "            Adj. Volume  \n",
      "Date                     \n",
      "1997-05-16    1.470e+07  \n",
      "1997-05-19    6.107e+06  \n",
      "1997-05-20    5.467e+06  \n",
      "1997-05-21    1.885e+07  \n",
      "1997-05-22    1.178e+07  \n",
      "\n",
      "[5 rows x 12 columns]\n"
     ]
    }
   ],
   "source": [
    "df = quandl.get('WIKI/AMZN')\n",
    "\n",
    "print(df.head())"
   ]
  },
  {
   "cell_type": "code",
   "execution_count": 4,
   "metadata": {},
   "outputs": [
    {
     "data": {
      "text/plain": [
       "Index(['Open', 'High', 'Low', 'Close', 'Volume', 'Ex-Dividend',\n",
       "       'Split Ratio', 'Adj. Open', 'Adj. High', 'Adj. Low', 'Adj. Close',\n",
       "       'Adj. Volume'],\n",
       "      dtype='object')"
      ]
     },
     "execution_count": 4,
     "metadata": {},
     "output_type": "execute_result"
    }
   ],
   "source": [
    "df.columns"
   ]
  },
  {
   "cell_type": "code",
   "execution_count": 5,
   "metadata": {
    "scrolled": true
   },
   "outputs": [
    {
     "data": {
      "text/plain": [
       "               Open     High      Low    Close     Volume  Adj. Close\n",
       "Date                                                                 \n",
       "1997-05-16    22.38    23.75    20.50    20.75  1.225e+06       1.729\n",
       "1997-05-19    20.50    21.25    19.50    20.50  5.089e+05       1.708\n",
       "1997-05-20    20.75    21.00    19.63    19.63  4.556e+05       1.636\n",
       "1997-05-21    19.25    19.75    16.50    17.13  1.571e+06       1.427\n",
       "1997-05-22    17.25    17.38    15.75    16.75  9.814e+05       1.396\n",
       "...             ...      ...      ...      ...        ...         ...\n",
       "2018-03-21  1586.45  1590.00  1563.17  1581.86  4.667e+06    1581.860\n",
       "2018-03-22  1565.47  1573.85  1542.40  1544.10  6.178e+06    1544.100\n",
       "2018-03-23  1539.01  1549.02  1495.36  1495.56  7.844e+06    1495.560\n",
       "2018-03-26  1530.00  1556.99  1499.25  1555.86  5.548e+06    1555.860\n",
       "2018-03-27  1572.40  1575.96  1482.32  1497.05  6.793e+06    1497.050\n",
       "\n",
       "[5248 rows x 6 columns]"
      ]
     },
     "execution_count": 5,
     "metadata": {},
     "output_type": "execute_result"
    }
   ],
   "source": [
    "df.drop(['Ex-Dividend','Split Ratio', 'Adj. Open', 'Adj. High', 'Adj. Low', 'Adj. Volume'], axis=1)"
   ]
  },
  {
   "cell_type": "code",
   "execution_count": 6,
   "metadata": {},
   "outputs": [],
   "source": [
    "df.to_csv('./data/AMZN.csv')"
   ]
  },
  {
   "cell_type": "code",
   "execution_count": 7,
   "metadata": {},
   "outputs": [],
   "source": [
    "# Importing the training set\n",
    "dataset_train = pd.read_csv('./data/AMZN.csv')\n",
    "training_set = dataset_train.iloc[:, 1:2].values"
   ]
  },
  {
   "cell_type": "code",
   "execution_count": 8,
   "metadata": {},
   "outputs": [
    {
     "data": {
      "text/plain": [
       "         Date   Open   High     ...       Adj. Low  Adj. Close  Adj. Volume\n",
       "0  1997-05-16  22.38  23.75     ...          1.708       1.729    1.470e+07\n",
       "1  1997-05-19  20.50  21.25     ...          1.625       1.708    6.107e+06\n",
       "2  1997-05-20  20.75  21.00     ...          1.636       1.636    5.467e+06\n",
       "3  1997-05-21  19.25  19.75     ...          1.375       1.427    1.885e+07\n",
       "4  1997-05-22  17.25  17.38     ...          1.312       1.396    1.178e+07\n",
       "\n",
       "[5 rows x 13 columns]"
      ]
     },
     "execution_count": 8,
     "metadata": {},
     "output_type": "execute_result"
    }
   ],
   "source": [
    "dataset_train.head()\n"
   ]
  },
  {
   "cell_type": "code",
   "execution_count": 9,
   "metadata": {},
   "outputs": [],
   "source": [
    "# Feature Scaling\n",
    "from sklearn.preprocessing import MinMaxScaler\n",
    "sc = MinMaxScaler(feature_range = (0, 1))\n",
    "training_set_scaled = sc.fit_transform(training_set)"
   ]
  },
  {
   "cell_type": "code",
   "execution_count": 10,
   "metadata": {},
   "outputs": [],
   "source": [
    "# Creating a data structure with 60 timesteps and 1 output\n",
    "# Tried All data point, 1500, 900\n",
    "X_train = []\n",
    "y_train = []\n",
    "for i in range(60, 900):\n",
    "    X_train.append(training_set_scaled[i-60:i, 0])\n",
    "    y_train.append(training_set_scaled[i, 0])\n",
    "X_train, y_train = np.array(X_train), np.array(y_train)"
   ]
  },
  {
   "cell_type": "code",
   "execution_count": 11,
   "metadata": {},
   "outputs": [],
   "source": [
    "# Reshaping\n",
    "X_train = np.reshape(X_train, (X_train.shape[0], X_train.shape[1], 1))"
   ]
  },
  {
   "cell_type": "code",
   "execution_count": 12,
   "metadata": {},
   "outputs": [
    {
     "name": "stderr",
     "output_type": "stream",
     "text": [
      "Using TensorFlow backend.\n"
     ]
    }
   ],
   "source": [
    "# Part 2 - Building the RNN\n",
    "\n",
    "# Importing the Keras libraries and packages\n",
    "from keras.models import Sequential\n",
    "from keras.layers import Dense\n",
    "from keras.layers import LSTM\n",
    "from keras.layers import Dropout"
   ]
  },
  {
   "cell_type": "code",
   "execution_count": 13,
   "metadata": {},
   "outputs": [],
   "source": [
    "# Initialising the RNN\n",
    "regressor = Sequential()\n",
    "\n",
    "# Adding the first LSTM layer and some Dropout regularisation\n",
    "regressor.add(LSTM(units = 200, return_sequences = True, input_shape = (X_train.shape[1], 1)))\n",
    "regressor.add(Dropout(0.2))"
   ]
  },
  {
   "cell_type": "code",
   "execution_count": 14,
   "metadata": {},
   "outputs": [],
   "source": [
    "# Adding a second LSTM layer and some Dropout regularisation\n",
    "regressor.add(LSTM(units = 200, return_sequences = True))\n",
    "regressor.add(Dropout(0.2))"
   ]
  },
  {
   "cell_type": "code",
   "execution_count": 15,
   "metadata": {},
   "outputs": [],
   "source": [
    "\n",
    "# Adding a third LSTM layer and some Dropout regularisation\n",
    "regressor.add(LSTM(units = 200, return_sequences = True))\n",
    "regressor.add(Dropout(0.2))"
   ]
  },
  {
   "cell_type": "code",
   "execution_count": 16,
   "metadata": {},
   "outputs": [],
   "source": [
    "# Adding a fourth LSTM layer and some Dropout regularisation\n",
    "regressor.add(LSTM(units = 200))\n",
    "regressor.add(Dropout(0.2))\n"
   ]
  },
  {
   "cell_type": "code",
   "execution_count": 17,
   "metadata": {},
   "outputs": [
    {
     "name": "stdout",
     "output_type": "stream",
     "text": [
      "Epoch 1/100\n",
      "840/840 [==============================] - 23s 28ms/step - loss: 8.7210e-04\n",
      "Epoch 2/100\n",
      "840/840 [==============================] - 25s 30ms/step - loss: 6.9517e-04\n",
      "Epoch 3/100\n",
      "840/840 [==============================] - 24s 28ms/step - loss: 2.9642e-04\n",
      "Epoch 4/100\n",
      "840/840 [==============================] - 27s 33ms/step - loss: 2.8304e-04\n",
      "Epoch 5/100\n",
      "840/840 [==============================] - 28s 33ms/step - loss: 2.5135e-04\n",
      "Epoch 6/100\n",
      "840/840 [==============================] - 28s 34ms/step - loss: 2.1392e-04\n",
      "Epoch 7/100\n",
      "840/840 [==============================] - 25s 30ms/step - loss: 1.9205e-04\n",
      "Epoch 8/100\n",
      "840/840 [==============================] - 25s 30ms/step - loss: 1.8725e-04\n",
      "Epoch 9/100\n",
      "840/840 [==============================] - 30s 36ms/step - loss: 1.8279e-04\n",
      "Epoch 10/100\n",
      "840/840 [==============================] - 38s 46ms/step - loss: 1.6491e-04\n",
      "Epoch 11/100\n",
      "840/840 [==============================] - 37s 44ms/step - loss: 1.5001e-04\n",
      "Epoch 12/100\n",
      "840/840 [==============================] - 33s 39ms/step - loss: 1.6090e-04\n",
      "Epoch 13/100\n",
      "840/840 [==============================] - 31s 37ms/step - loss: 1.4123e-04\n",
      "Epoch 14/100\n",
      "840/840 [==============================] - 30s 35ms/step - loss: 1.4179e-04\n",
      "Epoch 15/100\n",
      "840/840 [==============================] - 32s 38ms/step - loss: 1.4500e-04\n",
      "Epoch 16/100\n",
      "840/840 [==============================] - 33s 39ms/step - loss: 1.5412e-04\n",
      "Epoch 17/100\n",
      "840/840 [==============================] - 33s 40ms/step - loss: 1.4475e-04\n",
      "Epoch 18/100\n",
      "840/840 [==============================] - 31s 37ms/step - loss: 1.4228e-04\n",
      "Epoch 19/100\n",
      "840/840 [==============================] - 33s 39ms/step - loss: 1.4243e-04\n",
      "Epoch 20/100\n",
      "840/840 [==============================] - 34s 40ms/step - loss: 1.2618e-04\n",
      "Epoch 21/100\n",
      "840/840 [==============================] - 34s 40ms/step - loss: 9.2312e-05\n",
      "Epoch 22/100\n",
      "840/840 [==============================] - 30s 36ms/step - loss: 1.1545e-04\n",
      "Epoch 23/100\n",
      "840/840 [==============================] - 33s 39ms/step - loss: 1.1917e-04\n",
      "Epoch 24/100\n",
      "840/840 [==============================] - 30s 36ms/step - loss: 1.0266e-04\n",
      "Epoch 25/100\n",
      "840/840 [==============================] - 28s 33ms/step - loss: 1.0391e-04\n",
      "Epoch 26/100\n",
      "840/840 [==============================] - 29s 34ms/step - loss: 1.0289e-04\n",
      "Epoch 27/100\n",
      "840/840 [==============================] - 29s 34ms/step - loss: 1.0619e-04\n",
      "Epoch 28/100\n",
      "840/840 [==============================] - 27s 33ms/step - loss: 1.3657e-04\n",
      "Epoch 29/100\n",
      "840/840 [==============================] - 28s 33ms/step - loss: 1.0847e-04\n",
      "Epoch 30/100\n",
      "840/840 [==============================] - 26s 31ms/step - loss: 1.1090e-04\n",
      "Epoch 31/100\n",
      "840/840 [==============================] - 25s 30ms/step - loss: 1.0207e-04\n",
      "Epoch 32/100\n",
      "840/840 [==============================] - 25s 30ms/step - loss: 1.3660e-04\n",
      "Epoch 33/100\n",
      "840/840 [==============================] - 26s 31ms/step - loss: 9.5684e-05\n",
      "Epoch 34/100\n",
      "840/840 [==============================] - 25s 30ms/step - loss: 9.3069e-05\n",
      "Epoch 35/100\n",
      "840/840 [==============================] - 25s 30ms/step - loss: 9.9008e-05\n",
      "Epoch 36/100\n",
      "840/840 [==============================] - 26s 30ms/step - loss: 8.4812e-05\n",
      "Epoch 37/100\n",
      "840/840 [==============================] - 28s 33ms/step - loss: 8.0099e-05\n",
      "Epoch 38/100\n",
      "840/840 [==============================] - 25s 30ms/step - loss: 1.0212e-04\n",
      "Epoch 39/100\n",
      "840/840 [==============================] - 25s 30ms/step - loss: 1.1355e-04\n",
      "Epoch 40/100\n",
      "840/840 [==============================] - 25s 30ms/step - loss: 8.2806e-05\n",
      "Epoch 41/100\n",
      "840/840 [==============================] - 25s 30ms/step - loss: 8.9158e-05\n",
      "Epoch 42/100\n",
      "840/840 [==============================] - 25s 30ms/step - loss: 9.9045e-05\n",
      "Epoch 43/100\n",
      "840/840 [==============================] - 25s 30ms/step - loss: 8.3913e-05\n",
      "Epoch 44/100\n",
      "840/840 [==============================] - 25s 30ms/step - loss: 7.6333e-05\n",
      "Epoch 45/100\n",
      "840/840 [==============================] - 25s 30ms/step - loss: 9.6557e-05\n",
      "Epoch 46/100\n",
      "840/840 [==============================] - 25s 30ms/step - loss: 9.6948e-05\n",
      "Epoch 47/100\n",
      "840/840 [==============================] - 25s 30ms/step - loss: 1.0135e-04\n",
      "Epoch 48/100\n",
      "840/840 [==============================] - 25s 30ms/step - loss: 9.7214e-05\n",
      "Epoch 49/100\n",
      "840/840 [==============================] - 25s 29ms/step - loss: 1.0560e-04\n",
      "Epoch 50/100\n",
      "840/840 [==============================] - 25s 30ms/step - loss: 8.2144e-05\n",
      "Epoch 51/100\n",
      "840/840 [==============================] - 28s 33ms/step - loss: 8.7200e-05\n",
      "Epoch 52/100\n",
      "840/840 [==============================] - 24s 29ms/step - loss: 8.0958e-05\n",
      "Epoch 53/100\n",
      "840/840 [==============================] - 25s 30ms/step - loss: 8.6326e-05\n",
      "Epoch 54/100\n",
      "840/840 [==============================] - 25s 30ms/step - loss: 9.3894e-05\n",
      "Epoch 55/100\n",
      "840/840 [==============================] - 23s 28ms/step - loss: 7.5571e-05\n",
      "Epoch 56/100\n",
      "840/840 [==============================] - 24s 29ms/step - loss: 9.2763e-05\n",
      "Epoch 57/100\n",
      "840/840 [==============================] - 26s 31ms/step - loss: 8.5231e-05\n",
      "Epoch 58/100\n",
      "840/840 [==============================] - 26s 31ms/step - loss: 8.7635e-05\n",
      "Epoch 59/100\n",
      "840/840 [==============================] - 25s 30ms/step - loss: 9.5287e-05\n",
      "Epoch 60/100\n",
      "840/840 [==============================] - 25s 30ms/step - loss: 8.7254e-05\n",
      "Epoch 61/100\n",
      "840/840 [==============================] - 23s 27ms/step - loss: 9.1961e-05\n",
      "Epoch 62/100\n",
      "840/840 [==============================] - 25s 30ms/step - loss: 9.8111e-05\n",
      "Epoch 63/100\n",
      "840/840 [==============================] - 25s 30ms/step - loss: 6.2257e-05\n",
      "Epoch 64/100\n",
      "840/840 [==============================] - 28s 33ms/step - loss: 8.7641e-05\n",
      "Epoch 65/100\n",
      "840/840 [==============================] - 27s 33ms/step - loss: 9.3143e-05\n",
      "Epoch 66/100\n",
      "840/840 [==============================] - 26s 32ms/step - loss: 7.7705e-05\n",
      "Epoch 67/100\n",
      "840/840 [==============================] - 27s 32ms/step - loss: 7.5110e-05\n",
      "Epoch 68/100\n",
      "840/840 [==============================] - 27s 32ms/step - loss: 6.2667e-05\n",
      "Epoch 69/100\n",
      "840/840 [==============================] - 26s 31ms/step - loss: 7.4765e-05\n",
      "Epoch 70/100\n",
      "840/840 [==============================] - 30s 36ms/step - loss: 7.6860e-05\n",
      "Epoch 71/100\n",
      "840/840 [==============================] - 28s 33ms/step - loss: 8.7542e-05\n",
      "Epoch 72/100\n",
      "840/840 [==============================] - 27s 32ms/step - loss: 7.7066e-05\n",
      "Epoch 73/100\n",
      "840/840 [==============================] - 25s 30ms/step - loss: 7.4386e-05\n",
      "Epoch 74/100\n",
      "840/840 [==============================] - 25s 30ms/step - loss: 7.9027e-05\n",
      "Epoch 75/100\n",
      "840/840 [==============================] - 25s 30ms/step - loss: 7.8144e-05\n",
      "Epoch 76/100\n",
      "840/840 [==============================] - 25s 30ms/step - loss: 1.0175e-04\n",
      "Epoch 77/100\n",
      "840/840 [==============================] - 25s 30ms/step - loss: 7.8487e-05\n",
      "Epoch 78/100\n",
      "840/840 [==============================] - 25s 30ms/step - loss: 7.0192e-05\n",
      "Epoch 79/100\n",
      "840/840 [==============================] - 25s 30ms/step - loss: 7.6947e-05\n",
      "Epoch 80/100\n",
      "840/840 [==============================] - 25s 29ms/step - loss: 7.8116e-05\n",
      "Epoch 81/100\n",
      "840/840 [==============================] - 26s 30ms/step - loss: 7.6763e-05\n",
      "Epoch 82/100\n",
      "840/840 [==============================] - 26s 31ms/step - loss: 7.5788e-05\n",
      "Epoch 83/100\n",
      "840/840 [==============================] - 25s 29ms/step - loss: 6.8978e-05\n",
      "Epoch 84/100\n",
      "840/840 [==============================] - 25s 30ms/step - loss: 9.0915e-05\n",
      "Epoch 85/100\n",
      "840/840 [==============================] - 25s 30ms/step - loss: 7.4062e-05\n",
      "Epoch 86/100\n",
      "840/840 [==============================] - 27s 32ms/step - loss: 7.0258e-05\n",
      "Epoch 87/100\n",
      "840/840 [==============================] - 23s 27ms/step - loss: 6.1489e-05\n",
      "Epoch 88/100\n",
      "840/840 [==============================] - 25s 30ms/step - loss: 7.9837e-05\n",
      "Epoch 89/100\n",
      "840/840 [==============================] - 28s 33ms/step - loss: 7.0241e-05\n",
      "Epoch 90/100\n",
      "840/840 [==============================] - 26s 30ms/step - loss: 7.7265e-05\n",
      "Epoch 91/100\n",
      "840/840 [==============================] - 25s 30ms/step - loss: 8.4393e-05\n",
      "Epoch 92/100\n",
      "840/840 [==============================] - 24s 29ms/step - loss: 7.7259e-05\n",
      "Epoch 93/100\n",
      "840/840 [==============================] - 25s 30ms/step - loss: 8.6018e-05\n",
      "Epoch 94/100\n",
      "840/840 [==============================] - 23s 27ms/step - loss: 6.7775e-05\n",
      "Epoch 95/100\n",
      "840/840 [==============================] - 25s 30ms/step - loss: 1.1516e-04\n",
      "Epoch 96/100\n",
      "840/840 [==============================] - 24s 29ms/step - loss: 7.2675e-05\n",
      "Epoch 97/100\n",
      "840/840 [==============================] - 25s 29ms/step - loss: 9.1486e-05\n",
      "Epoch 98/100\n",
      "840/840 [==============================] - 28s 33ms/step - loss: 6.4202e-05\n",
      "Epoch 99/100\n",
      "840/840 [==============================] - 27s 32ms/step - loss: 7.2622e-05\n",
      "Epoch 100/100\n",
      "840/840 [==============================] - 29s 35ms/step - loss: 7.1167e-05\n"
     ]
    },
    {
     "data": {
      "text/plain": [
       "<keras.callbacks.History at 0x1b84be9a208>"
      ]
     },
     "execution_count": 17,
     "metadata": {},
     "output_type": "execute_result"
    }
   ],
   "source": [
    "# Adding the output layer\n",
    "regressor.add(Dense(units = 1))\n",
    "\n",
    "# Compiling the RNN\n",
    "regressor.compile(optimizer = 'adam', loss = 'mean_squared_error')\n",
    "\n",
    "# Fitting the RNN to the Training set\n",
    "regressor.fit(X_train, y_train, epochs = 100, batch_size = 32)\n",
    "\n"
   ]
  },
  {
   "cell_type": "code",
   "execution_count": 18,
   "metadata": {},
   "outputs": [],
   "source": [
    "# Part 3 - Making the predictions and visualising the results\n",
    "\n",
    "# Getting the real stock price of Apr - Nov 2018\n",
    "dataset_test = pd.read_csv('./data/AMZN18.csv')\n",
    "real_stock_price = dataset_test.iloc[:, 1:2].values"
   ]
  },
  {
   "cell_type": "code",
   "execution_count": 19,
   "metadata": {},
   "outputs": [],
   "source": [
    "# Getting the predicted stock price of 2018\n",
    "dataset_total = pd.concat((dataset_train['Open'], dataset_test['Open']), axis = 0)\n",
    "inputs = dataset_total[len(dataset_total) - len(dataset_test) - 60:].values\n",
    "inputs = inputs.reshape(-1,1)\n",
    "inputs = sc.transform(inputs)\n",
    "X_test = []\n",
    "for i in range(60, 468):\n",
    "    X_test.append(inputs[i-60:i, 0])\n",
    "X_test = np.array(X_test)\n",
    "X_test = np.reshape(X_test, (X_test.shape[0], X_test.shape[1], 1))\n",
    "predicted_stock_price = regressor.predict(X_test)\n",
    "predicted_stock_price = sc.inverse_transform(predicted_stock_price)\n"
   ]
  },
  {
   "cell_type": "code",
   "execution_count": 22,
   "metadata": {},
   "outputs": [
    {
     "data": {
      "image/png": "[encoded data removed]",
      "text/plain": [
       "<Figure size 864x648 with 1 Axes>"
      ]
     },
     "metadata": {},
     "output_type": "display_data"
    }
   ],
   "source": [
    "# Visualising the results\n",
    "plt.plot(real_stock_price, color = 'red', label = 'Real Amazon Stock Price')\n",
    "plt.plot(predicted_stock_price, color = 'blue', label = 'Predicted AMZN Stock Price')\n",
    "plt.title('AMZN Stock Price Prediction')\n",
    "plt.xlabel('Time')\n",
    "plt.ylabel('AMZN Stock Price')\n",
    "plt.legend()\n",
    "plt.rcParams['figure.figsize'] = (16,9)\n",
    "plt.show()"
   ]
  },
  {
   "cell_type": "code",
   "execution_count": 21,
   "metadata": {},
   "outputs": [],
   "source": [
    "import pandashells"
   ]
  },
  {
   "cell_type": "code",
   "execution_count": null,
   "metadata": {},
   "outputs": [],
   "source": []
  }
 ],
 "metadata": {
  "kernelspec": {
   "display_name": "Python 3",
   "language": "python",
   "name": "python3"
  },
  "toc": {
   "base_numbering": 1,
   "nav_menu": {},
   "number_sections": true,
   "sideBar": true,
   "skip_h1_title": false,
   "title_cell": "Table of Contents",
   "title_sidebar": "Contents",
   "toc_cell": false,
   "toc_position": {},
   "toc_section_display": true,
   "toc_window_display": false
  },
  "varInspector": {
   "cols": {
    "lenName": 16,
    "lenType": 16,
    "lenVar": 40
   },
   "kernels_config": {
    "python": {
     "delete_cmd_postfix": "",
     "delete_cmd_prefix": "del ",
     "library": "var_list.py",
     "varRefreshCmd": "print(var_dic_list())"
    },
    "r": {
     "delete_cmd_postfix": ") ",
     "delete_cmd_prefix": "rm(",
     "library": "var_list.r",
     "varRefreshCmd": "cat(var_dic_list()) "
    }
   },
   "types_to_exclude": [
    "module",
    "function",
    "builtin_function_or_method",
    "instance",
    "_Feature"
   ],
   "window_display": false
  }
 },
 "nbformat": 4,
 "nbformat_minor": 2
}
