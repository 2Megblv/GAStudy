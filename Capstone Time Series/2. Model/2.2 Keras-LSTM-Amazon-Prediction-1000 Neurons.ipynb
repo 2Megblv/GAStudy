{
 "cells": [
  {
   "cell_type": "markdown",
   "metadata": {},
   "source": [
    "# Stock Prices Prediction Using Keras Long Term Short Memory - Amazon\n"
   ]
  },
  {
   "cell_type": "code",
   "execution_count": 1,
   "metadata": {},
   "outputs": [],
   "source": [
    "# Part 1 - Data Preprocessing\n",
    "\n",
    "# Importing the libraries\n",
    "import numpy as np\n",
    "import matplotlib.pyplot as plt\n",
    "import pandas as pd\n",
    "import quandl\n",
    "\n",
    "%matplotlib inline\n",
    "pd.set_option('display.notebook_repr_html', False)\n",
    "pd.set_option('display.max_columns', 6)\n",
    "pd.set_option('display.max_rows', 10)\n",
    "pd.set_option('display.width', 78)\n",
    "pd.set_option('precision', 3)"
   ]
  },
  {
   "cell_type": "code",
   "execution_count": 2,
   "metadata": {},
   "outputs": [
    {
     "name": "stdout",
     "output_type": "stream",
     "text": [
      "             Open   High    Low     ...       Adj. Low  Adj. Close  \\\n",
      "Date                                ...                              \n",
      "1997-05-16  22.38  23.75  20.50     ...          1.708       1.729   \n",
      "1997-05-19  20.50  21.25  19.50     ...          1.625       1.708   \n",
      "1997-05-20  20.75  21.00  19.63     ...          1.636       1.636   \n",
      "1997-05-21  19.25  19.75  16.50     ...          1.375       1.427   \n",
      "1997-05-22  17.25  17.38  15.75     ...          1.312       1.396   \n",
      "\n",
      "            Adj. Volume  \n",
      "Date                     \n",
      "1997-05-16    1.470e+07  \n",
      "1997-05-19    6.107e+06  \n",
      "1997-05-20    5.467e+06  \n",
      "1997-05-21    1.885e+07  \n",
      "1997-05-22    1.178e+07  \n",
      "\n",
      "[5 rows x 12 columns]\n"
     ]
    }
   ],
   "source": [
    "df = quandl.get('WIKI/AMZN')\n",
    "\n",
    "print(df.head())"
   ]
  },
  {
   "cell_type": "code",
   "execution_count": 3,
   "metadata": {},
   "outputs": [
    {
     "data": {
      "text/plain": [
       "Index(['Open', 'High', 'Low', 'Close', 'Volume', 'Ex-Dividend',\n",
       "       'Split Ratio', 'Adj. Open', 'Adj. High', 'Adj. Low', 'Adj. Close',\n",
       "       'Adj. Volume'],\n",
       "      dtype='object')"
      ]
     },
     "execution_count": 3,
     "metadata": {},
     "output_type": "execute_result"
    }
   ],
   "source": [
    "df.columns"
   ]
  },
  {
   "cell_type": "code",
   "execution_count": 4,
   "metadata": {
    "scrolled": true
   },
   "outputs": [
    {
     "data": {
      "text/plain": [
       "               Open     High      Low    Close     Volume  Adj. Close\n",
       "Date                                                                 \n",
       "1997-05-16    22.38    23.75    20.50    20.75  1.225e+06       1.729\n",
       "1997-05-19    20.50    21.25    19.50    20.50  5.089e+05       1.708\n",
       "1997-05-20    20.75    21.00    19.63    19.63  4.556e+05       1.636\n",
       "1997-05-21    19.25    19.75    16.50    17.13  1.571e+06       1.427\n",
       "1997-05-22    17.25    17.38    15.75    16.75  9.814e+05       1.396\n",
       "...             ...      ...      ...      ...        ...         ...\n",
       "2018-03-21  1586.45  1590.00  1563.17  1581.86  4.667e+06    1581.860\n",
       "2018-03-22  1565.47  1573.85  1542.40  1544.10  6.178e+06    1544.100\n",
       "2018-03-23  1539.01  1549.02  1495.36  1495.56  7.844e+06    1495.560\n",
       "2018-03-26  1530.00  1556.99  1499.25  1555.86  5.548e+06    1555.860\n",
       "2018-03-27  1572.40  1575.96  1482.32  1497.05  6.793e+06    1497.050\n",
       "\n",
       "[5248 rows x 6 columns]"
      ]
     },
     "execution_count": 4,
     "metadata": {},
     "output_type": "execute_result"
    }
   ],
   "source": [
    "df.drop(['Ex-Dividend','Split Ratio', 'Adj. Open', 'Adj. High', 'Adj. Low', 'Adj. Volume'], axis=1)"
   ]
  },
  {
   "cell_type": "code",
   "execution_count": 5,
   "metadata": {},
   "outputs": [],
   "source": [
    "df.to_csv('./data/AMZN.csv')"
   ]
  },
  {
   "cell_type": "code",
   "execution_count": 6,
   "metadata": {},
   "outputs": [],
   "source": [
    "# Importing the training set\n",
    "dataset_train = pd.read_csv('./data/AMZN.csv')\n",
    "training_set = dataset_train.iloc[:, 1:2].values"
   ]
  },
  {
   "cell_type": "code",
   "execution_count": 7,
   "metadata": {},
   "outputs": [
    {
     "data": {
      "text/plain": [
       "         Date   Open   High     ...       Adj. Low  Adj. Close  Adj. Volume\n",
       "0  1997-05-16  22.38  23.75     ...          1.708       1.729    1.470e+07\n",
       "1  1997-05-19  20.50  21.25     ...          1.625       1.708    6.107e+06\n",
       "2  1997-05-20  20.75  21.00     ...          1.636       1.636    5.467e+06\n",
       "3  1997-05-21  19.25  19.75     ...          1.375       1.427    1.885e+07\n",
       "4  1997-05-22  17.25  17.38     ...          1.312       1.396    1.178e+07\n",
       "\n",
       "[5 rows x 13 columns]"
      ]
     },
     "execution_count": 7,
     "metadata": {},
     "output_type": "execute_result"
    }
   ],
   "source": [
    "dataset_train.head()\n"
   ]
  },
  {
   "cell_type": "code",
   "execution_count": 8,
   "metadata": {},
   "outputs": [],
   "source": [
    "# Feature Scaling\n",
    "from sklearn.preprocessing import MinMaxScaler\n",
    "sc = MinMaxScaler(feature_range = (0, 1))\n",
    "training_set_scaled = sc.fit_transform(training_set)"
   ]
  },
  {
   "cell_type": "code",
   "execution_count": 9,
   "metadata": {},
   "outputs": [],
   "source": [
    "# Creating a data structure with 60 timesteps and 1 output\n",
    "# Tried All data point, 1500, 900, 100\n",
    "X_train = []\n",
    "y_train = []\n",
    "for i in range(60, 150):\n",
    "    X_train.append(training_set_scaled[i-60:i, 0])\n",
    "    y_train.append(training_set_scaled[i, 0])\n",
    "X_train, y_train = np.array(X_train), np.array(y_train)"
   ]
  },
  {
   "cell_type": "code",
   "execution_count": 10,
   "metadata": {},
   "outputs": [],
   "source": [
    "# Reshaping\n",
    "X_train = np.reshape(X_train, (X_train.shape[0], X_train.shape[1], 1))"
   ]
  },
  {
   "cell_type": "code",
   "execution_count": 11,
   "metadata": {},
   "outputs": [
    {
     "name": "stderr",
     "output_type": "stream",
     "text": [
      "Using TensorFlow backend.\n"
     ]
    }
   ],
   "source": [
    "# Part 2 - Building the RNN\n",
    "\n",
    "# Importing the Keras libraries and packages\n",
    "from keras.models import Sequential\n",
    "from keras.layers import Dense\n",
    "from keras.layers import LSTM\n",
    "from keras.layers import Dropout"
   ]
  },
  {
   "cell_type": "code",
   "execution_count": 12,
   "metadata": {},
   "outputs": [],
   "source": [
    "# Initialising the RNN\n",
    "regressor = Sequential()\n",
    "\n",
    "# Adding the first LSTM layer and some Dropout regularisation\n",
    "regressor.add(LSTM(units = 1000, return_sequences = True, input_shape = (X_train.shape[1], 1)))\n",
    "regressor.add(Dropout(0.2))"
   ]
  },
  {
   "cell_type": "code",
   "execution_count": 13,
   "metadata": {},
   "outputs": [],
   "source": [
    "# Adding a second LSTM layer and some Dropout regularisation\n",
    "regressor.add(LSTM(units = 1000, return_sequences = True))\n",
    "regressor.add(Dropout(0.2))"
   ]
  },
  {
   "cell_type": "code",
   "execution_count": 14,
   "metadata": {},
   "outputs": [],
   "source": [
    "\n",
    "# Adding a third LSTM layer and some Dropout regularisation\n",
    "regressor.add(LSTM(units = 1000, return_sequences = True))\n",
    "regressor.add(Dropout(0.2))"
   ]
  },
  {
   "cell_type": "code",
   "execution_count": 15,
   "metadata": {},
   "outputs": [],
   "source": [
    "# Adding a fourth LSTM layer and some Dropout regularisation\n",
    "regressor.add(LSTM(units = 1000))\n",
    "regressor.add(Dropout(0.2))\n"
   ]
  },
  {
   "cell_type": "code",
   "execution_count": 16,
   "metadata": {},
   "outputs": [
    {
     "name": "stdout",
     "output_type": "stream",
     "text": [
      "Epoch 1/100\n",
      "90/90 [==============================] - 89s 991ms/step - loss: 5.5300e-04\n",
      "Epoch 2/100\n",
      "90/90 [==============================] - 82s 906ms/step - loss: 1.1453e-04\n",
      "Epoch 3/100\n",
      "90/90 [==============================] - 87s 965ms/step - loss: 8.5921e-05\n",
      "Epoch 4/100\n",
      "90/90 [==============================] - 84s 930ms/step - loss: 7.4833e-05\n",
      "Epoch 5/100\n",
      "90/90 [==============================] - 82s 908ms/step - loss: 6.4432e-05\n",
      "Epoch 6/100\n",
      "90/90 [==============================] - 84s 932ms/step - loss: 5.7177e-05\n",
      "Epoch 7/100\n",
      "90/90 [==============================] - 99s 1s/step - loss: 5.8164e-05\n",
      "Epoch 8/100\n",
      "90/90 [==============================] - 95s 1s/step - loss: 5.2696e-05\n",
      "Epoch 9/100\n",
      "90/90 [==============================] - 94s 1s/step - loss: 5.7112e-05\n",
      "Epoch 10/100\n",
      "90/90 [==============================] - 89s 986ms/step - loss: 5.2129e-05\n",
      "Epoch 11/100\n",
      "90/90 [==============================] - 109s 1s/step - loss: 4.6848e-05\n",
      "Epoch 12/100\n",
      "90/90 [==============================] - 93s 1s/step - loss: 4.9134e-05\n",
      "Epoch 13/100\n",
      "90/90 [==============================] - 82s 908ms/step - loss: 4.6819e-05\n",
      "Epoch 14/100\n",
      "90/90 [==============================] - 82s 914ms/step - loss: 4.9611e-05\n",
      "Epoch 15/100\n",
      "90/90 [==============================] - 95s 1s/step - loss: 4.5828e-05\n",
      "Epoch 16/100\n",
      "90/90 [==============================] - 90s 1s/step - loss: 4.6630e-05\n",
      "Epoch 17/100\n",
      "90/90 [==============================] - 96s 1s/step - loss: 4.2202e-05\n",
      "Epoch 18/100\n",
      "90/90 [==============================] - 83s 924ms/step - loss: 4.7827e-05\n",
      "Epoch 19/100\n",
      "90/90 [==============================] - 83s 919ms/step - loss: 5.2480e-05\n",
      "Epoch 20/100\n",
      "90/90 [==============================] - 83s 922ms/step - loss: 5.4274e-05\n",
      "Epoch 21/100\n",
      "90/90 [==============================] - 95s 1s/step - loss: 4.1592e-05\n",
      "Epoch 22/100\n",
      "90/90 [==============================] - 93s 1s/step - loss: 4.4816e-05\n",
      "Epoch 23/100\n",
      "90/90 [==============================] - 89s 988ms/step - loss: 2.9847e-05\n",
      "Epoch 24/100\n",
      "90/90 [==============================] - 97s 1s/step - loss: 3.9896e-05\n",
      "Epoch 25/100\n",
      "90/90 [==============================] - 90s 1s/step - loss: 5.4501e-05\n",
      "Epoch 26/100\n",
      "90/90 [==============================] - 84s 935ms/step - loss: 4.2919e-05\n",
      "Epoch 27/100\n",
      "90/90 [==============================] - 90s 1s/step - loss: 4.6470e-05\n",
      "Epoch 28/100\n",
      "90/90 [==============================] - 86s 957ms/step - loss: 4.1610e-05\n",
      "Epoch 29/100\n",
      "90/90 [==============================] - 92s 1s/step - loss: 4.9625e-05\n",
      "Epoch 30/100\n",
      "90/90 [==============================] - 76s 847ms/step - loss: 5.3627e-05\n",
      "Epoch 31/100\n",
      "90/90 [==============================] - 83s 925ms/step - loss: 4.1404e-05\n",
      "Epoch 32/100\n",
      "90/90 [==============================] - 82s 906ms/step - loss: 3.3913e-05\n",
      "Epoch 33/100\n",
      "90/90 [==============================] - 82s 915ms/step - loss: 2.9545e-05\n",
      "Epoch 34/100\n",
      "90/90 [==============================] - 79s 874ms/step - loss: 3.2708e-05\n",
      "Epoch 35/100\n",
      "90/90 [==============================] - 72s 802ms/step - loss: 2.2807e-05\n",
      "Epoch 36/100\n",
      "90/90 [==============================] - 77s 856ms/step - loss: 1.7883e-05\n",
      "Epoch 37/100\n",
      "90/90 [==============================] - 72s 803ms/step - loss: 1.8720e-05\n",
      "Epoch 38/100\n",
      "90/90 [==============================] - 74s 827ms/step - loss: 2.3171e-05\n",
      "Epoch 39/100\n",
      "90/90 [==============================] - 74s 819ms/step - loss: 2.2337e-05\n",
      "Epoch 40/100\n",
      "90/90 [==============================] - 74s 822ms/step - loss: 3.5693e-05\n",
      "Epoch 41/100\n",
      "90/90 [==============================] - 74s 823ms/step - loss: 2.6429e-05\n",
      "Epoch 42/100\n",
      "90/90 [==============================] - 74s 826ms/step - loss: 2.6571e-05\n",
      "Epoch 43/100\n",
      "90/90 [==============================] - 80s 888ms/step - loss: 3.1549e-05\n",
      "Epoch 44/100\n",
      "90/90 [==============================] - 79s 877ms/step - loss: 2.0801e-05\n",
      "Epoch 45/100\n",
      "90/90 [==============================] - 81s 905ms/step - loss: 1.4641e-05\n",
      "Epoch 46/100\n",
      "90/90 [==============================] - 74s 827ms/step - loss: 1.6650e-05\n",
      "Epoch 47/100\n",
      "90/90 [==============================] - 74s 825ms/step - loss: 2.0223e-05\n",
      "Epoch 48/100\n",
      "90/90 [==============================] - 73s 814ms/step - loss: 1.7620e-05\n",
      "Epoch 49/100\n",
      "90/90 [==============================] - 74s 817ms/step - loss: 1.6075e-05\n",
      "Epoch 50/100\n",
      "90/90 [==============================] - 74s 824ms/step - loss: 1.4010e-05\n",
      "Epoch 51/100\n",
      "90/90 [==============================] - 71s 793ms/step - loss: 1.4893e-05\n",
      "Epoch 52/100\n",
      "90/90 [==============================] - 74s 824ms/step - loss: 1.7575e-05\n",
      "Epoch 53/100\n",
      "90/90 [==============================] - 72s 802ms/step - loss: 1.5909e-05\n",
      "Epoch 54/100\n",
      "90/90 [==============================] - 74s 825ms/step - loss: 1.6433e-05\n",
      "Epoch 55/100\n",
      "90/90 [==============================] - 79s 875ms/step - loss: 1.6729e-05\n",
      "Epoch 56/100\n",
      "90/90 [==============================] - 79s 877ms/step - loss: 1.5836e-05\n",
      "Epoch 57/100\n",
      "90/90 [==============================] - 81s 903ms/step - loss: 1.8753e-05\n",
      "Epoch 58/100\n",
      "90/90 [==============================] - 75s 829ms/step - loss: 2.7195e-05\n",
      "Epoch 59/100\n",
      "90/90 [==============================] - 72s 797ms/step - loss: 1.8320e-05\n",
      "Epoch 60/100\n",
      "90/90 [==============================] - 74s 826ms/step - loss: 1.7544e-05\n",
      "Epoch 61/100\n",
      "90/90 [==============================] - 73s 806ms/step - loss: 1.6019e-05\n",
      "Epoch 62/100\n",
      "90/90 [==============================] - 77s 856ms/step - loss: 1.6218e-05\n",
      "Epoch 63/100\n",
      "90/90 [==============================] - 78s 868ms/step - loss: 1.8136e-05\n",
      "Epoch 64/100\n",
      "90/90 [==============================] - 78s 861ms/step - loss: 1.4956e-05\n",
      "Epoch 65/100\n",
      "90/90 [==============================] - 76s 847ms/step - loss: 1.7660e-05\n",
      "Epoch 66/100\n",
      "90/90 [==============================] - 78s 867ms/step - loss: 2.0671e-05\n",
      "Epoch 67/100\n",
      "90/90 [==============================] - 84s 936ms/step - loss: 1.6319e-05\n",
      "Epoch 68/100\n",
      "90/90 [==============================] - 83s 917ms/step - loss: 1.5165e-05\n",
      "Epoch 69/100\n",
      "90/90 [==============================] - 82s 911ms/step - loss: 1.5139e-05\n",
      "Epoch 70/100\n",
      "90/90 [==============================] - 78s 865ms/step - loss: 1.4740e-05\n",
      "Epoch 71/100\n",
      "90/90 [==============================] - 77s 857ms/step - loss: 1.3583e-05\n",
      "Epoch 72/100\n",
      "90/90 [==============================] - 77s 852ms/step - loss: 1.2814e-05\n",
      "Epoch 73/100\n",
      "90/90 [==============================] - 77s 859ms/step - loss: 1.2192e-05\n",
      "Epoch 74/100\n",
      "90/90 [==============================] - 75s 837ms/step - loss: 2.3241e-05\n",
      "Epoch 75/100\n",
      "90/90 [==============================] - 80s 883ms/step - loss: 1.5576e-05\n",
      "Epoch 76/100\n",
      "90/90 [==============================] - 76s 844ms/step - loss: 2.0224e-05\n",
      "Epoch 77/100\n",
      "90/90 [==============================] - 78s 867ms/step - loss: 1.9183e-05\n",
      "Epoch 78/100\n",
      "90/90 [==============================] - 82s 906ms/step - loss: 1.2527e-05\n",
      "Epoch 79/100\n",
      "90/90 [==============================] - 83s 928ms/step - loss: 1.1320e-05\n",
      "Epoch 80/100\n",
      "90/90 [==============================] - 82s 915ms/step - loss: 1.5321e-05\n",
      "Epoch 81/100\n",
      "90/90 [==============================] - 83s 927ms/step - loss: 1.3597e-05\n",
      "Epoch 82/100\n",
      "90/90 [==============================] - 77s 855ms/step - loss: 1.7163e-05\n",
      "Epoch 83/100\n",
      "90/90 [==============================] - 77s 860ms/step - loss: 1.7640e-05\n",
      "Epoch 84/100\n",
      "90/90 [==============================] - 77s 852ms/step - loss: 1.1639e-05\n",
      "Epoch 85/100\n",
      "90/90 [==============================] - 79s 876ms/step - loss: 1.1475e-05\n",
      "Epoch 86/100\n",
      "90/90 [==============================] - 76s 839ms/step - loss: 2.0399e-05\n",
      "Epoch 87/100\n",
      "90/90 [==============================] - 80s 884ms/step - loss: 1.9014e-05\n",
      "Epoch 88/100\n",
      "90/90 [==============================] - 77s 852ms/step - loss: 1.7561e-05\n",
      "Epoch 89/100\n",
      "90/90 [==============================] - 84s 932ms/step - loss: 2.0989e-05\n",
      "Epoch 90/100\n",
      "90/90 [==============================] - 86s 956ms/step - loss: 1.7291e-05\n",
      "Epoch 91/100\n",
      "90/90 [==============================] - 84s 934ms/step - loss: 2.1735e-05\n",
      "Epoch 92/100\n",
      "90/90 [==============================] - 81s 903ms/step - loss: 1.3164e-05\n",
      "Epoch 93/100\n",
      "90/90 [==============================] - 78s 866ms/step - loss: 1.7689e-05\n",
      "Epoch 94/100\n"
     ]
    },
    {
     "name": "stdout",
     "output_type": "stream",
     "text": [
      "90/90 [==============================] - 77s 861ms/step - loss: 1.2638e-05\n",
      "Epoch 95/100\n",
      "90/90 [==============================] - 77s 855ms/step - loss: 1.3244e-05\n",
      "Epoch 96/100\n",
      "90/90 [==============================] - 77s 861ms/step - loss: 1.2787e-05\n",
      "Epoch 97/100\n",
      "90/90 [==============================] - 78s 868ms/step - loss: 1.0609e-05\n",
      "Epoch 98/100\n",
      "90/90 [==============================] - 78s 863ms/step - loss: 1.1801e-05\n",
      "Epoch 99/100\n",
      "90/90 [==============================] - 76s 847ms/step - loss: 1.2405e-05\n",
      "Epoch 100/100\n",
      "90/90 [==============================] - 80s 886ms/step - loss: 1.2132e-05\n"
     ]
    },
    {
     "data": {
      "text/plain": [
       "<keras.callbacks.History at 0x2a627dbdb70>"
      ]
     },
     "execution_count": 16,
     "metadata": {},
     "output_type": "execute_result"
    }
   ],
   "source": [
    "# Adding the output layer\n",
    "regressor.add(Dense(units = 1))\n",
    "\n",
    "# Compiling the RNN\n",
    "regressor.compile(optimizer = 'adam', loss = 'mean_squared_error')\n",
    "\n",
    "# Fitting the RNN to the Training set\n",
    "regressor.fit(X_train, y_train, epochs = 100, batch_size = 32)\n",
    "\n"
   ]
  },
  {
   "cell_type": "code",
   "execution_count": 19,
   "metadata": {},
   "outputs": [],
   "source": [
    "# Part 3 - Making the predictions and visualising the results\n",
    "\n",
    "# Getting the real stock price of Apr - Nov 2018\n",
    "dataset_test = pd.read_csv('./data/AMZN18.csv')\n",
    "real_stock_price = dataset_test.iloc[:, 1:2].values"
   ]
  },
  {
   "cell_type": "code",
   "execution_count": 24,
   "metadata": {},
   "outputs": [],
   "source": [
    "# Getting the predicted stock price of 2018\n",
    "dataset_total = pd.concat((dataset_train['Open'], dataset_test['Open']), axis = 0)\n",
    "inputs = dataset_total[len(dataset_total) - len(dataset_test) - 60:].values\n",
    "inputs = inputs.reshape(-1,1)\n",
    "inputs = sc.transform(inputs)\n",
    "X_test = []\n",
    "for i in range(60, 500):\n",
    "    X_test.append(inputs[i-60:i, 0])\n",
    "X_test = np.array(X_test)\n",
    "X_test = np.reshape(X_test, (X_test.shape[0], X_test.shape[1], 1))\n",
    "predicted_stock_price = regressor.predict(X_test)\n",
    "predicted_stock_price = sc.inverse_transform(predicted_stock_price)\n"
   ]
  },
  {
   "cell_type": "code",
   "execution_count": 25,
   "metadata": {},
   "outputs": [
    {
     "data": {
      "image/png": "[encoded data removed]",
      "text/plain": [
       "<Figure size 864x648 with 1 Axes>"
      ]
     },
     "metadata": {},
     "output_type": "display_data"
    }
   ],
   "source": [
    "# Visualising the results\n",
    "plt.plot(real_stock_price, color = 'red', label = 'Real Amazon Stock Price')\n",
    "plt.plot(predicted_stock_price, color = 'blue', label = 'Predicted AMZN Stock Price')\n",
    "plt.title('AMZN Stock Price Prediction')\n",
    "plt.xlabel('Time')\n",
    "plt.ylabel('AMZN Stock Price')\n",
    "plt.legend()\n",
    "plt.rcParams['figure.figsize'] = (12,9)\n",
    "plt.show()"
   ]
  },
  {
   "cell_type": "code",
   "execution_count": null,
   "metadata": {},
   "outputs": [],
   "source": [
    "import pandashells"
   ]
  },
  {
   "cell_type": "code",
   "execution_count": null,
   "metadata": {},
   "outputs": [],
   "source": []
  }
 ],
 "metadata": {
  "kernelspec": {
   "display_name": "Python 3",
   "language": "python",
   "name": "python3"
  },
  "language_info": {
   "codemirror_mode": {
    "name": "ipython",
    "version": 3
   },
   "file_extension": ".py",
   "mimetype": "text/x-python",
   "name": "python",
   "nbconvert_exporter": "python",
   "pygments_lexer": "ipython3",
   "version": "3.6.5"
  },
  "toc": {
   "base_numbering": 1,
   "nav_menu": {},
   "number_sections": true,
   "sideBar": true,
   "skip_h1_title": false,
   "title_cell": "Table of Contents",
   "title_sidebar": "Contents",
   "toc_cell": false,
   "toc_position": {},
   "toc_section_display": true,
   "toc_window_display": false
  },
  "varInspector": {
   "cols": {
    "lenName": 16,
    "lenType": 16,
    "lenVar": 40
   },
   "kernels_config": {
    "python": {
     "delete_cmd_postfix": "",
     "delete_cmd_prefix": "del ",
     "library": "var_list.py",
     "varRefreshCmd": "print(var_dic_list())"
    },
    "r": {
     "delete_cmd_postfix": ") ",
     "delete_cmd_prefix": "rm(",
     "library": "var_list.r",
     "varRefreshCmd": "cat(var_dic_list()) "
    }
   },
   "types_to_exclude": [
    "module",
    "function",
    "builtin_function_or_method",
    "instance",
    "_Feature"
   ],
   "window_display": false
  }
 },
 "nbformat": 4,
 "nbformat_minor": 2
}
