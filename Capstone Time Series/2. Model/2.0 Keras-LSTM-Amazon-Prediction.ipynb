{
 "cells": [
  {
   "cell_type": "markdown",
   "metadata": {},
   "source": [
    "# Stock Prices Prediction Using Keras Long Term Short Memory - Amazon\n"
   ]
  },
  {
   "cell_type": "code",
   "execution_count": 2,
   "metadata": {},
   "outputs": [],
   "source": [
    "# Part 1 - Data Preprocessing\n",
    "\n",
    "# Importing the libraries\n",
    "import numpy as np\n",
    "import matplotlib.pyplot as plt\n",
    "import pandas as pd\n",
    "import quandl\n",
    "\n",
    "%matplotlib inline\n",
    "pd.set_option('display.notebook_repr_html', False)\n",
    "pd.set_option('display.max_columns', 6)\n",
    "pd.set_option('display.max_rows', 10)\n",
    "pd.set_option('display.width', 78)\n",
    "pd.set_option('precision', 3)"
   ]
  },
  {
   "cell_type": "code",
   "execution_count": 23,
   "metadata": {},
   "outputs": [
    {
     "name": "stdout",
     "output_type": "stream",
     "text": [
      "             Open   High    Low     ...       Adj. Low  Adj. Close  \\\n",
      "Date                                ...                              \n",
      "1997-05-16  22.38  23.75  20.50     ...          1.708       1.729   \n",
      "1997-05-19  20.50  21.25  19.50     ...          1.625       1.708   \n",
      "1997-05-20  20.75  21.00  19.63     ...          1.636       1.636   \n",
      "1997-05-21  19.25  19.75  16.50     ...          1.375       1.427   \n",
      "1997-05-22  17.25  17.38  15.75     ...          1.312       1.396   \n",
      "\n",
      "            Adj. Volume  \n",
      "Date                     \n",
      "1997-05-16    1.470e+07  \n",
      "1997-05-19    6.107e+06  \n",
      "1997-05-20    5.467e+06  \n",
      "1997-05-21    1.885e+07  \n",
      "1997-05-22    1.178e+07  \n",
      "\n",
      "[5 rows x 12 columns]\n"
     ]
    }
   ],
   "source": [
    "df = quandl.get('WIKI/AMZN')\n",
    "\n",
    "print(df.head())"
   ]
  },
  {
   "cell_type": "code",
   "execution_count": 24,
   "metadata": {},
   "outputs": [
    {
     "data": {
      "text/plain": [
       "Index(['Open', 'High', 'Low', 'Close', 'Volume', 'Ex-Dividend',\n",
       "       'Split Ratio', 'Adj. Open', 'Adj. High', 'Adj. Low', 'Adj. Close',\n",
       "       'Adj. Volume'],\n",
       "      dtype='object')"
      ]
     },
     "execution_count": 24,
     "metadata": {},
     "output_type": "execute_result"
    }
   ],
   "source": [
    "df.columns"
   ]
  },
  {
   "cell_type": "code",
   "execution_count": 28,
   "metadata": {
    "scrolled": true
   },
   "outputs": [
    {
     "data": {
      "text/plain": [
       "               Open     High      Low    Close     Volume  Adj. Close\n",
       "Date                                                                 \n",
       "1997-05-16    22.38    23.75    20.50    20.75  1.225e+06       1.729\n",
       "1997-05-19    20.50    21.25    19.50    20.50  5.089e+05       1.708\n",
       "1997-05-20    20.75    21.00    19.63    19.63  4.556e+05       1.636\n",
       "1997-05-21    19.25    19.75    16.50    17.13  1.571e+06       1.427\n",
       "1997-05-22    17.25    17.38    15.75    16.75  9.814e+05       1.396\n",
       "...             ...      ...      ...      ...        ...         ...\n",
       "2018-03-21  1586.45  1590.00  1563.17  1581.86  4.667e+06    1581.860\n",
       "2018-03-22  1565.47  1573.85  1542.40  1544.10  6.178e+06    1544.100\n",
       "2018-03-23  1539.01  1549.02  1495.36  1495.56  7.844e+06    1495.560\n",
       "2018-03-26  1530.00  1556.99  1499.25  1555.86  5.548e+06    1555.860\n",
       "2018-03-27  1572.40  1575.96  1482.32  1497.05  6.793e+06    1497.050\n",
       "\n",
       "[5248 rows x 6 columns]"
      ]
     },
     "execution_count": 28,
     "metadata": {},
     "output_type": "execute_result"
    }
   ],
   "source": [
    "df.drop(['Ex-Dividend','Split Ratio', 'Adj. Open', 'Adj. High', 'Adj. Low', 'Adj. Volume'], axis=1)"
   ]
  },
  {
   "cell_type": "code",
   "execution_count": 30,
   "metadata": {},
   "outputs": [],
   "source": [
    "df.to_csv('./data/AMZN.csv')"
   ]
  },
  {
   "cell_type": "code",
   "execution_count": 31,
   "metadata": {},
   "outputs": [],
   "source": [
    "# Importing the training set\n",
    "dataset_train = pd.read_csv('./data/AMZN.csv')\n",
    "training_set = dataset_train.iloc[:, 1:2].values"
   ]
  },
  {
   "cell_type": "code",
   "execution_count": 32,
   "metadata": {},
   "outputs": [
    {
     "data": {
      "text/plain": [
       "         Date   Open   High     ...       Adj. Low  Adj. Close  Adj. Volume\n",
       "0  1997-05-16  22.38  23.75     ...          1.708       1.729    1.470e+07\n",
       "1  1997-05-19  20.50  21.25     ...          1.625       1.708    6.107e+06\n",
       "2  1997-05-20  20.75  21.00     ...          1.636       1.636    5.467e+06\n",
       "3  1997-05-21  19.25  19.75     ...          1.375       1.427    1.885e+07\n",
       "4  1997-05-22  17.25  17.38     ...          1.312       1.396    1.178e+07\n",
       "\n",
       "[5 rows x 13 columns]"
      ]
     },
     "execution_count": 32,
     "metadata": {},
     "output_type": "execute_result"
    }
   ],
   "source": [
    "dataset_train.head()\n"
   ]
  },
  {
   "cell_type": "code",
   "execution_count": 79,
   "metadata": {},
   "outputs": [],
   "source": [
    "# Feature Scaling\n",
    "from sklearn.preprocessing import MinMaxScaler\n",
    "sc = MinMaxScaler(feature_range = (0, 1))\n",
    "training_set_scaled = sc.fit_transform(training_set)"
   ]
  },
  {
   "cell_type": "code",
   "execution_count": 80,
   "metadata": {},
   "outputs": [],
   "source": [
    "# Creating a data structure with 60 timesteps and 1 output\n",
    "# Tried All data point, 1500, 900, 100\n",
    "X_train = []\n",
    "y_train = []\n",
    "for i in range(60, 900):\n",
    "    X_train.append(training_set_scaled[i-60:i, 0])\n",
    "    y_train.append(training_set_scaled[i, 0])\n",
    "X_train, y_train = np.array(X_train), np.array(y_train)"
   ]
  },
  {
   "cell_type": "code",
   "execution_count": 81,
   "metadata": {},
   "outputs": [],
   "source": [
    "# Reshaping\n",
    "X_train = np.reshape(X_train, (X_train.shape[0], X_train.shape[1], 1))"
   ]
  },
  {
   "cell_type": "code",
   "execution_count": 82,
   "metadata": {},
   "outputs": [],
   "source": [
    "# Part 2 - Building the RNN\n",
    "\n",
    "# Importing the Keras libraries and packages\n",
    "from keras.models import Sequential\n",
    "from keras.layers import Dense\n",
    "from keras.layers import LSTM\n",
    "from keras.layers import Dropout"
   ]
  },
  {
   "cell_type": "code",
   "execution_count": 83,
   "metadata": {},
   "outputs": [],
   "source": [
    "# Initialising the RNN\n",
    "regressor = Sequential()\n",
    "\n",
    "# Adding the first LSTM layer and some Dropout regularisation\n",
    "regressor.add(LSTM(units = 50, return_sequences = True, input_shape = (X_train.shape[1], 1)))\n",
    "regressor.add(Dropout(0.2))"
   ]
  },
  {
   "cell_type": "code",
   "execution_count": 84,
   "metadata": {},
   "outputs": [],
   "source": [
    "# Adding a second LSTM layer and some Dropout regularisation\n",
    "regressor.add(LSTM(units = 50, return_sequences = True))\n",
    "regressor.add(Dropout(0.2))"
   ]
  },
  {
   "cell_type": "code",
   "execution_count": 85,
   "metadata": {},
   "outputs": [],
   "source": [
    "\n",
    "# Adding a third LSTM layer and some Dropout regularisation\n",
    "regressor.add(LSTM(units = 50, return_sequences = True))\n",
    "regressor.add(Dropout(0.2))"
   ]
  },
  {
   "cell_type": "code",
   "execution_count": 86,
   "metadata": {},
   "outputs": [],
   "source": [
    "# Adding a fourth LSTM layer and some Dropout regularisation\n",
    "regressor.add(LSTM(units = 50))\n",
    "regressor.add(Dropout(0.2))\n"
   ]
  },
  {
   "cell_type": "code",
   "execution_count": 87,
   "metadata": {},
   "outputs": [
    {
     "name": "stdout",
     "output_type": "stream",
     "text": [
      "Epoch 1/100\n",
      "840/840 [==============================] - 10s 12ms/step - loss: 8.7631e-04\n",
      "Epoch 2/100\n",
      "840/840 [==============================] - 5s 6ms/step - loss: 3.6201e-04\n",
      "Epoch 3/100\n",
      "840/840 [==============================] - 5s 6ms/step - loss: 3.3800e-04\n",
      "Epoch 4/100\n",
      "840/840 [==============================] - 5s 6ms/step - loss: 3.2858e-04A: 1s - loss: 3.3\n",
      "Epoch 5/100\n",
      "840/840 [==============================] - 5s 6ms/step - loss: 2.6621e-04A: 1s - loss: 2.6\n",
      "Epoch 6/100\n",
      "840/840 [==============================] - 5s 6ms/step - loss: 2.5131e-04\n",
      "Epoch 7/100\n",
      "840/840 [==============================] - 6s 7ms/step - loss: 2.3970e-04\n",
      "Epoch 8/100\n",
      "840/840 [==============================] - 5s 6ms/step - loss: 2.4234e-04\n",
      "Epoch 9/100\n",
      "840/840 [==============================] - 8s 9ms/step - loss: 2.0776e-04\n",
      "Epoch 10/100\n",
      "840/840 [==============================] - 5s 6ms/step - loss: 1.8587e-04\n",
      "Epoch 11/100\n",
      "840/840 [==============================] - 8s 10ms/step - loss: 1.8914e-04\n",
      "Epoch 12/100\n",
      "840/840 [==============================] - 5s 7ms/step - loss: 1.9953e-04\n",
      "Epoch 13/100\n",
      "840/840 [==============================] - 8s 10ms/step - loss: 1.7334e-04\n",
      "Epoch 14/100\n",
      "840/840 [==============================] - 6s 7ms/step - loss: 1.7580e-04\n",
      "Epoch 15/100\n",
      "840/840 [==============================] - 8s 10ms/step - loss: 2.2505e-04\n",
      "Epoch 16/100\n",
      "840/840 [==============================] - 9s 11ms/step - loss: 1.6589e-04\n",
      "Epoch 17/100\n",
      "840/840 [==============================] - 9s 10ms/step - loss: 1.6825e-04\n",
      "Epoch 18/100\n",
      "840/840 [==============================] - 6s 7ms/step - loss: 1.5982e-04\n",
      "Epoch 19/100\n",
      "840/840 [==============================] - 9s 11ms/step - loss: 1.5714e-04\n",
      "Epoch 20/100\n",
      "840/840 [==============================] - 9s 11ms/step - loss: 1.4612e-04\n",
      "Epoch 21/100\n",
      "840/840 [==============================] - 9s 11ms/step - loss: 1.5633e-04\n",
      "Epoch 22/100\n",
      "840/840 [==============================] - 6s 7ms/step - loss: 1.2281e-04\n",
      "Epoch 23/100\n",
      "840/840 [==============================] - 9s 10ms/step - loss: 1.6095e-04\n",
      "Epoch 24/100\n",
      "840/840 [==============================] - 8s 9ms/step - loss: 1.3811e-04\n",
      "Epoch 25/100\n",
      "840/840 [==============================] - 5s 6ms/step - loss: 1.3498e-04\n",
      "Epoch 26/100\n",
      "840/840 [==============================] - 8s 9ms/step - loss: 1.3145e-04\n",
      "Epoch 27/100\n",
      "840/840 [==============================] - 8s 9ms/step - loss: 1.4096e-04A: 1s - loss: 1\n",
      "Epoch 28/100\n",
      "840/840 [==============================] - 5s 6ms/step - loss: 1.2075e-04\n",
      "Epoch 29/100\n",
      "840/840 [==============================] - 8s 10ms/step - loss: 1.1539e-04\n",
      "Epoch 30/100\n",
      "840/840 [==============================] - 5s 6ms/step - loss: 1.2121e-04\n",
      "Epoch 31/100\n",
      "840/840 [==============================] - 8s 9ms/step - loss: 1.4185e-04\n",
      "Epoch 32/100\n",
      "840/840 [==============================] - 8s 9ms/step - loss: 1.4794e-04\n",
      "Epoch 33/100\n",
      "840/840 [==============================] - 5s 6ms/step - loss: 1.3739e-04\n",
      "Epoch 34/100\n",
      "840/840 [==============================] - 8s 9ms/step - loss: 1.3573e-04\n",
      "Epoch 35/100\n",
      "840/840 [==============================] - 6s 8ms/step - loss: 1.3395e-04\n",
      "Epoch 36/100\n",
      "840/840 [==============================] - 6s 7ms/step - loss: 1.3024e-04\n",
      "Epoch 37/100\n",
      "840/840 [==============================] - 7s 9ms/step - loss: 1.0928e-04\n",
      "Epoch 38/100\n",
      "840/840 [==============================] - 5s 6ms/step - loss: 1.2007e-04\n",
      "Epoch 39/100\n",
      "840/840 [==============================] - 7s 9ms/step - loss: 1.1686e-04\n",
      "Epoch 40/100\n",
      "840/840 [==============================] - 8s 9ms/step - loss: 1.1546e-04\n",
      "Epoch 41/100\n",
      "840/840 [==============================] - 6s 7ms/step - loss: 1.1700e-04\n",
      "Epoch 42/100\n",
      "840/840 [==============================] - 7s 8ms/step - loss: 1.2341e-04\n",
      "Epoch 43/100\n",
      "840/840 [==============================] - 7s 9ms/step - loss: 1.1449e-04\n",
      "Epoch 44/100\n",
      "840/840 [==============================] - 6s 7ms/step - loss: 1.0373e-04\n",
      "Epoch 45/100\n",
      "840/840 [==============================] - 7s 8ms/step - loss: 1.1576e-04\n",
      "Epoch 46/100\n",
      "840/840 [==============================] - 8s 9ms/step - loss: 1.0163e-04\n",
      "Epoch 47/100\n",
      "840/840 [==============================] - 7s 8ms/step - loss: 9.9656e-05\n",
      "Epoch 48/100\n",
      "840/840 [==============================] - 6s 7ms/step - loss: 1.2707e-04\n",
      "Epoch 49/100\n",
      "840/840 [==============================] - 8s 9ms/step - loss: 1.0854e-04\n",
      "Epoch 50/100\n",
      "840/840 [==============================] - 6s 7ms/step - loss: 1.1432e-04\n",
      "Epoch 51/100\n",
      "840/840 [==============================] - 7s 8ms/step - loss: 8.7816e-05A: 6s -\n",
      "Epoch 52/100\n",
      "840/840 [==============================] - 7s 9ms/step - loss: 1.0755e-04A: 2s - l\n",
      "Epoch 53/100\n",
      "840/840 [==============================] - 5s 6ms/step - loss: 9.2701e-05\n",
      "Epoch 54/100\n",
      "840/840 [==============================] - 8s 9ms/step - loss: 9.6945e-05\n",
      "Epoch 55/100\n",
      "840/840 [==============================] - 8s 9ms/step - loss: 1.0160e-04\n",
      "Epoch 56/100\n",
      "840/840 [==============================] - 5s 6ms/step - loss: 1.0597e-04\n",
      "Epoch 57/100\n",
      "840/840 [==============================] - 7s 9ms/step - loss: 1.2854e-04\n",
      "Epoch 58/100\n",
      "840/840 [==============================] - 8s 9ms/step - loss: 9.6660e-05A: 1s - loss: \n",
      "Epoch 59/100\n",
      "840/840 [==============================] - 5s 6ms/step - loss: 1.0046e-04\n",
      "Epoch 60/100\n",
      "840/840 [==============================] - 7s 9ms/step - loss: 9.1845e-05\n",
      "Epoch 61/100\n",
      "840/840 [==============================] - 7s 9ms/step - loss: 1.1208e-04\n",
      "Epoch 62/100\n",
      "840/840 [==============================] - 5s 6ms/step - loss: 9.0765e-05\n",
      "Epoch 63/100\n",
      "840/840 [==============================] - 7s 9ms/step - loss: 1.0737e-04\n",
      "Epoch 64/100\n",
      "840/840 [==============================] - 7s 9ms/step - loss: 1.1312e-04\n",
      "Epoch 65/100\n",
      "840/840 [==============================] - 5s 6ms/step - loss: 9.4455e-05\n",
      "Epoch 66/100\n",
      "840/840 [==============================] - 7s 9ms/step - loss: 1.0078e-04\n",
      "Epoch 67/100\n",
      "840/840 [==============================] - 8s 9ms/step - loss: 9.3047e-05A: \n",
      "Epoch 68/100\n",
      "840/840 [==============================] - 5s 6ms/step - loss: 9.6060e-05\n",
      "Epoch 69/100\n",
      "840/840 [==============================] - 8s 9ms/step - loss: 9.9243e-05\n",
      "Epoch 70/100\n",
      "840/840 [==============================] - 8s 9ms/step - loss: 9.8479e-05\n",
      "Epoch 71/100\n",
      "840/840 [==============================] - 5s 6ms/step - loss: 8.6386e-05\n",
      "Epoch 72/100\n",
      "840/840 [==============================] - 8s 9ms/step - loss: 9.2857e-05\n",
      "Epoch 73/100\n",
      "840/840 [==============================] - 6s 7ms/step - loss: 8.2674e-05\n",
      "Epoch 74/100\n",
      "840/840 [==============================] - 7s 8ms/step - loss: 9.5897e-05\n",
      "Epoch 75/100\n",
      "840/840 [==============================] - 8s 9ms/step - loss: 8.2681e-05\n",
      "Epoch 76/100\n",
      "840/840 [==============================] - 5s 6ms/step - loss: 8.0201e-05A: 0s - loss: 8.3959e\n",
      "Epoch 77/100\n",
      "840/840 [==============================] - 7s 9ms/step - loss: 7.4680e-05\n",
      "Epoch 78/100\n",
      "840/840 [==============================] - 7s 9ms/step - loss: 7.6953e-05\n",
      "Epoch 79/100\n",
      "840/840 [==============================] - 5s 6ms/step - loss: 7.6524e-05\n",
      "Epoch 80/100\n",
      "840/840 [==============================] - 7s 9ms/step - loss: 8.7706e-05\n",
      "Epoch 81/100\n",
      "840/840 [==============================] - 8s 9ms/step - loss: 8.5292e-05\n",
      "Epoch 82/100\n",
      "840/840 [==============================] - 5s 6ms/step - loss: 8.5746e-05\n",
      "Epoch 83/100\n",
      "840/840 [==============================] - 7s 9ms/step - loss: 8.2401e-05\n",
      "Epoch 84/100\n",
      "840/840 [==============================] - 8s 9ms/step - loss: 7.1195e-05\n",
      "Epoch 85/100\n",
      "840/840 [==============================] - 5s 6ms/step - loss: 9.7536e-05\n",
      "Epoch 86/100\n",
      "840/840 [==============================] - 8s 9ms/step - loss: 7.9011e-05\n",
      "Epoch 87/100\n",
      "840/840 [==============================] - 8s 10ms/step - loss: 7.4057e-05\n",
      "Epoch 88/100\n",
      "840/840 [==============================] - 8s 9ms/step - loss: 8.8805e-05\n",
      "Epoch 89/100\n",
      "840/840 [==============================] - 5s 6ms/step - loss: 7.7207e-05\n",
      "Epoch 90/100\n",
      "840/840 [==============================] - 8s 9ms/step - loss: 7.7155e-05\n",
      "Epoch 91/100\n",
      "840/840 [==============================] - 8s 10ms/step - loss: 7.6297e-05\n",
      "Epoch 92/100\n",
      "840/840 [==============================] - 7s 8ms/step - loss: 9.9991e-05\n",
      "Epoch 93/100\n"
     ]
    },
    {
     "name": "stdout",
     "output_type": "stream",
     "text": [
      "840/840 [==============================] - 7s 8ms/step - loss: 9.1257e-05\n",
      "Epoch 94/100\n",
      "840/840 [==============================] - 8s 9ms/step - loss: 7.5647e-05\n",
      "Epoch 95/100\n",
      "840/840 [==============================] - 8s 10ms/step - loss: 7.3462e-05\n",
      "Epoch 96/100\n",
      "840/840 [==============================] - 6s 7ms/step - loss: 6.7693e-05\n",
      "Epoch 97/100\n",
      "840/840 [==============================] - 10s 11ms/step - loss: 8.2900e-05\n",
      "Epoch 98/100\n",
      "840/840 [==============================] - 8s 10ms/step - loss: 7.6793e-05\n",
      "Epoch 99/100\n",
      "840/840 [==============================] - 8s 10ms/step - loss: 7.2805e-05\n",
      "Epoch 100/100\n",
      "840/840 [==============================] - 8s 10ms/step - loss: 7.3836e-05\n"
     ]
    },
    {
     "data": {
      "text/plain": [
       "<keras.callbacks.History at 0x1e0dac43400>"
      ]
     },
     "execution_count": 87,
     "metadata": {},
     "output_type": "execute_result"
    }
   ],
   "source": [
    "# Adding the output layer\n",
    "regressor.add(Dense(units = 1))\n",
    "\n",
    "# Compiling the RNN\n",
    "regressor.compile(optimizer = 'adam', loss = 'mean_squared_error')\n",
    "\n",
    "# Fitting the RNN to the Training set\n",
    "regressor.fit(X_train, y_train, epochs = 100, batch_size = 32)\n",
    "\n"
   ]
  },
  {
   "cell_type": "code",
   "execution_count": 88,
   "metadata": {},
   "outputs": [],
   "source": [
    "# Part 3 - Making the predictions and visualising the results\n",
    "\n",
    "# Getting the real stock price of Apr - Nov 2018\n",
    "dataset_test = pd.read_csv('./data/AMZN18.csv')\n",
    "real_stock_price = dataset_test.iloc[:, 1:2].values"
   ]
  },
  {
   "cell_type": "code",
   "execution_count": 89,
   "metadata": {},
   "outputs": [],
   "source": [
    "# Getting the predicted stock price of 2018\n",
    "dataset_total = pd.concat((dataset_train['Open'], dataset_test['Open']), axis = 0)\n",
    "inputs = dataset_total[len(dataset_total) - len(dataset_test) - 60:].values\n",
    "inputs = inputs.reshape(-1,1)\n",
    "inputs = sc.transform(inputs)\n",
    "X_test = []\n",
    "for i in range(60, 468):\n",
    "    X_test.append(inputs[i-60:i, 0])\n",
    "X_test = np.array(X_test)\n",
    "X_test = np.reshape(X_test, (X_test.shape[0], X_test.shape[1], 1))\n",
    "predicted_stock_price = regressor.predict(X_test)\n",
    "predicted_stock_price = sc.inverse_transform(predicted_stock_price)\n"
   ]
  },
  {
   "cell_type": "code",
   "execution_count": 90,
   "metadata": {},
   "outputs": [
    {
     "data": {
      "image/png": "[encoded data removed]",
      "text/plain": [
       "<Figure size 864x648 with 1 Axes>"
      ]
     },
     "metadata": {},
     "output_type": "display_data"
    }
   ],
   "source": [
    "# Visualising the results\n",
    "plt.plot(real_stock_price, color = 'red', label = 'Real Amazon Stock Price')\n",
    "plt.plot(predicted_stock_price, color = 'blue', label = 'Predicted AMZN Stock Price')\n",
    "plt.title('AMZN Stock Price Prediction')\n",
    "plt.xlabel('Time')\n",
    "plt.ylabel('AMZN Stock Price')\n",
    "plt.legend()\n",
    "plt.rcParams['figure.figsize'] = (12,9)\n",
    "plt.show()"
   ]
  },
  {
   "cell_type": "code",
   "execution_count": 91,
   "metadata": {},
   "outputs": [],
   "source": [
    "import pandashells"
   ]
  },
  {
   "cell_type": "code",
   "execution_count": null,
   "metadata": {},
   "outputs": [],
   "source": []
  }
 ],
 "metadata": {
  "kernelspec": {
   "display_name": "Python 3",
   "language": "python",
   "name": "python3"
  },
  "language_info": {
   "codemirror_mode": {
    "name": "ipython",
    "version": 3
   },
   "file_extension": ".py",
   "mimetype": "text/x-python",
   "name": "python",
   "nbconvert_exporter": "python",
   "pygments_lexer": "ipython3",
   "version": "3.6.5"
  },
  "toc": {
   "base_numbering": 1,
   "nav_menu": {},
   "number_sections": true,
   "sideBar": true,
   "skip_h1_title": false,
   "title_cell": "Table of Contents",
   "title_sidebar": "Contents",
   "toc_cell": false,
   "toc_position": {},
   "toc_section_display": true,
   "toc_window_display": false
  },
  "varInspector": {
   "cols": {
    "lenName": 16,
    "lenType": 16,
    "lenVar": 40
   },
   "kernels_config": {
    "python": {
     "delete_cmd_postfix": "",
     "delete_cmd_prefix": "del ",
     "library": "var_list.py",
     "varRefreshCmd": "print(var_dic_list())"
    },
    "r": {
     "delete_cmd_postfix": ") ",
     "delete_cmd_prefix": "rm(",
     "library": "var_list.r",
     "varRefreshCmd": "cat(var_dic_list()) "
    }
   },
   "types_to_exclude": [
    "module",
    "function",
    "builtin_function_or_method",
    "instance",
    "_Feature"
   ],
   "window_display": false
  }
 },
 "nbformat": 4,
 "nbformat_minor": 2
}
