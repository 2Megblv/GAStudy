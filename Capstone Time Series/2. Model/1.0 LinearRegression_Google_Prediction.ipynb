{
 "cells": [
  {
   "cell_type": "markdown",
   "metadata": {},
   "source": [
    "# Linear Regression Stock Prices - Google Prediction\n",
    "\n",
    "Predicting Google Stock Prices using Linear Regressions"
   ]
  },
  {
   "cell_type": "code",
   "execution_count": 1,
   "metadata": {},
   "outputs": [],
   "source": [
    "import pandas as pd\n",
    "import numpy as np\n",
    "import datetime\n",
    "import quandl\n",
    "import math\n",
    "import matplotlib.pyplot as plt\n",
    "from matplotlib import style\n",
    "\n",
    "from sklearn import preprocessing #for scaling data\n",
    "from sklearn.model_selection import train_test_split # for training and testing samples, splitting, shuffling\n",
    "from sklearn import svm # can use for regression\n",
    "from sklearn.linear_model import LinearRegression\n",
    "\n",
    "%matplotlib inline\n",
    "pd.set_option('display.notebook_repr_html', False)\n",
    "pd.set_option('display.max_columns', 6)\n",
    "pd.set_option('display.max_rows', 10)\n",
    "pd.set_option('display.width', 78)\n",
    "pd.set_option('precision', 3)"
   ]
  },
  {
   "cell_type": "markdown",
   "metadata": {},
   "source": [
    "### Fetch Stock Data via Quandl"
   ]
  },
  {
   "cell_type": "code",
   "execution_count": 2,
   "metadata": {},
   "outputs": [
    {
     "name": "stdout",
     "output_type": "stream",
     "text": [
      "              Open    High     Low     ...       Adj. Low  Adj. Close  \\\n",
      "Date                                   ...                              \n",
      "2004-08-19  100.01  104.06   95.96     ...         48.129      50.323   \n",
      "2004-08-20  101.01  109.08  100.50     ...         50.406      54.323   \n",
      "2004-08-23  110.76  113.48  109.05     ...         54.694      54.869   \n",
      "2004-08-24  111.24  111.60  103.57     ...         51.945      52.597   \n",
      "2004-08-25  104.76  108.00  103.88     ...         52.101      53.164   \n",
      "\n",
      "            Adj. Volume  \n",
      "Date                     \n",
      "2004-08-19    4.466e+07  \n",
      "2004-08-20    2.283e+07  \n",
      "2004-08-23    1.826e+07  \n",
      "2004-08-24    1.525e+07  \n",
      "2004-08-25    9.189e+06  \n",
      "\n",
      "[5 rows x 12 columns]\n"
     ]
    }
   ],
   "source": [
    "df = quandl.get('WIKI/GOOGL')\n",
    "\n",
    "print(df.head())"
   ]
  },
  {
   "cell_type": "markdown",
   "metadata": {},
   "source": [
    "### Create Calculated Columns - High - Low % , Percentage Change"
   ]
  },
  {
   "cell_type": "code",
   "execution_count": 3,
   "metadata": {},
   "outputs": [
    {
     "name": "stdout",
     "output_type": "stream",
     "text": [
      "            Adj. Close  High_Low_PCT  Percent_Change  Adj. Volume\n",
      "Date                                                             \n",
      "2004-08-19      50.323         3.713           0.325    4.466e+07\n",
      "2004-08-20      54.323         0.711           7.227    2.283e+07\n",
      "2004-08-23      54.869         3.729          -1.228    1.826e+07\n",
      "2004-08-24      52.597         6.417          -5.726    1.525e+07\n",
      "2004-08-25      53.164         1.887           1.184    9.189e+06\n"
     ]
    }
   ],
   "source": [
    "df = df[['Adj. Open', 'Adj. High', 'Adj. Low', 'Adj. Close', 'Adj. Volume']]\n",
    "df['High_Low_PCT'] = (df['Adj. High'] - df['Adj. Close']) / df['Adj. Close'] * 100.0 # High Low %\n",
    "df['Percent_Change'] = (df['Adj. Close'] - df['Adj. Open']) / df['Adj. Open'] * 100.0 # % change in stock prices\n",
    "\n",
    "df = df[['Adj. Close', 'High_Low_PCT', 'Percent_Change', 'Adj. Volume']] # We only care about these features.\n",
    "\n",
    "print(df.head())"
   ]
  },
  {
   "cell_type": "markdown",
   "metadata": {},
   "source": [
    "### Create Label Column for Forecast"
   ]
  },
  {
   "cell_type": "code",
   "execution_count": 4,
   "metadata": {},
   "outputs": [
    {
     "name": "stdout",
     "output_type": "stream",
     "text": [
      "            Adj. Close  High_Low_PCT  Percent_Change  Adj. Volume   label\n",
      "Date                                                                     \n",
      "2004-08-19      50.323         3.713           0.325    4.466e+07  69.078\n",
      "2004-08-20      54.323         0.711           7.227    2.283e+07  67.839\n",
      "2004-08-23      54.869         3.729          -1.228    1.826e+07  68.913\n",
      "2004-08-24      52.597         6.417          -5.726    1.525e+07  70.668\n",
      "2004-08-25      53.164         1.887           1.184    9.189e+06  71.220\n"
     ]
    }
   ],
   "source": [
    "forecast_column = 'Adj. Close'\n",
    "# To not waste data, we provide features with any null values with some outlier like -112233\n",
    "df.fillna(-112233, inplace=True) # na means not available, used to fill NaN/nan values\n",
    "how_many_days = int(math.ceil(0.01*len(df)))\n",
    "\n",
    "df['label'] = df[forecast_column].shift(-how_many_days)\n",
    "\n",
    "print(df.head())"
   ]
  },
  {
   "cell_type": "markdown",
   "metadata": {},
   "source": [
    "### Data Preprocessing"
   ]
  },
  {
   "cell_type": "code",
   "execution_count": 5,
   "metadata": {},
   "outputs": [
    {
     "name": "stdout",
     "output_type": "stream",
     "text": [
      "3389 3389\n"
     ]
    }
   ],
   "source": [
    "X = np.array(df.drop(['label'], axis=1)) # this 1 is axis, tells that we need to drop a 'column' named label\n",
    "\n",
    "\"\"\"The preprocessing.scale() algorithm puts your data on one scale. \n",
    "This is helpful with largely sparse datasets. In simple words, your data is vastly spread out. \n",
    "For example the values of X maybe like so:\n",
    "\n",
    "X = [1, 4, 400, 10000, 100000]\n",
    "\n",
    "The issue with sparsity is that it very biased or in statistical terms skewed. \n",
    "So, therefore, scaling the data brings all your values onto one scale eliminating the sparsity.\"\"\"\n",
    "\n",
    "X = preprocessing.scale(X)\n",
    "X_lately = X[-how_many_days:]\n",
    "X = X[:-how_many_days]\n",
    "# X = X[:-forecast_out+1]\n",
    "df.dropna(inplace=True)\n",
    "y = np.array(df['label'])\n",
    "\n",
    "print(len(X), len(y))"
   ]
  },
  {
   "cell_type": "markdown",
   "metadata": {},
   "source": [
    "### Training and Testing"
   ]
  },
  {
   "cell_type": "code",
   "execution_count": 6,
   "metadata": {},
   "outputs": [],
   "source": [
    "X_train, X_test, y_train, y_test = train_test_split(X, y, test_size=0.2)\n",
    "clf = LinearRegression() # parameter n_jobs is 1 by default. Can increase to make it run faster: parallelism \n",
    "# can use n_jobs=-1 to make the most of what your processor can do.\n",
    "clf.fit(X_train, y_train)\n",
    "\n",
    "# pickling: good to have at disposal. pickle helps with serialization of a python object\n",
    "import pickle # used to save. We normally save after training data (fit) because that's the most tedious step\n",
    "\n",
    "# clf.fit(X_train, y_train): Used after this\n",
    "with open('LinearRegression.pickle', 'wb') as f:\n",
    "    pickle.dump(clf, f)\n",
    "    \n",
    "# To use the pickle files again\n",
    "pickle_in = open('LinearRegression.pickle', 'rb')\n",
    "clf = pickle.load(pickle_in)\n",
    "\n",
    "accuracy = clf.score(X_test, y_test)\n",
    "\n",
    "# print(accuracy)"
   ]
  },
  {
   "cell_type": "markdown",
   "metadata": {},
   "source": [
    "### Create a Prediction"
   ]
  },
  {
   "cell_type": "code",
   "execution_count": 7,
   "metadata": {},
   "outputs": [
    {
     "name": "stdout",
     "output_type": "stream",
     "text": [
      "Day 1 prediction: 1100.2762298503535\n",
      "Day 2 prediction: 1072.3941292888207\n",
      "Day 3 prediction: 1017.2302400742566\n",
      "Day 4 prediction: 1060.5454189868242\n",
      "Day 5 prediction: 1073.6693300993768\n",
      "Day 6 prediction: 1074.0230384779316\n",
      "Day 7 prediction: 1092.2563261261198\n",
      "Day 8 prediction: 1112.2009665084536\n",
      "Day 9 prediction: 1114.558455588829\n",
      "Day 10 prediction: 1122.0807521341276\n",
      "Day 11 prediction: 1130.603591969214\n",
      "Day 12 prediction: 1129.745720991108\n",
      "Day 13 prediction: 1149.7745881650399\n",
      "Day 14 prediction: 1165.3173697079992\n",
      "Day 15 prediction: 1136.1575752788206\n",
      "Day 16 prediction: 1122.2510049920256\n",
      "Day 17 prediction: 1087.239721170719\n",
      "Day 18 prediction: 1102.899764301787\n",
      "Day 19 prediction: 1114.1080352202625\n",
      "Day 20 prediction: 1122.4546549190559\n",
      "Day 21 prediction: 1135.2415628315157\n",
      "Day 22 prediction: 1150.471836587613\n",
      "Day 23 prediction: 1181.639009514552\n",
      "Day 24 prediction: 1185.9718785882278\n",
      "Day 25 prediction: 1156.8042585584676\n",
      "Day 26 prediction: 1168.8783742958267\n",
      "Day 27 prediction: 1170.7244884705858\n",
      "Day 28 prediction: 1153.5804864488598\n",
      "Day 29 prediction: 1119.0933347382847\n",
      "Day 30 prediction: 1115.7274373004839\n",
      "Day 31 prediction: 1112.6654329728299\n",
      "Day 32 prediction: 1069.6251710569936\n",
      "Day 33 prediction: 1040.5315169593011\n",
      "Day 34 prediction: 1073.8699447962676\n",
      "Day 35 prediction: 1019.063995658655\n",
      "\n",
      "Accuracy: 97.86600043605227\n"
     ]
    }
   ],
   "source": [
    "stock_prediction = clf.predict(X_lately)\n",
    "\n",
    "for i in range(how_many_days):\n",
    "    print('Day {0} prediction: {1}'.format(i+1, stock_prediction[i]))\n",
    "    \n",
    "print('\\nAccuracy: {0}'.format(accuracy*100))"
   ]
  },
  {
   "cell_type": "code",
   "execution_count": 10,
   "metadata": {},
   "outputs": [
    {
     "data": {
      "image/png": "[encoded data removed]",
      "text/plain": [
       "<Figure size 864x648 with 1 Axes>"
      ]
     },
     "metadata": {},
     "output_type": "display_data"
    }
   ],
   "source": [
    "df['Stock Forecast'] = np.nan\n",
    "\n",
    "last_date = df.iloc[-1].name # name of last date in dataset\n",
    "last_date_unix = last_date.timestamp()\n",
    "one_day_seconds = 86400\n",
    "next_date_unix = last_date_unix + one_day_seconds\n",
    "\n",
    "for i in stock_prediction:\n",
    "    next_date = datetime.datetime.fromtimestamp(next_date_unix)\n",
    "    next_date_unix += one_day_seconds\n",
    "    df.loc[next_date] = [np.nan for _ in range(len(df.columns)-1)] + [i]\n",
    "    \n",
    "df['Adj. Close'].plot()\n",
    "df['Stock Forecast'].plot()\n",
    "plt.legend(loc=4)\n",
    "plt.xlabel('Date')\n",
    "plt.ylabel('Price - Google')\n",
    "plt.rcParams['figure.figsize'] = (12,9)\n",
    "plt.show()"
   ]
  },
  {
   "cell_type": "code",
   "execution_count": null,
   "metadata": {},
   "outputs": [],
   "source": []
  }
 ],
 "metadata": {
  "kernelspec": {
   "display_name": "Python 3",
   "language": "python",
   "name": "python3"
  },
  "language_info": {
   "codemirror_mode": {
    "name": "ipython",
    "version": 3
   },
   "file_extension": ".py",
   "mimetype": "text/x-python",
   "name": "python",
   "nbconvert_exporter": "python",
   "pygments_lexer": "ipython3",
   "version": "3.6.5"
  },
  "toc": {
   "base_numbering": 1,
   "nav_menu": {},
   "number_sections": true,
   "sideBar": true,
   "skip_h1_title": false,
   "title_cell": "Table of Contents",
   "title_sidebar": "Contents",
   "toc_cell": false,
   "toc_position": {},
   "toc_section_display": true,
   "toc_window_display": false
  },
  "varInspector": {
   "cols": {
    "lenName": 16,
    "lenType": 16,
    "lenVar": 40
   },
   "kernels_config": {
    "python": {
     "delete_cmd_postfix": "",
     "delete_cmd_prefix": "del ",
     "library": "var_list.py",
     "varRefreshCmd": "print(var_dic_list())"
    },
    "r": {
     "delete_cmd_postfix": ") ",
     "delete_cmd_prefix": "rm(",
     "library": "var_list.r",
     "varRefreshCmd": "cat(var_dic_list()) "
    }
   },
   "types_to_exclude": [
    "module",
    "function",
    "builtin_function_or_method",
    "instance",
    "_Feature"
   ],
   "window_display": false
  }
 },
 "nbformat": 4,
 "nbformat_minor": 2
}
