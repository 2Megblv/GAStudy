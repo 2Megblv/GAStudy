{
 "cells": [
  {
   "cell_type": "markdown",
   "metadata": {},
   "source": [
    "# Linear Regression Stock Prices - Apple Inc Prediction\n",
    "\n",
    "Predicting Apple Stock Prices using Linear Regressions"
   ]
  },
  {
   "cell_type": "code",
   "execution_count": 1,
   "metadata": {},
   "outputs": [],
   "source": [
    "import pandas as pd\n",
    "import numpy as np\n",
    "import datetime\n",
    "import quandl\n",
    "import math\n",
    "import matplotlib.pyplot as plt\n",
    "from matplotlib import style\n",
    "\n",
    "from sklearn import preprocessing #for scaling data\n",
    "from sklearn.model_selection import train_test_split # for training and testing samples, splitting, shuffling\n",
    "from sklearn import svm # can use for regression\n",
    "from sklearn.linear_model import LinearRegression\n",
    "\n",
    "%matplotlib inline\n",
    "pd.set_option('display.notebook_repr_html', False)\n",
    "pd.set_option('display.max_columns', 6)\n",
    "pd.set_option('display.max_rows', 10)\n",
    "pd.set_option('display.width', 78)\n",
    "pd.set_option('precision', 3)"
   ]
  },
  {
   "cell_type": "markdown",
   "metadata": {},
   "source": [
    "### Fetch Stock Data via Quandl"
   ]
  },
  {
   "cell_type": "code",
   "execution_count": 2,
   "metadata": {},
   "outputs": [
    {
     "name": "stdout",
     "output_type": "stream",
     "text": [
      "             Open   High    Low     ...       Adj. Low  Adj. Close  \\\n",
      "Date                                ...                              \n",
      "1980-12-12  28.75  28.87  28.75     ...          0.423       0.423   \n",
      "1980-12-15  27.38  27.38  27.25     ...          0.401       0.401   \n",
      "1980-12-16  25.37  25.37  25.25     ...          0.371       0.371   \n",
      "1980-12-17  25.87  26.00  25.87     ...          0.380       0.380   \n",
      "1980-12-18  26.63  26.75  26.63     ...          0.392       0.392   \n",
      "\n",
      "            Adj. Volume  \n",
      "Date                     \n",
      "1980-12-12    1.173e+08  \n",
      "1980-12-15    4.397e+07  \n",
      "1980-12-16    2.643e+07  \n",
      "1980-12-17    2.161e+07  \n",
      "1980-12-18    1.836e+07  \n",
      "\n",
      "[5 rows x 12 columns]\n"
     ]
    }
   ],
   "source": [
    "df = quandl.get('WIKI/AAPL')\n",
    "\n",
    "print(df.head())"
   ]
  },
  {
   "cell_type": "markdown",
   "metadata": {},
   "source": [
    "### Create Calculated Columns - High - Low % , Percentage Change"
   ]
  },
  {
   "cell_type": "code",
   "execution_count": 3,
   "metadata": {},
   "outputs": [
    {
     "name": "stdout",
     "output_type": "stream",
     "text": [
      "            Adj. Close  High_Low_PCT  Percent_Change  Adj. Volume\n",
      "Date                                                             \n",
      "1980-12-12       0.423         0.417           0.000    1.173e+08\n",
      "1980-12-15       0.401         0.477          -0.475    4.397e+07\n",
      "1980-12-16       0.371         0.475          -0.473    2.643e+07\n",
      "1980-12-17       0.380         0.503           0.000    2.161e+07\n",
      "1980-12-18       0.392         0.451           0.000    1.836e+07\n"
     ]
    }
   ],
   "source": [
    "df = df[['Adj. Open', 'Adj. High', 'Adj. Low', 'Adj. Close', 'Adj. Volume']]\n",
    "df['High_Low_PCT'] = (df['Adj. High'] - df['Adj. Close']) / df['Adj. Close'] * 100.0 # High Low %\n",
    "df['Percent_Change'] = (df['Adj. Close'] - df['Adj. Open']) / df['Adj. Open'] * 100.0 # % change in stock prices\n",
    "\n",
    "df = df[['Adj. Close', 'High_Low_PCT', 'Percent_Change', 'Adj. Volume']] # We only care about these features.\n",
    "\n",
    "print(df.head())"
   ]
  },
  {
   "cell_type": "markdown",
   "metadata": {},
   "source": [
    "### Create Label Column for Forecast"
   ]
  },
  {
   "cell_type": "code",
   "execution_count": 4,
   "metadata": {},
   "outputs": [
    {
     "name": "stdout",
     "output_type": "stream",
     "text": [
      "            Adj. Close  High_Low_PCT  Percent_Change  Adj. Volume  label\n",
      "Date                                                                    \n",
      "1980-12-12       0.423         0.417           0.000    1.173e+08  0.410\n",
      "1980-12-15       0.401         0.477          -0.475    4.397e+07  0.417\n",
      "1980-12-16       0.371         0.475          -0.473    2.643e+07  0.417\n",
      "1980-12-17       0.380         0.503           0.000    2.161e+07  0.415\n",
      "1980-12-18       0.392         0.451           0.000    1.836e+07  0.413\n"
     ]
    }
   ],
   "source": [
    "forecast_column = 'Adj. Close'\n",
    "# To not waste data, we provide features with any null values with some outlier like -112233\n",
    "df.fillna(-112233, inplace=True) # na means not available, used to fill NaN/nan values\n",
    "how_many_days = int(math.ceil(0.01*len(df)))\n",
    "\n",
    "df['label'] = df[forecast_column].shift(-how_many_days)\n",
    "\n",
    "print(df.head())"
   ]
  },
  {
   "cell_type": "markdown",
   "metadata": {},
   "source": [
    "### Data Preprocessing"
   ]
  },
  {
   "cell_type": "code",
   "execution_count": 5,
   "metadata": {},
   "outputs": [
    {
     "name": "stdout",
     "output_type": "stream",
     "text": [
      "9306 9306\n"
     ]
    },
    {
     "name": "stderr",
     "output_type": "stream",
     "text": [
      "C:\\Anaconda3\\lib\\site-packages\\sklearn\\preprocessing\\data.py:164: UserWarning: Numerical issues were encountered when centering the data and might not be solved. Dataset may contain too large values. You may need to prescale your features.\n",
      "  warnings.warn(\"Numerical issues were encountered \"\n"
     ]
    }
   ],
   "source": [
    "X = np.array(df.drop(['label'], axis=1)) # this 1 is axis, tells that we need to drop a 'column' named label\n",
    "\n",
    "\"\"\"The preprocessing.scale() algorithm puts your data on one scale. \n",
    "This is helpful with largely sparse datasets. In simple words, your data is vastly spread out. \n",
    "For example the values of X maybe like so:\n",
    "\n",
    "X = [1, 4, 400, 10000, 100000]\n",
    "\n",
    "The issue with sparsity is that it very biased or in statistical terms skewed. \n",
    "So, therefore, scaling the data brings all your values onto one scale eliminating the sparsity.\"\"\"\n",
    "\n",
    "X = preprocessing.scale(X)\n",
    "X_lately = X[-how_many_days:]\n",
    "X = X[:-how_many_days]\n",
    "# X = X[:-forecast_out+1]\n",
    "df.dropna(inplace=True)\n",
    "y = np.array(df['label'])\n",
    "\n",
    "print(len(X), len(y))"
   ]
  },
  {
   "cell_type": "markdown",
   "metadata": {},
   "source": [
    "### Training and Testing"
   ]
  },
  {
   "cell_type": "code",
   "execution_count": 6,
   "metadata": {},
   "outputs": [],
   "source": [
    "X_train, X_test, y_train, y_test = train_test_split(X, y, test_size=0.2)\n",
    "clf = LinearRegression() # parameter n_jobs is 1 by default. Can increase to make it run faster: parallelism \n",
    "# can use n_jobs=-1 to make the most of what your processor can do.\n",
    "clf.fit(X_train, y_train)\n",
    "\n",
    "# pickling: good to have at disposal. pickle helps with serialization of a python object\n",
    "import pickle # used to save. We normally save after training data (fit) because that's the most tedious step\n",
    "\n",
    "# clf.fit(X_train, y_train): Used after this\n",
    "with open('LinearRegression.pickle', 'wb') as f:\n",
    "    pickle.dump(clf, f)\n",
    "    \n",
    "# To use the pickle files again\n",
    "pickle_in = open('LinearRegression.pickle', 'rb')\n",
    "clf = pickle.load(pickle_in)\n",
    "\n",
    "accuracy = clf.score(X_test, y_test)\n",
    "\n",
    "# print(accuracy)"
   ]
  },
  {
   "cell_type": "markdown",
   "metadata": {},
   "source": [
    "### Create a Prediction"
   ]
  },
  {
   "cell_type": "code",
   "execution_count": 7,
   "metadata": {},
   "outputs": [
    {
     "name": "stdout",
     "output_type": "stream",
     "text": [
      "Day 1 prediction: 188.06771084356419\n",
      "Day 2 prediction: 186.78734804007408\n",
      "Day 3 prediction: 186.00314965324907\n",
      "Day 4 prediction: 183.11861205659272\n",
      "Day 5 prediction: 180.78626193947161\n",
      "Day 6 prediction: 182.94993613378332\n",
      "Day 7 prediction: 181.92371413689793\n",
      "Day 8 prediction: 181.79563956702634\n",
      "Day 9 prediction: 184.99069941052036\n",
      "Day 10 prediction: 187.0549980318133\n",
      "Day 11 prediction: 187.10708829348656\n",
      "Day 12 prediction: 186.16221253025896\n",
      "Day 13 prediction: 184.98128437353185\n",
      "Day 14 prediction: 181.05141750139822\n",
      "Day 15 prediction: 183.7235563592283\n",
      "Day 16 prediction: 182.8453690476012\n",
      "Day 17 prediction: 181.44721245952212\n",
      "Day 18 prediction: 181.19167279940694\n",
      "Day 19 prediction: 180.5547098827505\n",
      "Day 20 prediction: 181.12864818592422\n",
      "Day 21 prediction: 181.05234260810303\n",
      "Day 22 prediction: 184.46461094143146\n",
      "Day 23 prediction: 183.6233912941643\n",
      "Day 24 prediction: 184.13618860990155\n",
      "Day 25 prediction: 184.12911257038928\n",
      "Day 26 prediction: 185.95256910480947\n",
      "Day 27 prediction: 188.5147822806597\n",
      "Day 28 prediction: 186.63345400651215\n",
      "Day 29 prediction: 186.4005255368977\n",
      "Day 30 prediction: 187.0220441925146\n",
      "Day 31 prediction: 187.1365529915322\n",
      "Day 32 prediction: 182.3806386320872\n",
      "Day 33 prediction: 182.46127081264137\n",
      "Day 34 prediction: 182.91470603491905\n",
      "Day 35 prediction: 180.9542835587975\n",
      "Day 36 prediction: 184.143276938637\n",
      "Day 37 prediction: 183.95245976801476\n",
      "Day 38 prediction: 185.01490630420415\n",
      "Day 39 prediction: 187.05362570208868\n",
      "Day 40 prediction: 186.3387693340325\n",
      "Day 41 prediction: 186.40623867434365\n",
      "Day 42 prediction: 186.37583508058404\n",
      "Day 43 prediction: 187.429727346639\n",
      "Day 44 prediction: 189.33892025949706\n",
      "Day 45 prediction: 188.14690815752084\n",
      "Day 46 prediction: 191.36733641337517\n",
      "Day 47 prediction: 191.64195424757244\n",
      "Day 48 prediction: 190.75400949888615\n",
      "Day 49 prediction: 189.25195331164952\n",
      "Day 50 prediction: 189.0720663588057\n",
      "Day 51 prediction: 186.155047547092\n",
      "Day 52 prediction: 182.74892394707382\n",
      "Day 53 prediction: 183.45969115348862\n",
      "Day 54 prediction: 179.5496381880431\n",
      "Day 55 prediction: 178.50576958891105\n",
      "Day 56 prediction: 178.96262088984773\n",
      "Day 57 prediction: 179.35995499484034\n",
      "Day 58 prediction: 171.0649070083782\n",
      "Day 59 prediction: 167.7047606028516\n",
      "Day 60 prediction: 173.7669914680849\n",
      "Day 61 prediction: 170.412953011952\n",
      "Day 62 prediction: 165.72271060224338\n",
      "Day 63 prediction: 166.73708886182038\n",
      "Day 64 prediction: 173.65244067915484\n",
      "Day 65 prediction: 175.6273094519997\n",
      "Day 66 prediction: 178.75926560530604\n",
      "Day 67 prediction: 184.8488983522777\n",
      "Day 68 prediction: 184.13607656939683\n",
      "Day 69 prediction: 183.52964975860263\n",
      "Day 70 prediction: 182.71060960226015\n",
      "Day 71 prediction: 184.41134147889574\n",
      "Day 72 prediction: 187.66615294773516\n",
      "Day 73 prediction: 191.21559668192327\n",
      "Day 74 prediction: 190.58638480551025\n",
      "Day 75 prediction: 190.26835197403565\n",
      "Day 76 prediction: 186.7829852458215\n",
      "Day 77 prediction: 188.26510565809988\n",
      "Day 78 prediction: 188.91729370171853\n",
      "Day 79 prediction: 188.84967770792886\n",
      "Day 80 prediction: 187.12392551153405\n",
      "Day 81 prediction: 189.15454428180846\n",
      "Day 82 prediction: 192.38356283531795\n",
      "Day 83 prediction: 194.18954105803599\n",
      "Day 84 prediction: 192.1931494652682\n",
      "Day 85 prediction: 190.71096705543144\n",
      "Day 86 prediction: 190.8698657114374\n",
      "Day 87 prediction: 190.3210084484732\n",
      "Day 88 prediction: 187.3613635127441\n",
      "Day 89 prediction: 187.2457317353819\n",
      "Day 90 prediction: 182.9446653489118\n",
      "Day 91 prediction: 180.18528643069544\n",
      "Day 92 prediction: 176.0004037217692\n",
      "Day 93 prediction: 184.47165884318426\n",
      "Day 94 prediction: 179.48961987610963\n",
      "\n",
      "Accuracy: 97.55271964082294\n"
     ]
    }
   ],
   "source": [
    "stock_prediction = clf.predict(X_lately)\n",
    "\n",
    "for i in range(how_many_days):\n",
    "    print('Day {0} prediction: {1}'.format(i+1, stock_prediction[i]))\n",
    "    \n",
    "print('\\nAccuracy: {0}'.format(accuracy*100))"
   ]
  },
  {
   "cell_type": "code",
   "execution_count": 9,
   "metadata": {},
   "outputs": [
    {
     "data": {
      "image/png": "[encoded data removed]",
      "text/plain": [
       "<Figure size 864x648 with 1 Axes>"
      ]
     },
     "metadata": {},
     "output_type": "display_data"
    }
   ],
   "source": [
    "plt.rcParams['figure.figsize'] = (12,9)\n",
    "\n",
    "df['Stock Forecast'] = np.nan\n",
    "\n",
    "last_date = df.iloc[-1].name # name of last date in dataset\n",
    "last_date_unix = last_date.timestamp()\n",
    "one_day_seconds = 86400\n",
    "next_date_unix = last_date_unix + one_day_seconds\n",
    "\n",
    "for i in stock_prediction:\n",
    "    next_date = datetime.datetime.fromtimestamp(next_date_unix)\n",
    "    next_date_unix += one_day_seconds\n",
    "    df.loc[next_date] = [np.nan for _ in range(len(df.columns)-1)] + [i]\n",
    "    \n",
    "df['Adj. Close'].plot()\n",
    "df['Stock Forecast'].plot()\n",
    "plt.legend(loc=4)\n",
    "plt.xlabel('Date')\n",
    "plt.ylabel('Price - Apple Inc')\n",
    "\n",
    "plt.show()"
   ]
  },
  {
   "cell_type": "code",
   "execution_count": null,
   "metadata": {},
   "outputs": [],
   "source": []
  }
 ],
 "metadata": {
  "kernelspec": {
   "display_name": "Python 3",
   "language": "python",
   "name": "python3"
  },
  "language_info": {
   "codemirror_mode": {
    "name": "ipython",
    "version": 3
   },
   "file_extension": ".py",
   "mimetype": "text/x-python",
   "name": "python",
   "nbconvert_exporter": "python",
   "pygments_lexer": "ipython3",
   "version": "3.6.5"
  },
  "toc": {
   "base_numbering": 1,
   "nav_menu": {},
   "number_sections": true,
   "sideBar": true,
   "skip_h1_title": false,
   "title_cell": "Table of Contents",
   "title_sidebar": "Contents",
   "toc_cell": false,
   "toc_position": {},
   "toc_section_display": true,
   "toc_window_display": false
  },
  "varInspector": {
   "cols": {
    "lenName": 16,
    "lenType": 16,
    "lenVar": 40
   },
   "kernels_config": {
    "python": {
     "delete_cmd_postfix": "",
     "delete_cmd_prefix": "del ",
     "library": "var_list.py",
     "varRefreshCmd": "print(var_dic_list())"
    },
    "r": {
     "delete_cmd_postfix": ") ",
     "delete_cmd_prefix": "rm(",
     "library": "var_list.r",
     "varRefreshCmd": "cat(var_dic_list()) "
    }
   },
   "types_to_exclude": [
    "module",
    "function",
    "builtin_function_or_method",
    "instance",
    "_Feature"
   ],
   "window_display": false
  }
 },
 "nbformat": 4,
 "nbformat_minor": 2
}
