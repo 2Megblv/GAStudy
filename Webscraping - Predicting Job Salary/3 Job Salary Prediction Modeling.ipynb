{
 "cells": [
  {
   "cell_type": "markdown",
   "metadata": {},
   "source": [
    "# Predicting Salaries using Random Forrest\n"
   ]
  },
  {
   "cell_type": "markdown",
   "metadata": {},
   "source": [
    "Loading the data for the cleaned dataframe"
   ]
  },
  {
   "cell_type": "code",
   "execution_count": 4,
   "metadata": {},
   "outputs": [],
   "source": [
    "import pandas as pd"
   ]
  },
  {
   "cell_type": "code",
   "execution_count": 12,
   "metadata": {},
   "outputs": [
    {
     "data": {
      "text/html": [
       "<div>\n",
       "<style scoped>\n",
       "    .dataframe tbody tr th:only-of-type {\n",
       "        vertical-align: middle;\n",
       "    }\n",
       "\n",
       "    .dataframe tbody tr th {\n",
       "        vertical-align: top;\n",
       "    }\n",
       "\n",
       "    .dataframe thead th {\n",
       "        text-align: right;\n",
       "    }\n",
       "</style>\n",
       "<table border=\"1\" class=\"dataframe\">\n",
       "  <thead>\n",
       "    <tr style=\"text-align: right;\">\n",
       "      <th></th>\n",
       "      <th>city</th>\n",
       "      <th>job_title</th>\n",
       "      <th>company_name</th>\n",
       "      <th>summary</th>\n",
       "      <th>salary_lower</th>\n",
       "      <th>salary_upper</th>\n",
       "      <th>mean_salary</th>\n",
       "    </tr>\n",
       "  </thead>\n",
       "  <tbody>\n",
       "    <tr>\n",
       "      <th>0</th>\n",
       "      <td>Sydney</td>\n",
       "      <td>Data Scientist</td>\n",
       "      <td>Domain Group</td>\n",
       "      <td>As a Data Scientist</td>\n",
       "      <td>82500.0</td>\n",
       "      <td>112500.0</td>\n",
       "      <td>97500.0</td>\n",
       "    </tr>\n",
       "    <tr>\n",
       "      <th>1</th>\n",
       "      <td>Sydney</td>\n",
       "      <td>Data Scientist</td>\n",
       "      <td>ANZ Banking Group</td>\n",
       "      <td>As the Data Scientist</td>\n",
       "      <td>82500.0</td>\n",
       "      <td>112500.0</td>\n",
       "      <td>97500.0</td>\n",
       "    </tr>\n",
       "    <tr>\n",
       "      <th>2</th>\n",
       "      <td>Sydney</td>\n",
       "      <td>Junior Data Scientist</td>\n",
       "      <td>Intellify</td>\n",
       "      <td>We also believe great Data Scientist</td>\n",
       "      <td>80000.0</td>\n",
       "      <td>100000.0</td>\n",
       "      <td>90000.0</td>\n",
       "    </tr>\n",
       "  </tbody>\n",
       "</table>\n",
       "</div>"
      ],
      "text/plain": [
       "     city              job_title       company_name  \\\n",
       "0  Sydney         Data Scientist       Domain Group   \n",
       "1  Sydney         Data Scientist  ANZ Banking Group   \n",
       "2  Sydney  Junior Data Scientist          Intellify   \n",
       "\n",
       "                                summary  salary_lower  salary_upper  \\\n",
       "0                   As a Data Scientist       82500.0      112500.0   \n",
       "1                 As the Data Scientist       82500.0      112500.0   \n",
       "2  We also believe great Data Scientist       80000.0      100000.0   \n",
       "\n",
       "   mean_salary  \n",
       "0      97500.0  \n",
       "1      97500.0  \n",
       "2      90000.0  "
      ]
     },
     "execution_count": 12,
     "metadata": {},
     "output_type": "execute_result"
    }
   ],
   "source": [
    "predict_df = pd.read_csv('./data/dsjob-salary.csv', index_col=0)\n",
    "predict_df = predict_df.reset_index(drop=True)\n",
    "predict_df.head(3)"
   ]
  },
  {
   "cell_type": "markdown",
   "metadata": {},
   "source": [
    "We want to predict a binary variable - whether the salary was low or high. Compute the median salary and create a new binary variable that is true when the salary is high (above the median)\n",
    "We could also perform Linear Regression (or any regression) to predict the salary value here. Instead, we are going to convert this into a binary classification problem, by predicting two classes, HIGH vs LOW salary.\n",
    "\n",
    "While performing regression may be better, performing classification may help remove some of the noise of the extreme salaries.  However we don't have an extremely high Salary on the dataset but the min of 55K still in a reasonable range."
   ]
  },
  {
   "cell_type": "code",
   "execution_count": 13,
   "metadata": {},
   "outputs": [
    {
     "name": "stdout",
     "output_type": "stream",
     "text": [
      "The median salary for our data set is $80000.0\n"
     ]
    }
   ],
   "source": [
    "median = predict_df['mean_salary'].median()\n",
    "print ('The median salary for our data set is $' + str(median))"
   ]
  },
  {
   "cell_type": "code",
   "execution_count": 14,
   "metadata": {},
   "outputs": [
    {
     "data": {
      "text/html": [
       "<div>\n",
       "<style scoped>\n",
       "    .dataframe tbody tr th:only-of-type {\n",
       "        vertical-align: middle;\n",
       "    }\n",
       "\n",
       "    .dataframe tbody tr th {\n",
       "        vertical-align: top;\n",
       "    }\n",
       "\n",
       "    .dataframe thead th {\n",
       "        text-align: right;\n",
       "    }\n",
       "</style>\n",
       "<table border=\"1\" class=\"dataframe\">\n",
       "  <thead>\n",
       "    <tr style=\"text-align: right;\">\n",
       "      <th></th>\n",
       "      <th>city</th>\n",
       "      <th>job_title</th>\n",
       "      <th>company_name</th>\n",
       "      <th>summary</th>\n",
       "      <th>salary_lower</th>\n",
       "      <th>salary_upper</th>\n",
       "      <th>mean_salary</th>\n",
       "      <th>Above Median</th>\n",
       "    </tr>\n",
       "  </thead>\n",
       "  <tbody>\n",
       "    <tr>\n",
       "      <th>0</th>\n",
       "      <td>Sydney</td>\n",
       "      <td>Data Scientist</td>\n",
       "      <td>Domain Group</td>\n",
       "      <td>As a Data Scientist</td>\n",
       "      <td>82500.0</td>\n",
       "      <td>112500.0</td>\n",
       "      <td>97500.0</td>\n",
       "      <td>1</td>\n",
       "    </tr>\n",
       "    <tr>\n",
       "      <th>1</th>\n",
       "      <td>Sydney</td>\n",
       "      <td>Data Scientist</td>\n",
       "      <td>ANZ Banking Group</td>\n",
       "      <td>As the Data Scientist</td>\n",
       "      <td>82500.0</td>\n",
       "      <td>112500.0</td>\n",
       "      <td>97500.0</td>\n",
       "      <td>1</td>\n",
       "    </tr>\n",
       "    <tr>\n",
       "      <th>2</th>\n",
       "      <td>Sydney</td>\n",
       "      <td>Junior Data Scientist</td>\n",
       "      <td>Intellify</td>\n",
       "      <td>We also believe great Data Scientist</td>\n",
       "      <td>80000.0</td>\n",
       "      <td>100000.0</td>\n",
       "      <td>90000.0</td>\n",
       "      <td>1</td>\n",
       "    </tr>\n",
       "    <tr>\n",
       "      <th>3</th>\n",
       "      <td>Sydney</td>\n",
       "      <td>Junior Data Scientist</td>\n",
       "      <td>The Eclair Group</td>\n",
       "      <td>Industry experience as a Data Analyst or Junio...</td>\n",
       "      <td>70000.0</td>\n",
       "      <td>90000.0</td>\n",
       "      <td>80000.0</td>\n",
       "      <td>0</td>\n",
       "    </tr>\n",
       "    <tr>\n",
       "      <th>4</th>\n",
       "      <td>Sydney</td>\n",
       "      <td>Data Scientist</td>\n",
       "      <td>Investigations &amp; Counter Terrorism</td>\n",
       "      <td>Data Scientist</td>\n",
       "      <td>82500.0</td>\n",
       "      <td>112500.0</td>\n",
       "      <td>97500.0</td>\n",
       "      <td>1</td>\n",
       "    </tr>\n",
       "  </tbody>\n",
       "</table>\n",
       "</div>"
      ],
      "text/plain": [
       "     city              job_title                        company_name  \\\n",
       "0  Sydney         Data Scientist                        Domain Group   \n",
       "1  Sydney         Data Scientist                   ANZ Banking Group   \n",
       "2  Sydney  Junior Data Scientist                           Intellify   \n",
       "3  Sydney  Junior Data Scientist                    The Eclair Group   \n",
       "4  Sydney         Data Scientist  Investigations & Counter Terrorism   \n",
       "\n",
       "                                             summary  salary_lower  \\\n",
       "0                                As a Data Scientist       82500.0   \n",
       "1                              As the Data Scientist       82500.0   \n",
       "2               We also believe great Data Scientist       80000.0   \n",
       "3  Industry experience as a Data Analyst or Junio...       70000.0   \n",
       "4                                     Data Scientist       82500.0   \n",
       "\n",
       "   salary_upper  mean_salary  Above Median  \n",
       "0      112500.0      97500.0             1  \n",
       "1      112500.0      97500.0             1  \n",
       "2      100000.0      90000.0             1  \n",
       "3       90000.0      80000.0             0  \n",
       "4      112500.0      97500.0             1  "
      ]
     },
     "execution_count": 14,
     "metadata": {},
     "output_type": "execute_result"
    }
   ],
   "source": [
    "def above_median(x):\n",
    "    if x > median:\n",
    "        return 1\n",
    "    return 0\n",
    "\n",
    "predict_df['Above Median'] = predict_df['mean_salary'].apply(above_median)\n",
    "predict_df.head()"
   ]
  },
  {
   "cell_type": "markdown",
   "metadata": {},
   "source": [
    "What is the baseline accuracy for this model?"
   ]
  },
  {
   "cell_type": "code",
   "execution_count": 15,
   "metadata": {},
   "outputs": [
    {
     "data": {
      "text/plain": [
       "0    378\n",
       "1    210\n",
       "Name: Above Median, dtype: int64"
      ]
     },
     "execution_count": 15,
     "metadata": {},
     "output_type": "execute_result"
    }
   ],
   "source": [
    "predict_df['Above Median'].value_counts()"
   ]
  },
  {
   "cell_type": "markdown",
   "metadata": {},
   "source": [
    "Based on the data we know that there are more Data Analyst, Analyst roles than Data Science roles and it's showing approximately 65% below the Median range and Data Science be in the above Median range for their Salary."
   ]
  },
  {
   "cell_type": "markdown",
   "metadata": {},
   "source": [
    "Create a Random Forest model to predict High/Low salary using Sklearn. Start by ONLY using the Job Title as a feature."
   ]
  },
  {
   "cell_type": "code",
   "execution_count": 10,
   "metadata": {},
   "outputs": [
    {
     "name": "stderr",
     "output_type": "stream",
     "text": [
      "C:\\Anaconda3\\lib\\site-packages\\sklearn\\cross_validation.py:41: DeprecationWarning: This module was deprecated in version 0.18 in favor of the model_selection module into which all the refactored classes and functions are moved. Also note that the interface of the new CV iterators are different from that of this module. This module will be removed in 0.20.\n",
      "  \"This module will be removed in 0.20.\", DeprecationWarning)\n"
     ]
    }
   ],
   "source": [
    "from sklearn.externals.six import StringIO  \n",
    "from IPython.display import Image  \n",
    "from sklearn.tree import export_graphviz\n",
    "import pydotplus\n",
    "import matplotlib.pyplot as plt\n",
    "import numpy as np\n",
    "import pandas as pd\n",
    "import seaborn as sns\n",
    "import scipy.stats as stats\n",
    "from ipywidgets import *\n",
    "from IPython.display import display\n",
    "from sklearn.cross_validation import cross_val_score, cross_val_predict\n",
    "from sklearn import metrics\n",
    "from sklearn.cross_validation import StratifiedKFold\n",
    "from sklearn.tree import DecisionTreeClassifier, DecisionTreeRegressor\n",
    "from sklearn.ensemble import RandomForestClassifier, ExtraTreesClassifier, BaggingClassifier\n",
    "from sklearn.cross_validation import train_test_split"
   ]
  },
  {
   "cell_type": "code",
   "execution_count": 16,
   "metadata": {},
   "outputs": [],
   "source": [
    "job_title_dummy = pd.get_dummies(predict_df['job_title'])"
   ]
  },
  {
   "cell_type": "code",
   "execution_count": 17,
   "metadata": {},
   "outputs": [
    {
     "data": {
      "text/html": [
       "<div>\n",
       "<style scoped>\n",
       "    .dataframe tbody tr th:only-of-type {\n",
       "        vertical-align: middle;\n",
       "    }\n",
       "\n",
       "    .dataframe tbody tr th {\n",
       "        vertical-align: top;\n",
       "    }\n",
       "\n",
       "    .dataframe thead th {\n",
       "        text-align: right;\n",
       "    }\n",
       "</style>\n",
       "<table border=\"1\" class=\"dataframe\">\n",
       "  <thead>\n",
       "    <tr style=\"text-align: right;\">\n",
       "      <th></th>\n",
       "      <th>Analyst</th>\n",
       "      <th>Data Analyst</th>\n",
       "      <th>Data Scientist</th>\n",
       "      <th>Junior Data Scientist</th>\n",
       "    </tr>\n",
       "  </thead>\n",
       "  <tbody>\n",
       "    <tr>\n",
       "      <th>0</th>\n",
       "      <td>0</td>\n",
       "      <td>0</td>\n",
       "      <td>1</td>\n",
       "      <td>0</td>\n",
       "    </tr>\n",
       "    <tr>\n",
       "      <th>1</th>\n",
       "      <td>0</td>\n",
       "      <td>0</td>\n",
       "      <td>1</td>\n",
       "      <td>0</td>\n",
       "    </tr>\n",
       "    <tr>\n",
       "      <th>2</th>\n",
       "      <td>0</td>\n",
       "      <td>0</td>\n",
       "      <td>0</td>\n",
       "      <td>1</td>\n",
       "    </tr>\n",
       "  </tbody>\n",
       "</table>\n",
       "</div>"
      ],
      "text/plain": [
       "   Analyst  Data Analyst  Data Scientist  Junior Data Scientist\n",
       "0        0             0               1                      0\n",
       "1        0             0               1                      0\n",
       "2        0             0               0                      1"
      ]
     },
     "execution_count": 17,
     "metadata": {},
     "output_type": "execute_result"
    }
   ],
   "source": [
    "job_title_dummy.head(3)"
   ]
  },
  {
   "cell_type": "code",
   "execution_count": 19,
   "metadata": {},
   "outputs": [
    {
     "name": "stdout",
     "output_type": "stream",
     "text": [
      "Cross-validated scores: [0.55102041 0.95918367 0.96938776 0.96938776 0.7755102  0.64285714]\n",
      "Average score: 0.8112244897959183\n",
      "Standard deviation of score: 0.16795455478367016\n",
      "0.8809523809523809\n"
     ]
    }
   ],
   "source": [
    "model = RandomForestClassifier(n_estimators=100, oob_score=True)\n",
    "X = job_title_dummy\n",
    "y = predict_df['Above Median']\n",
    "cv_model = cross_val_score(model, X, y, cv=6)\n",
    "print ('Cross-validated scores:', cv_model)\n",
    "print ('Average score:', cv_model.mean())\n",
    "print ('Standard deviation of score:', cv_model.std())\n",
    "model.fit(X, y)\n",
    "print (model.oob_score_)"
   ]
  },
  {
   "cell_type": "markdown",
   "metadata": {},
   "source": [
    "Create a few new variables in dataframe to represent interesting features of a job title.\n",
    "- Create a feature that represents whether 'Scientist' is in the title or whether 'Analyst' is in the title.\n",
    "- Then build a new Random Forest with these features. Do they add any value?\n",
    "- After creating these variables, use count-vectorizer to create features based on the words in the job titles.\n",
    "- Build a new random forest model with job title and these new features included. Note the job title have been pre categorised during the data cleaning therefore there are not too much categories in the job titles."
   ]
  },
  {
   "cell_type": "code",
   "execution_count": 20,
   "metadata": {},
   "outputs": [],
   "source": [
    "def scientist(x):\n",
    "    if 'Scientist' in x:\n",
    "        return 1\n",
    "    return 0\n",
    "\n",
    "predict_df['Scientist'] = predict_df['job_title'].apply(scientist)"
   ]
  },
  {
   "cell_type": "code",
   "execution_count": 21,
   "metadata": {},
   "outputs": [
    {
     "data": {
      "text/html": [
       "<div>\n",
       "<style scoped>\n",
       "    .dataframe tbody tr th:only-of-type {\n",
       "        vertical-align: middle;\n",
       "    }\n",
       "\n",
       "    .dataframe tbody tr th {\n",
       "        vertical-align: top;\n",
       "    }\n",
       "\n",
       "    .dataframe thead th {\n",
       "        text-align: right;\n",
       "    }\n",
       "</style>\n",
       "<table border=\"1\" class=\"dataframe\">\n",
       "  <thead>\n",
       "    <tr style=\"text-align: right;\">\n",
       "      <th></th>\n",
       "      <th>city</th>\n",
       "      <th>job_title</th>\n",
       "      <th>company_name</th>\n",
       "      <th>summary</th>\n",
       "      <th>salary_lower</th>\n",
       "      <th>salary_upper</th>\n",
       "      <th>mean_salary</th>\n",
       "      <th>Above Median</th>\n",
       "      <th>Scientist</th>\n",
       "    </tr>\n",
       "  </thead>\n",
       "  <tbody>\n",
       "    <tr>\n",
       "      <th>0</th>\n",
       "      <td>Sydney</td>\n",
       "      <td>Data Scientist</td>\n",
       "      <td>Domain Group</td>\n",
       "      <td>As a Data Scientist</td>\n",
       "      <td>82500.0</td>\n",
       "      <td>112500.0</td>\n",
       "      <td>97500.0</td>\n",
       "      <td>1</td>\n",
       "      <td>1</td>\n",
       "    </tr>\n",
       "    <tr>\n",
       "      <th>1</th>\n",
       "      <td>Sydney</td>\n",
       "      <td>Data Scientist</td>\n",
       "      <td>ANZ Banking Group</td>\n",
       "      <td>As the Data Scientist</td>\n",
       "      <td>82500.0</td>\n",
       "      <td>112500.0</td>\n",
       "      <td>97500.0</td>\n",
       "      <td>1</td>\n",
       "      <td>1</td>\n",
       "    </tr>\n",
       "    <tr>\n",
       "      <th>2</th>\n",
       "      <td>Sydney</td>\n",
       "      <td>Junior Data Scientist</td>\n",
       "      <td>Intellify</td>\n",
       "      <td>We also believe great Data Scientist</td>\n",
       "      <td>80000.0</td>\n",
       "      <td>100000.0</td>\n",
       "      <td>90000.0</td>\n",
       "      <td>1</td>\n",
       "      <td>1</td>\n",
       "    </tr>\n",
       "    <tr>\n",
       "      <th>3</th>\n",
       "      <td>Sydney</td>\n",
       "      <td>Junior Data Scientist</td>\n",
       "      <td>The Eclair Group</td>\n",
       "      <td>Industry experience as a Data Analyst or Junio...</td>\n",
       "      <td>70000.0</td>\n",
       "      <td>90000.0</td>\n",
       "      <td>80000.0</td>\n",
       "      <td>0</td>\n",
       "      <td>1</td>\n",
       "    </tr>\n",
       "    <tr>\n",
       "      <th>4</th>\n",
       "      <td>Sydney</td>\n",
       "      <td>Data Scientist</td>\n",
       "      <td>Investigations &amp; Counter Terrorism</td>\n",
       "      <td>Data Scientist</td>\n",
       "      <td>82500.0</td>\n",
       "      <td>112500.0</td>\n",
       "      <td>97500.0</td>\n",
       "      <td>1</td>\n",
       "      <td>1</td>\n",
       "    </tr>\n",
       "  </tbody>\n",
       "</table>\n",
       "</div>"
      ],
      "text/plain": [
       "     city              job_title                        company_name  \\\n",
       "0  Sydney         Data Scientist                        Domain Group   \n",
       "1  Sydney         Data Scientist                   ANZ Banking Group   \n",
       "2  Sydney  Junior Data Scientist                           Intellify   \n",
       "3  Sydney  Junior Data Scientist                    The Eclair Group   \n",
       "4  Sydney         Data Scientist  Investigations & Counter Terrorism   \n",
       "\n",
       "                                             summary  salary_lower  \\\n",
       "0                                As a Data Scientist       82500.0   \n",
       "1                              As the Data Scientist       82500.0   \n",
       "2               We also believe great Data Scientist       80000.0   \n",
       "3  Industry experience as a Data Analyst or Junio...       70000.0   \n",
       "4                                     Data Scientist       82500.0   \n",
       "\n",
       "   salary_upper  mean_salary  Above Median  Scientist  \n",
       "0      112500.0      97500.0             1          1  \n",
       "1      112500.0      97500.0             1          1  \n",
       "2      100000.0      90000.0             1          1  \n",
       "3       90000.0      80000.0             0          1  \n",
       "4      112500.0      97500.0             1          1  "
      ]
     },
     "execution_count": 21,
     "metadata": {},
     "output_type": "execute_result"
    }
   ],
   "source": [
    "predict_df[predict_df.Scientist !=0].head()"
   ]
  },
  {
   "cell_type": "code",
   "execution_count": 22,
   "metadata": {},
   "outputs": [],
   "source": [
    "def analyst(x):\n",
    "    if 'Analyst' in x:\n",
    "        return 1\n",
    "    return 0\n",
    "\n",
    "predict_df['Analyst'] = predict_df['job_title'].apply(analyst)"
   ]
  },
  {
   "cell_type": "code",
   "execution_count": 23,
   "metadata": {},
   "outputs": [
    {
     "data": {
      "text/html": [
       "<div>\n",
       "<style scoped>\n",
       "    .dataframe tbody tr th:only-of-type {\n",
       "        vertical-align: middle;\n",
       "    }\n",
       "\n",
       "    .dataframe tbody tr th {\n",
       "        vertical-align: top;\n",
       "    }\n",
       "\n",
       "    .dataframe thead th {\n",
       "        text-align: right;\n",
       "    }\n",
       "</style>\n",
       "<table border=\"1\" class=\"dataframe\">\n",
       "  <thead>\n",
       "    <tr style=\"text-align: right;\">\n",
       "      <th></th>\n",
       "      <th>city</th>\n",
       "      <th>job_title</th>\n",
       "      <th>company_name</th>\n",
       "      <th>summary</th>\n",
       "      <th>salary_lower</th>\n",
       "      <th>salary_upper</th>\n",
       "      <th>mean_salary</th>\n",
       "      <th>Above Median</th>\n",
       "      <th>Scientist</th>\n",
       "      <th>Analyst</th>\n",
       "    </tr>\n",
       "  </thead>\n",
       "  <tbody>\n",
       "    <tr>\n",
       "      <th>196</th>\n",
       "      <td>Sydney</td>\n",
       "      <td>Analyst</td>\n",
       "      <td>WEST 1 Australia</td>\n",
       "      <td>Data organization, processing and interpretati...</td>\n",
       "      <td>55000.0</td>\n",
       "      <td>65000.0</td>\n",
       "      <td>60000.0</td>\n",
       "      <td>0</td>\n",
       "      <td>0</td>\n",
       "      <td>1</td>\n",
       "    </tr>\n",
       "    <tr>\n",
       "      <th>197</th>\n",
       "      <td>Sydney</td>\n",
       "      <td>Data Analyst</td>\n",
       "      <td>ANZ Banking Group</td>\n",
       "      <td>Our Data Analyst</td>\n",
       "      <td>70000.0</td>\n",
       "      <td>90000.0</td>\n",
       "      <td>80000.0</td>\n",
       "      <td>0</td>\n",
       "      <td>0</td>\n",
       "      <td>1</td>\n",
       "    </tr>\n",
       "    <tr>\n",
       "      <th>198</th>\n",
       "      <td>Sydney</td>\n",
       "      <td>Data Analyst</td>\n",
       "      <td>AMP Ltd</td>\n",
       "      <td>We are currently looking for two Data Analyst</td>\n",
       "      <td>70000.0</td>\n",
       "      <td>90000.0</td>\n",
       "      <td>80000.0</td>\n",
       "      <td>0</td>\n",
       "      <td>0</td>\n",
       "      <td>1</td>\n",
       "    </tr>\n",
       "    <tr>\n",
       "      <th>199</th>\n",
       "      <td>Sydney</td>\n",
       "      <td>Data Analyst</td>\n",
       "      <td>Amazon.com</td>\n",
       "      <td>As a Data Analyst</td>\n",
       "      <td>70000.0</td>\n",
       "      <td>90000.0</td>\n",
       "      <td>80000.0</td>\n",
       "      <td>0</td>\n",
       "      <td>0</td>\n",
       "      <td>1</td>\n",
       "    </tr>\n",
       "    <tr>\n",
       "      <th>200</th>\n",
       "      <td>Sydney</td>\n",
       "      <td>Data Analyst</td>\n",
       "      <td>Department of Finance, Services &amp; Innovation</td>\n",
       "      <td>Cleanse and prepare multiple sources of data f...</td>\n",
       "      <td>70000.0</td>\n",
       "      <td>90000.0</td>\n",
       "      <td>80000.0</td>\n",
       "      <td>0</td>\n",
       "      <td>0</td>\n",
       "      <td>1</td>\n",
       "    </tr>\n",
       "  </tbody>\n",
       "</table>\n",
       "</div>"
      ],
      "text/plain": [
       "       city     job_title                                  company_name  \\\n",
       "196  Sydney       Analyst                              WEST 1 Australia   \n",
       "197  Sydney  Data Analyst                             ANZ Banking Group   \n",
       "198  Sydney  Data Analyst                                       AMP Ltd   \n",
       "199  Sydney  Data Analyst                                    Amazon.com   \n",
       "200  Sydney  Data Analyst  Department of Finance, Services & Innovation   \n",
       "\n",
       "                                               summary  salary_lower  \\\n",
       "196  Data organization, processing and interpretati...       55000.0   \n",
       "197                                   Our Data Analyst       70000.0   \n",
       "198      We are currently looking for two Data Analyst       70000.0   \n",
       "199                                  As a Data Analyst       70000.0   \n",
       "200  Cleanse and prepare multiple sources of data f...       70000.0   \n",
       "\n",
       "     salary_upper  mean_salary  Above Median  Scientist  Analyst  \n",
       "196       65000.0      60000.0             0          0        1  \n",
       "197       90000.0      80000.0             0          0        1  \n",
       "198       90000.0      80000.0             0          0        1  \n",
       "199       90000.0      80000.0             0          0        1  \n",
       "200       90000.0      80000.0             0          0        1  "
      ]
     },
     "execution_count": 23,
     "metadata": {},
     "output_type": "execute_result"
    }
   ],
   "source": [
    "predict_df[predict_df.Analyst !=0].head()"
   ]
  },
  {
   "cell_type": "code",
   "execution_count": 24,
   "metadata": {},
   "outputs": [],
   "source": [
    "def junior(x):\n",
    "    if 'Junior' in x:\n",
    "        return 1\n",
    "    return 0\n",
    "\n",
    "predict_df['Junior'] = predict_df['job_title'].apply(junior)"
   ]
  },
  {
   "cell_type": "code",
   "execution_count": 26,
   "metadata": {},
   "outputs": [],
   "source": [
    "def data_scientist(x):\n",
    "    if 'Data Scientist' in x:\n",
    "        return 1\n",
    "    return 0\n",
    "\n",
    "predict_df['Data Scientist'] = predict_df['job_title'].apply(data_scientist)"
   ]
  },
  {
   "cell_type": "code",
   "execution_count": 27,
   "metadata": {},
   "outputs": [],
   "source": [
    "def data_analyst(x):\n",
    "    if 'Data Analyst' in x:\n",
    "        return 1\n",
    "    return 0\n",
    "\n",
    "predict_df['Data Analyst'] = predict_df['job_title'].apply(data_analyst)"
   ]
  },
  {
   "cell_type": "code",
   "execution_count": 29,
   "metadata": {},
   "outputs": [
    {
     "name": "stdout",
     "output_type": "stream",
     "text": [
      "(588, 5)\n"
     ]
    },
    {
     "data": {
      "text/html": [
       "<div>\n",
       "<style scoped>\n",
       "    .dataframe tbody tr th:only-of-type {\n",
       "        vertical-align: middle;\n",
       "    }\n",
       "\n",
       "    .dataframe tbody tr th {\n",
       "        vertical-align: top;\n",
       "    }\n",
       "\n",
       "    .dataframe thead th {\n",
       "        text-align: right;\n",
       "    }\n",
       "</style>\n",
       "<table border=\"1\" class=\"dataframe\">\n",
       "  <thead>\n",
       "    <tr style=\"text-align: right;\">\n",
       "      <th></th>\n",
       "      <th>Scientist</th>\n",
       "      <th>Analyst</th>\n",
       "      <th>Junior</th>\n",
       "      <th>Data Scientist</th>\n",
       "      <th>Data Analyst</th>\n",
       "    </tr>\n",
       "  </thead>\n",
       "  <tbody>\n",
       "    <tr>\n",
       "      <th>0</th>\n",
       "      <td>1</td>\n",
       "      <td>0</td>\n",
       "      <td>0</td>\n",
       "      <td>1</td>\n",
       "      <td>0</td>\n",
       "    </tr>\n",
       "    <tr>\n",
       "      <th>1</th>\n",
       "      <td>1</td>\n",
       "      <td>0</td>\n",
       "      <td>0</td>\n",
       "      <td>1</td>\n",
       "      <td>0</td>\n",
       "    </tr>\n",
       "    <tr>\n",
       "      <th>2</th>\n",
       "      <td>1</td>\n",
       "      <td>0</td>\n",
       "      <td>1</td>\n",
       "      <td>1</td>\n",
       "      <td>0</td>\n",
       "    </tr>\n",
       "    <tr>\n",
       "      <th>3</th>\n",
       "      <td>1</td>\n",
       "      <td>0</td>\n",
       "      <td>1</td>\n",
       "      <td>1</td>\n",
       "      <td>0</td>\n",
       "    </tr>\n",
       "    <tr>\n",
       "      <th>4</th>\n",
       "      <td>1</td>\n",
       "      <td>0</td>\n",
       "      <td>0</td>\n",
       "      <td>1</td>\n",
       "      <td>0</td>\n",
       "    </tr>\n",
       "  </tbody>\n",
       "</table>\n",
       "</div>"
      ],
      "text/plain": [
       "   Scientist  Analyst  Junior  Data Scientist  Data Analyst\n",
       "0          1        0       0               1             0\n",
       "1          1        0       0               1             0\n",
       "2          1        0       1               1             0\n",
       "3          1        0       1               1             0\n",
       "4          1        0       0               1             0"
      ]
     },
     "execution_count": 29,
     "metadata": {},
     "output_type": "execute_result"
    }
   ],
   "source": [
    "feature_matrix = predict_df.copy(deep=True)\n",
    "feature_matrix.drop(['city', 'job_title', 'company_name', 'summary', 'salary_lower', 'salary_upper', 'mean_salary', 'Above Median'], axis=1, inplace=True)\n",
    "print (feature_matrix.shape)\n",
    "feature_matrix.head()"
   ]
  },
  {
   "cell_type": "code",
   "execution_count": 30,
   "metadata": {},
   "outputs": [
    {
     "name": "stdout",
     "output_type": "stream",
     "text": [
      "Cross-validated scores: [0.55102041 0.95918367 0.96938776 0.96938776 0.7755102  0.64285714]\n",
      "Average score: 0.8112244897959183\n",
      "Standard deviation of score: 0.16795455478367016\n",
      "0.8809523809523809\n"
     ]
    }
   ],
   "source": [
    "model = RandomForestClassifier(n_estimators=100, oob_score=True)\n",
    "X_features = feature_matrix\n",
    "y = predict_df['Above Median']\n",
    "cv_model = cross_val_score(model, X_features, y, cv=6)\n",
    "print ('Cross-validated scores:', cv_model)\n",
    "print ('Average score:', cv_model.mean())\n",
    "print ('Standard deviation of score:', cv_model.std())\n",
    "model.fit(X_features, y)\n",
    "print (model.oob_score_)"
   ]
  },
  {
   "cell_type": "markdown",
   "metadata": {},
   "source": [
    "After Analysing the title separately there is no change in the score from the score and the accuracy is still pretty high.  We can make another attempt using a CountVetoriser on the title Column"
   ]
  },
  {
   "cell_type": "code",
   "execution_count": 52,
   "metadata": {},
   "outputs": [
    {
     "name": "stdout",
     "output_type": "stream",
     "text": [
      "(588, 3)\n"
     ]
    },
    {
     "data": {
      "text/html": [
       "<div>\n",
       "<style scoped>\n",
       "    .dataframe tbody tr th:only-of-type {\n",
       "        vertical-align: middle;\n",
       "    }\n",
       "\n",
       "    .dataframe tbody tr th {\n",
       "        vertical-align: top;\n",
       "    }\n",
       "\n",
       "    .dataframe thead th {\n",
       "        text-align: right;\n",
       "    }\n",
       "</style>\n",
       "<table border=\"1\" class=\"dataframe\">\n",
       "  <thead>\n",
       "    <tr style=\"text-align: right;\">\n",
       "      <th></th>\n",
       "      <th>data analyst</th>\n",
       "      <th>data scientist</th>\n",
       "      <th>junior data</th>\n",
       "    </tr>\n",
       "  </thead>\n",
       "  <tbody>\n",
       "    <tr>\n",
       "      <th>0</th>\n",
       "      <td>0</td>\n",
       "      <td>1</td>\n",
       "      <td>0</td>\n",
       "    </tr>\n",
       "    <tr>\n",
       "      <th>1</th>\n",
       "      <td>0</td>\n",
       "      <td>1</td>\n",
       "      <td>0</td>\n",
       "    </tr>\n",
       "    <tr>\n",
       "      <th>2</th>\n",
       "      <td>0</td>\n",
       "      <td>1</td>\n",
       "      <td>1</td>\n",
       "    </tr>\n",
       "    <tr>\n",
       "      <th>3</th>\n",
       "      <td>0</td>\n",
       "      <td>1</td>\n",
       "      <td>1</td>\n",
       "    </tr>\n",
       "    <tr>\n",
       "      <th>4</th>\n",
       "      <td>0</td>\n",
       "      <td>1</td>\n",
       "      <td>0</td>\n",
       "    </tr>\n",
       "  </tbody>\n",
       "</table>\n",
       "</div>"
      ],
      "text/plain": [
       "   data analyst  data scientist  junior data\n",
       "0             0               1            0\n",
       "1             0               1            0\n",
       "2             0               1            1\n",
       "3             0               1            1\n",
       "4             0               1            0"
      ]
     },
     "execution_count": 52,
     "metadata": {},
     "output_type": "execute_result"
    }
   ],
   "source": [
    "from sklearn.feature_extraction.text import CountVectorizer\n",
    "cvec = CountVectorizer(stop_words='english', max_features=10, ngram_range=(2,2))\n",
    "vectorizers = cvec.fit_transform(predict_df['job_title'].values)\n",
    "\n",
    "df_vec  = pd.DataFrame(vectorizers.todense(), columns=cvec.get_feature_names())\n",
    "print (df_vec.shape)\n",
    "df_vec.head()"
   ]
  },
  {
   "cell_type": "code",
   "execution_count": 35,
   "metadata": {},
   "outputs": [
    {
     "data": {
      "text/html": [
       "<div>\n",
       "<style scoped>\n",
       "    .dataframe tbody tr th:only-of-type {\n",
       "        vertical-align: middle;\n",
       "    }\n",
       "\n",
       "    .dataframe tbody tr th {\n",
       "        vertical-align: top;\n",
       "    }\n",
       "\n",
       "    .dataframe thead th {\n",
       "        text-align: right;\n",
       "    }\n",
       "</style>\n",
       "<table border=\"1\" class=\"dataframe\">\n",
       "  <thead>\n",
       "    <tr style=\"text-align: right;\">\n",
       "      <th></th>\n",
       "      <th>Scientist</th>\n",
       "      <th>Analyst</th>\n",
       "      <th>Junior</th>\n",
       "      <th>Data Scientist</th>\n",
       "      <th>Data Analyst</th>\n",
       "    </tr>\n",
       "  </thead>\n",
       "  <tbody>\n",
       "    <tr>\n",
       "      <th>0</th>\n",
       "      <td>1</td>\n",
       "      <td>0</td>\n",
       "      <td>0</td>\n",
       "      <td>1</td>\n",
       "      <td>0</td>\n",
       "    </tr>\n",
       "    <tr>\n",
       "      <th>1</th>\n",
       "      <td>1</td>\n",
       "      <td>0</td>\n",
       "      <td>0</td>\n",
       "      <td>1</td>\n",
       "      <td>0</td>\n",
       "    </tr>\n",
       "    <tr>\n",
       "      <th>2</th>\n",
       "      <td>1</td>\n",
       "      <td>0</td>\n",
       "      <td>1</td>\n",
       "      <td>1</td>\n",
       "      <td>0</td>\n",
       "    </tr>\n",
       "    <tr>\n",
       "      <th>3</th>\n",
       "      <td>1</td>\n",
       "      <td>0</td>\n",
       "      <td>1</td>\n",
       "      <td>1</td>\n",
       "      <td>0</td>\n",
       "    </tr>\n",
       "    <tr>\n",
       "      <th>4</th>\n",
       "      <td>1</td>\n",
       "      <td>0</td>\n",
       "      <td>0</td>\n",
       "      <td>1</td>\n",
       "      <td>0</td>\n",
       "    </tr>\n",
       "  </tbody>\n",
       "</table>\n",
       "</div>"
      ],
      "text/plain": [
       "   Scientist  Analyst  Junior  Data Scientist  Data Analyst\n",
       "0          1        0       0               1             0\n",
       "1          1        0       0               1             0\n",
       "2          1        0       1               1             0\n",
       "3          1        0       1               1             0\n",
       "4          1        0       0               1             0"
      ]
     },
     "execution_count": 35,
     "metadata": {},
     "output_type": "execute_result"
    }
   ],
   "source": [
    "X_cvec = feature_matrix\n",
    "X_cvec.head()"
   ]
  },
  {
   "cell_type": "code",
   "execution_count": 36,
   "metadata": {},
   "outputs": [
    {
     "name": "stdout",
     "output_type": "stream",
     "text": [
      "Cross-validated scores: [0.55102041 0.95918367 0.96938776 0.96938776 0.7755102  0.64285714]\n",
      "Average score: 0.8112244897959183\n",
      "Standard deviation of score: 0.16795455478367016\n",
      "0.8809523809523809\n"
     ]
    },
    {
     "data": {
      "text/html": [
       "<div>\n",
       "<style scoped>\n",
       "    .dataframe tbody tr th:only-of-type {\n",
       "        vertical-align: middle;\n",
       "    }\n",
       "\n",
       "    .dataframe tbody tr th {\n",
       "        vertical-align: top;\n",
       "    }\n",
       "\n",
       "    .dataframe thead th {\n",
       "        text-align: right;\n",
       "    }\n",
       "</style>\n",
       "<table border=\"1\" class=\"dataframe\">\n",
       "  <thead>\n",
       "    <tr style=\"text-align: right;\">\n",
       "      <th></th>\n",
       "      <th>importance</th>\n",
       "    </tr>\n",
       "  </thead>\n",
       "  <tbody>\n",
       "    <tr>\n",
       "      <th>Junior</th>\n",
       "      <td>0.294940</td>\n",
       "    </tr>\n",
       "    <tr>\n",
       "      <th>Data Scientist</th>\n",
       "      <td>0.284160</td>\n",
       "    </tr>\n",
       "    <tr>\n",
       "      <th>Analyst</th>\n",
       "      <td>0.229813</td>\n",
       "    </tr>\n",
       "    <tr>\n",
       "      <th>Scientist</th>\n",
       "      <td>0.153296</td>\n",
       "    </tr>\n",
       "    <tr>\n",
       "      <th>Data Analyst</th>\n",
       "      <td>0.037791</td>\n",
       "    </tr>\n",
       "  </tbody>\n",
       "</table>\n",
       "</div>"
      ],
      "text/plain": [
       "                importance\n",
       "Junior            0.294940\n",
       "Data Scientist    0.284160\n",
       "Analyst           0.229813\n",
       "Scientist         0.153296\n",
       "Data Analyst      0.037791"
      ]
     },
     "execution_count": 36,
     "metadata": {},
     "output_type": "execute_result"
    }
   ],
   "source": [
    "model = RandomForestClassifier(n_estimators=100, oob_score=True)\n",
    "y = predict_df['Above Median']\n",
    "cv_model = cross_val_score(model, X_cvec, y, cv=6)\n",
    "print ('Cross-validated scores:', cv_model)\n",
    "print ('Average score:', cv_model.mean())\n",
    "print ('Standard deviation of score:', cv_model.std())\n",
    "model.fit(X_cvec, y)\n",
    "print (model.oob_score_)\n",
    "importance_dataframe = pd.DataFrame(model.feature_importances_, index = X_cvec.columns, columns=['importance']).sort_values('importance', ascending=False)\n",
    "importance_dataframe.head(20)"
   ]
  },
  {
   "cell_type": "markdown",
   "metadata": {},
   "source": [
    "The top description feature are Junior and Data Scientist, the Variables have already been reduced during the data cleaning, not sure if we should have left the Variable of Job Title in a broader range and not to reduced it too much.  On the other hand if we properly clean the data and reduced the number of variables you probably have better accuracy.  As from what we have seen the Ave Scores are still in the 81% Range and did not improved."
   ]
  },
  {
   "cell_type": "markdown",
   "metadata": {},
   "source": [
    "Repeat the model-building process with a non-tree-based method."
   ]
  },
  {
   "cell_type": "code",
   "execution_count": 40,
   "metadata": {},
   "outputs": [
    {
     "name": "stdout",
     "output_type": "stream",
     "text": [
      "Cross-validated scores: [0.55102041 0.95918367 0.96938776 0.96938776 0.7755102  0.64285714]\n",
      "Average score: 0.8112244897959183\n",
      "Standard deviation of score: 0.16795455478367016\n"
     ]
    }
   ],
   "source": [
    "from sklearn import linear_model\n",
    "log_reg = linear_model.LogisticRegression()\n",
    "scores_log = cross_val_score(log_reg, X_cvec, y, cv=6)\n",
    "print ('Cross-validated scores:', scores_log)\n",
    "print ('Average score:', scores_log.mean())\n",
    "print ('Standard deviation of score:', scores_log.std())\n",
    "log_model = log_reg.fit(X_cvec, y)"
   ]
  },
  {
   "cell_type": "markdown",
   "metadata": {},
   "source": [
    "A logistic regression gets an average accuracy score of 81%, which exactly with Random Forest Classifier.  So there is no further improvement."
   ]
  },
  {
   "cell_type": "code",
   "execution_count": 41,
   "metadata": {},
   "outputs": [
    {
     "name": "stdout",
     "output_type": "stream",
     "text": [
      "Cross-validated scores: [0.55102041 0.95918367 0.96938776 0.96938776 0.7755102  0.64285714]\n",
      "Average score: 0.8112244897959183\n",
      "Standard deviation of score: 0.16795455478367016\n"
     ]
    }
   ],
   "source": [
    "from sklearn.svm import SVC\n",
    "model_svmrbf = SVC(kernel='rbf')\n",
    "scores_svm = cross_val_score(model_svmrbf, X_cvec, y, cv=6)\n",
    "print ('Cross-validated scores:', scores_svm)\n",
    "print ('Average score:', scores_svm.mean())\n",
    "print ('Standard deviation of score:', scores_svm.std())\n",
    "svm_model = model_svmrbf.fit(X_cvec, y)"
   ]
  },
  {
   "cell_type": "code",
   "execution_count": 42,
   "metadata": {},
   "outputs": [
    {
     "name": "stdout",
     "output_type": "stream",
     "text": [
      "Cross-validated scores: [0.55102041 0.95918367 0.96938776 0.96938776 0.7755102  0.64285714]\n",
      "Average score: 0.8112244897959183\n",
      "Standard deviation of score: 0.16795455478367016\n"
     ]
    }
   ],
   "source": [
    "model_svmlm = SVC(kernel='linear')\n",
    "scores_svmlm = cross_val_score(model_svmlm, X_cvec, y, cv=6)\n",
    "print ('Cross-validated scores:', scores_svmlm)\n",
    "print ('Average score:', scores_svmlm.mean())\n",
    "print ('Standard deviation of score:', scores_svmlm.std())\n",
    "svm_model = model_svmlm.fit(X_cvec, y)"
   ]
  },
  {
   "cell_type": "markdown",
   "metadata": {},
   "source": [
    "Not Much better"
   ]
  },
  {
   "cell_type": "code",
   "execution_count": 46,
   "metadata": {},
   "outputs": [],
   "source": [
    "import warnings"
   ]
  },
  {
   "cell_type": "markdown",
   "metadata": {},
   "source": [
    "### Neural Network Classifier"
   ]
  },
  {
   "cell_type": "code",
   "execution_count": 48,
   "metadata": {},
   "outputs": [
    {
     "name": "stdout",
     "output_type": "stream",
     "text": [
      "Cross-validated scores: [0.61864407 0.94915254 0.94915254 0.88034188 0.76923077]\n",
      "Average score: 0.8333043604230046\n",
      "Standard deviation of score: 0.12588772547077107\n"
     ]
    },
    {
     "data": {
      "text/plain": [
       "MLPClassifier(activation='relu', alpha=1e-05, batch_size='auto', beta_1=0.9,\n",
       "       beta_2=0.999, early_stopping=False, epsilon=1e-08,\n",
       "       hidden_layer_sizes=(100,), learning_rate='constant',\n",
       "       learning_rate_init=0.001, max_iter=200, momentum=0.9,\n",
       "       nesterovs_momentum=True, power_t=0.5, random_state=1, shuffle=True,\n",
       "       solver='sgd', tol=0.0001, validation_fraction=0.1, verbose=False,\n",
       "       warm_start=False)"
      ]
     },
     "execution_count": 48,
     "metadata": {},
     "output_type": "execute_result"
    }
   ],
   "source": [
    "from sklearn.neural_network import MLPClassifier\n",
    "clf = MLPClassifier(solver='sgd', alpha=1e-5, hidden_layer_sizes=(100,), random_state=1, activation='relu')\n",
    "cv_model = cross_val_score(clf, X_cvec, y, cv=5)\n",
    "print ('Cross-validated scores:', cv_model)\n",
    "print ('Average score:', cv_model.mean())\n",
    "print ('Standard deviation of score:', cv_model.std())   \n",
    "clf.fit(feature_matrix, y)\n",
    "#clf.score(feature_matrix, y)\n"
   ]
  },
  {
   "cell_type": "markdown",
   "metadata": {},
   "source": [
    "The code above is my attempt at a back-prop neural network. My lack of experience (knowledge) with these models made a small improvement. The accuracy score I was able to achieve with the neural network was a couple % higher than with the Random Forest model or the SVM model.  However. the processing time was a bit longer than the previous model."
   ]
  },
  {
   "cell_type": "code",
   "execution_count": 49,
   "metadata": {},
   "outputs": [
    {
     "name": "stdout",
     "output_type": "stream",
     "text": [
      "Cross-validated scores: [0.55102041 0.95918367 0.96938776 0.96938776 0.7755102  0.64285714]\n",
      "Average score: 0.8112244897959183\n",
      "Standard deviation of score: 0.16795455478367016\n"
     ]
    }
   ],
   "source": [
    "from sklearn.ensemble import GradientBoostingClassifier\n",
    "clf = GradientBoostingClassifier(n_estimators=100, learning_rate=1.0, max_depth=1, random_state=0).fit(X_cvec, y)\n",
    "cv_model = cross_val_score(clf, X_cvec, y, cv=6)\n",
    "print ('Cross-validated scores:', cv_model)\n",
    "print ('Average score:', cv_model.mean())\n",
    "print ('Standard deviation of score:', cv_model.std())"
   ]
  },
  {
   "cell_type": "code",
   "execution_count": 50,
   "metadata": {},
   "outputs": [
    {
     "name": "stdout",
     "output_type": "stream",
     "text": [
      "Cross-validated scores: [0.55102041 0.95918367 0.96938776 0.96938776 0.7755102  0.64285714]\n",
      "Average score: 0.8112244897959183\n",
      "Standard deviation of score: 0.16795455478367016\n"
     ]
    }
   ],
   "source": [
    "from xgboost import XGBClassifier\n",
    "model = XGBClassifier(booster='gbtree')\n",
    "cv_model = cross_val_score(model, X_cvec, y, cv=6)\n",
    "print ('Cross-validated scores:', cv_model)\n",
    "print ('Average score:', cv_model.mean())\n",
    "print ('Standard deviation of score:', cv_model.std())"
   ]
  },
  {
   "cell_type": "markdown",
   "metadata": {},
   "source": [
    "## Use Count Vectorizer from scikit-learn to create features from the job descriptions (summary).\n",
    "- Examine using count or binary features in the model\n",
    "- Re-evaluate your models using these. Does this improve the model performance?\n",
    "- What text features are the most valuable?"
   ]
  },
  {
   "cell_type": "code",
   "execution_count": 53,
   "metadata": {},
   "outputs": [
    {
     "name": "stdout",
     "output_type": "stream",
     "text": [
      "(588, 50)\n"
     ]
    },
    {
     "data": {
      "text/html": [
       "<div>\n",
       "<style scoped>\n",
       "    .dataframe tbody tr th:only-of-type {\n",
       "        vertical-align: middle;\n",
       "    }\n",
       "\n",
       "    .dataframe tbody tr th {\n",
       "        vertical-align: top;\n",
       "    }\n",
       "\n",
       "    .dataframe thead th {\n",
       "        text-align: right;\n",
       "    }\n",
       "</style>\n",
       "<table border=\"1\" class=\"dataframe\">\n",
       "  <thead>\n",
       "    <tr style=\"text-align: right;\">\n",
       "      <th></th>\n",
       "      <th>adwords</th>\n",
       "      <th>analysis</th>\n",
       "      <th>analyst</th>\n",
       "      <th>believe</th>\n",
       "      <th>business</th>\n",
       "      <th>cross</th>\n",
       "      <th>customer</th>\n",
       "      <th>data</th>\n",
       "      <th>experience</th>\n",
       "      <th>great</th>\n",
       "      <th>...</th>\n",
       "      <th>team</th>\n",
       "      <th>teams</th>\n",
       "      <th>test</th>\n",
       "      <th>tools</th>\n",
       "      <th>training</th>\n",
       "      <th>upskilling</th>\n",
       "      <th>using</th>\n",
       "      <th>validate</th>\n",
       "      <th>work</th>\n",
       "      <th>working</th>\n",
       "    </tr>\n",
       "  </thead>\n",
       "  <tbody>\n",
       "    <tr>\n",
       "      <th>0</th>\n",
       "      <td>0</td>\n",
       "      <td>0</td>\n",
       "      <td>0</td>\n",
       "      <td>0</td>\n",
       "      <td>0</td>\n",
       "      <td>0</td>\n",
       "      <td>0</td>\n",
       "      <td>1</td>\n",
       "      <td>0</td>\n",
       "      <td>0</td>\n",
       "      <td>...</td>\n",
       "      <td>0</td>\n",
       "      <td>0</td>\n",
       "      <td>0</td>\n",
       "      <td>0</td>\n",
       "      <td>0</td>\n",
       "      <td>0</td>\n",
       "      <td>0</td>\n",
       "      <td>0</td>\n",
       "      <td>0</td>\n",
       "      <td>0</td>\n",
       "    </tr>\n",
       "    <tr>\n",
       "      <th>1</th>\n",
       "      <td>0</td>\n",
       "      <td>0</td>\n",
       "      <td>0</td>\n",
       "      <td>0</td>\n",
       "      <td>0</td>\n",
       "      <td>0</td>\n",
       "      <td>0</td>\n",
       "      <td>1</td>\n",
       "      <td>0</td>\n",
       "      <td>0</td>\n",
       "      <td>...</td>\n",
       "      <td>0</td>\n",
       "      <td>0</td>\n",
       "      <td>0</td>\n",
       "      <td>0</td>\n",
       "      <td>0</td>\n",
       "      <td>0</td>\n",
       "      <td>0</td>\n",
       "      <td>0</td>\n",
       "      <td>0</td>\n",
       "      <td>0</td>\n",
       "    </tr>\n",
       "    <tr>\n",
       "      <th>2</th>\n",
       "      <td>0</td>\n",
       "      <td>0</td>\n",
       "      <td>0</td>\n",
       "      <td>1</td>\n",
       "      <td>0</td>\n",
       "      <td>0</td>\n",
       "      <td>0</td>\n",
       "      <td>1</td>\n",
       "      <td>0</td>\n",
       "      <td>1</td>\n",
       "      <td>...</td>\n",
       "      <td>0</td>\n",
       "      <td>0</td>\n",
       "      <td>0</td>\n",
       "      <td>0</td>\n",
       "      <td>0</td>\n",
       "      <td>0</td>\n",
       "      <td>0</td>\n",
       "      <td>0</td>\n",
       "      <td>0</td>\n",
       "      <td>0</td>\n",
       "    </tr>\n",
       "    <tr>\n",
       "      <th>3</th>\n",
       "      <td>0</td>\n",
       "      <td>0</td>\n",
       "      <td>1</td>\n",
       "      <td>0</td>\n",
       "      <td>0</td>\n",
       "      <td>0</td>\n",
       "      <td>0</td>\n",
       "      <td>2</td>\n",
       "      <td>1</td>\n",
       "      <td>0</td>\n",
       "      <td>...</td>\n",
       "      <td>0</td>\n",
       "      <td>0</td>\n",
       "      <td>0</td>\n",
       "      <td>0</td>\n",
       "      <td>0</td>\n",
       "      <td>0</td>\n",
       "      <td>0</td>\n",
       "      <td>0</td>\n",
       "      <td>0</td>\n",
       "      <td>0</td>\n",
       "    </tr>\n",
       "    <tr>\n",
       "      <th>4</th>\n",
       "      <td>0</td>\n",
       "      <td>0</td>\n",
       "      <td>0</td>\n",
       "      <td>0</td>\n",
       "      <td>0</td>\n",
       "      <td>0</td>\n",
       "      <td>0</td>\n",
       "      <td>1</td>\n",
       "      <td>0</td>\n",
       "      <td>0</td>\n",
       "      <td>...</td>\n",
       "      <td>0</td>\n",
       "      <td>0</td>\n",
       "      <td>0</td>\n",
       "      <td>0</td>\n",
       "      <td>0</td>\n",
       "      <td>0</td>\n",
       "      <td>0</td>\n",
       "      <td>0</td>\n",
       "      <td>0</td>\n",
       "      <td>0</td>\n",
       "    </tr>\n",
       "  </tbody>\n",
       "</table>\n",
       "<p>5 rows × 50 columns</p>\n",
       "</div>"
      ],
      "text/plain": [
       "   adwords  analysis  analyst  believe  business  cross  customer  data  \\\n",
       "0        0         0        0        0         0      0         0     1   \n",
       "1        0         0        0        0         0      0         0     1   \n",
       "2        0         0        0        1         0      0         0     1   \n",
       "3        0         0        1        0         0      0         0     2   \n",
       "4        0         0        0        0         0      0         0     1   \n",
       "\n",
       "   experience  great   ...     team  teams  test  tools  training  upskilling  \\\n",
       "0           0      0   ...        0      0     0      0         0           0   \n",
       "1           0      0   ...        0      0     0      0         0           0   \n",
       "2           0      1   ...        0      0     0      0         0           0   \n",
       "3           1      0   ...        0      0     0      0         0           0   \n",
       "4           0      0   ...        0      0     0      0         0           0   \n",
       "\n",
       "   using  validate  work  working  \n",
       "0      0         0     0        0  \n",
       "1      0         0     0        0  \n",
       "2      0         0     0        0  \n",
       "3      0         0     0        0  \n",
       "4      0         0     0        0  \n",
       "\n",
       "[5 rows x 50 columns]"
      ]
     },
     "execution_count": 53,
     "metadata": {},
     "output_type": "execute_result"
    }
   ],
   "source": [
    "cvec_synos = CountVectorizer(stop_words='english', max_features=50)\n",
    "vectorizers_synos = cvec_synos.fit_transform(predict_df['summary']).toarray()\n",
    "df_vec_synos  = pd.DataFrame(vectorizers_synos, columns=cvec_synos.get_feature_names())\n",
    "print (df_vec_synos.shape)\n",
    "df_vec_synos.head()"
   ]
  },
  {
   "cell_type": "code",
   "execution_count": 54,
   "metadata": {},
   "outputs": [
    {
     "data": {
      "text/html": [
       "<div>\n",
       "<style scoped>\n",
       "    .dataframe tbody tr th:only-of-type {\n",
       "        vertical-align: middle;\n",
       "    }\n",
       "\n",
       "    .dataframe tbody tr th {\n",
       "        vertical-align: top;\n",
       "    }\n",
       "\n",
       "    .dataframe thead th {\n",
       "        text-align: right;\n",
       "    }\n",
       "</style>\n",
       "<table border=\"1\" class=\"dataframe\">\n",
       "  <thead>\n",
       "    <tr style=\"text-align: right;\">\n",
       "      <th></th>\n",
       "      <th>Scientist</th>\n",
       "      <th>Analyst</th>\n",
       "      <th>Junior</th>\n",
       "      <th>Data Scientist</th>\n",
       "      <th>Data Analyst</th>\n",
       "      <th>adwords</th>\n",
       "      <th>analysis</th>\n",
       "      <th>analyst</th>\n",
       "      <th>believe</th>\n",
       "      <th>business</th>\n",
       "      <th>...</th>\n",
       "      <th>team</th>\n",
       "      <th>teams</th>\n",
       "      <th>test</th>\n",
       "      <th>tools</th>\n",
       "      <th>training</th>\n",
       "      <th>upskilling</th>\n",
       "      <th>using</th>\n",
       "      <th>validate</th>\n",
       "      <th>work</th>\n",
       "      <th>working</th>\n",
       "    </tr>\n",
       "  </thead>\n",
       "  <tbody>\n",
       "    <tr>\n",
       "      <th>0</th>\n",
       "      <td>1</td>\n",
       "      <td>0</td>\n",
       "      <td>0</td>\n",
       "      <td>1</td>\n",
       "      <td>0</td>\n",
       "      <td>0</td>\n",
       "      <td>0</td>\n",
       "      <td>0</td>\n",
       "      <td>0</td>\n",
       "      <td>0</td>\n",
       "      <td>...</td>\n",
       "      <td>0</td>\n",
       "      <td>0</td>\n",
       "      <td>0</td>\n",
       "      <td>0</td>\n",
       "      <td>0</td>\n",
       "      <td>0</td>\n",
       "      <td>0</td>\n",
       "      <td>0</td>\n",
       "      <td>0</td>\n",
       "      <td>0</td>\n",
       "    </tr>\n",
       "    <tr>\n",
       "      <th>1</th>\n",
       "      <td>1</td>\n",
       "      <td>0</td>\n",
       "      <td>0</td>\n",
       "      <td>1</td>\n",
       "      <td>0</td>\n",
       "      <td>0</td>\n",
       "      <td>0</td>\n",
       "      <td>0</td>\n",
       "      <td>0</td>\n",
       "      <td>0</td>\n",
       "      <td>...</td>\n",
       "      <td>0</td>\n",
       "      <td>0</td>\n",
       "      <td>0</td>\n",
       "      <td>0</td>\n",
       "      <td>0</td>\n",
       "      <td>0</td>\n",
       "      <td>0</td>\n",
       "      <td>0</td>\n",
       "      <td>0</td>\n",
       "      <td>0</td>\n",
       "    </tr>\n",
       "    <tr>\n",
       "      <th>2</th>\n",
       "      <td>1</td>\n",
       "      <td>0</td>\n",
       "      <td>1</td>\n",
       "      <td>1</td>\n",
       "      <td>0</td>\n",
       "      <td>0</td>\n",
       "      <td>0</td>\n",
       "      <td>0</td>\n",
       "      <td>1</td>\n",
       "      <td>0</td>\n",
       "      <td>...</td>\n",
       "      <td>0</td>\n",
       "      <td>0</td>\n",
       "      <td>0</td>\n",
       "      <td>0</td>\n",
       "      <td>0</td>\n",
       "      <td>0</td>\n",
       "      <td>0</td>\n",
       "      <td>0</td>\n",
       "      <td>0</td>\n",
       "      <td>0</td>\n",
       "    </tr>\n",
       "    <tr>\n",
       "      <th>3</th>\n",
       "      <td>1</td>\n",
       "      <td>0</td>\n",
       "      <td>1</td>\n",
       "      <td>1</td>\n",
       "      <td>0</td>\n",
       "      <td>0</td>\n",
       "      <td>0</td>\n",
       "      <td>1</td>\n",
       "      <td>0</td>\n",
       "      <td>0</td>\n",
       "      <td>...</td>\n",
       "      <td>0</td>\n",
       "      <td>0</td>\n",
       "      <td>0</td>\n",
       "      <td>0</td>\n",
       "      <td>0</td>\n",
       "      <td>0</td>\n",
       "      <td>0</td>\n",
       "      <td>0</td>\n",
       "      <td>0</td>\n",
       "      <td>0</td>\n",
       "    </tr>\n",
       "    <tr>\n",
       "      <th>4</th>\n",
       "      <td>1</td>\n",
       "      <td>0</td>\n",
       "      <td>0</td>\n",
       "      <td>1</td>\n",
       "      <td>0</td>\n",
       "      <td>0</td>\n",
       "      <td>0</td>\n",
       "      <td>0</td>\n",
       "      <td>0</td>\n",
       "      <td>0</td>\n",
       "      <td>...</td>\n",
       "      <td>0</td>\n",
       "      <td>0</td>\n",
       "      <td>0</td>\n",
       "      <td>0</td>\n",
       "      <td>0</td>\n",
       "      <td>0</td>\n",
       "      <td>0</td>\n",
       "      <td>0</td>\n",
       "      <td>0</td>\n",
       "      <td>0</td>\n",
       "    </tr>\n",
       "  </tbody>\n",
       "</table>\n",
       "<p>5 rows × 55 columns</p>\n",
       "</div>"
      ],
      "text/plain": [
       "   Scientist  Analyst  Junior  Data Scientist  Data Analyst  adwords  \\\n",
       "0          1        0       0               1             0        0   \n",
       "1          1        0       0               1             0        0   \n",
       "2          1        0       1               1             0        0   \n",
       "3          1        0       1               1             0        0   \n",
       "4          1        0       0               1             0        0   \n",
       "\n",
       "   analysis  analyst  believe  business   ...     team  teams  test  tools  \\\n",
       "0         0        0        0         0   ...        0      0     0      0   \n",
       "1         0        0        0         0   ...        0      0     0      0   \n",
       "2         0        0        1         0   ...        0      0     0      0   \n",
       "3         0        1        0         0   ...        0      0     0      0   \n",
       "4         0        0        0         0   ...        0      0     0      0   \n",
       "\n",
       "   training  upskilling  using  validate  work  working  \n",
       "0         0           0      0         0     0        0  \n",
       "1         0           0      0         0     0        0  \n",
       "2         0           0      0         0     0        0  \n",
       "3         0           0      0         0     0        0  \n",
       "4         0           0      0         0     0        0  \n",
       "\n",
       "[5 rows x 55 columns]"
      ]
     },
     "execution_count": 54,
     "metadata": {},
     "output_type": "execute_result"
    }
   ],
   "source": [
    "X_cvec_synos = pd.concat([feature_matrix, df_vec_synos], axis=1)\n",
    "X_cvec_synos.head()"
   ]
  },
  {
   "cell_type": "code",
   "execution_count": 55,
   "metadata": {},
   "outputs": [
    {
     "data": {
      "text/plain": [
       "(588, 55)"
      ]
     },
     "execution_count": 55,
     "metadata": {},
     "output_type": "execute_result"
    }
   ],
   "source": [
    "\n",
    "X_cvec_synos.shape"
   ]
  },
  {
   "cell_type": "code",
   "execution_count": 56,
   "metadata": {},
   "outputs": [
    {
     "name": "stdout",
     "output_type": "stream",
     "text": [
      "1.0\n",
      "Cross-validated scores: [0.71428571 1.         1.         1.         1.         1.        ]\n",
      "Average score: 0.9523809523809524\n",
      "Standard deviation of score: 0.10647942749999\n"
     ]
    },
    {
     "data": {
      "text/html": [
       "<div>\n",
       "<style scoped>\n",
       "    .dataframe tbody tr th:only-of-type {\n",
       "        vertical-align: middle;\n",
       "    }\n",
       "\n",
       "    .dataframe tbody tr th {\n",
       "        vertical-align: top;\n",
       "    }\n",
       "\n",
       "    .dataframe thead th {\n",
       "        text-align: right;\n",
       "    }\n",
       "</style>\n",
       "<table border=\"1\" class=\"dataframe\">\n",
       "  <thead>\n",
       "    <tr style=\"text-align: right;\">\n",
       "      <th></th>\n",
       "      <th>importance</th>\n",
       "    </tr>\n",
       "  </thead>\n",
       "  <tbody>\n",
       "    <tr>\n",
       "      <th>Junior</th>\n",
       "      <td>0.136972</td>\n",
       "    </tr>\n",
       "    <tr>\n",
       "      <th>scientist</th>\n",
       "      <td>0.111309</td>\n",
       "    </tr>\n",
       "    <tr>\n",
       "      <th>analyst</th>\n",
       "      <td>0.107953</td>\n",
       "    </tr>\n",
       "    <tr>\n",
       "      <th>Data Scientist</th>\n",
       "      <td>0.100571</td>\n",
       "    </tr>\n",
       "    <tr>\n",
       "      <th>Scientist</th>\n",
       "      <td>0.090508</td>\n",
       "    </tr>\n",
       "    <tr>\n",
       "      <th>Analyst</th>\n",
       "      <td>0.090360</td>\n",
       "    </tr>\n",
       "    <tr>\n",
       "      <th>migration</th>\n",
       "      <td>0.050900</td>\n",
       "    </tr>\n",
       "    <tr>\n",
       "      <th>test</th>\n",
       "      <td>0.034771</td>\n",
       "    </tr>\n",
       "    <tr>\n",
       "      <th>team</th>\n",
       "      <td>0.034320</td>\n",
       "    </tr>\n",
       "    <tr>\n",
       "      <th>Data Analyst</th>\n",
       "      <td>0.032006</td>\n",
       "    </tr>\n",
       "    <tr>\n",
       "      <th>data</th>\n",
       "      <td>0.031698</td>\n",
       "    </tr>\n",
       "    <tr>\n",
       "      <th>great</th>\n",
       "      <td>0.029712</td>\n",
       "    </tr>\n",
       "    <tr>\n",
       "      <th>industry</th>\n",
       "      <td>0.029195</td>\n",
       "    </tr>\n",
       "    <tr>\n",
       "      <th>experience</th>\n",
       "      <td>0.023812</td>\n",
       "    </tr>\n",
       "    <tr>\n",
       "      <th>believe</th>\n",
       "      <td>0.019767</td>\n",
       "    </tr>\n",
       "    <tr>\n",
       "      <th>upskilling</th>\n",
       "      <td>0.014760</td>\n",
       "    </tr>\n",
       "    <tr>\n",
       "      <th>teams</th>\n",
       "      <td>0.010450</td>\n",
       "    </tr>\n",
       "    <tr>\n",
       "      <th>training</th>\n",
       "      <td>0.007494</td>\n",
       "    </tr>\n",
       "    <tr>\n",
       "      <th>science</th>\n",
       "      <td>0.006070</td>\n",
       "    </tr>\n",
       "    <tr>\n",
       "      <th>learn</th>\n",
       "      <td>0.004076</td>\n",
       "    </tr>\n",
       "  </tbody>\n",
       "</table>\n",
       "</div>"
      ],
      "text/plain": [
       "                importance\n",
       "Junior            0.136972\n",
       "scientist         0.111309\n",
       "analyst           0.107953\n",
       "Data Scientist    0.100571\n",
       "Scientist         0.090508\n",
       "Analyst           0.090360\n",
       "migration         0.050900\n",
       "test              0.034771\n",
       "team              0.034320\n",
       "Data Analyst      0.032006\n",
       "data              0.031698\n",
       "great             0.029712\n",
       "industry          0.029195\n",
       "experience        0.023812\n",
       "believe           0.019767\n",
       "upskilling        0.014760\n",
       "teams             0.010450\n",
       "training          0.007494\n",
       "science           0.006070\n",
       "learn             0.004076"
      ]
     },
     "execution_count": 56,
     "metadata": {},
     "output_type": "execute_result"
    }
   ],
   "source": [
    "model = RandomForestClassifier(n_estimators=100, oob_score=True)\n",
    "y = predict_df['Above Median']\n",
    "model.fit(X_cvec_synos, y)\n",
    "print (model.oob_score_)\n",
    "cv_model = cross_val_score(model, X_cvec_synos, y, cv=6)\n",
    "print ('Cross-validated scores:', cv_model)\n",
    "print ('Average score:', cv_model.mean())\n",
    "print ('Standard deviation of score:', cv_model.std())\n",
    "importance_dataframe_big = pd.DataFrame(model.feature_importances_, index = X_cvec_synos.columns, columns=['importance']).sort_values('importance', ascending=False)\n",
    "importance_dataframe_big.head(20)"
   ]
  },
  {
   "cell_type": "markdown",
   "metadata": {},
   "source": [
    "After using the countvectorizer on the description (job summary), the accuracy of the model has increased from 81% to 95%.  Which is a significant boost to the accuracy."
   ]
  },
  {
   "cell_type": "code",
   "execution_count": 57,
   "metadata": {},
   "outputs": [
    {
     "name": "stdout",
     "output_type": "stream",
     "text": [
      "Cross-validated scores: [0.57142857 1.         1.         1.         1.         1.        ]\n",
      "Average score: 0.9285714285714285\n",
      "Standard deviation of score: 0.15971914124998499\n"
     ]
    }
   ],
   "source": [
    "from sklearn import linear_model\n",
    "log_reg = linear_model.LogisticRegression()\n",
    "log_model = log_reg.fit(X_cvec_synos, y)\n",
    "scores_log = cross_val_score(log_reg, X_cvec_synos, y, cv=6)\n",
    "print ('Cross-validated scores:', scores_log)\n",
    "print ('Average score:', scores_log.mean())\n",
    "print ('Standard deviation of score:', scores_log.std())"
   ]
  },
  {
   "cell_type": "code",
   "execution_count": 58,
   "metadata": {},
   "outputs": [
    {
     "name": "stdout",
     "output_type": "stream",
     "text": [
      "Cross-validated scores: [0.57142857 1.         1.         1.         1.         0.82653061]\n",
      "Average score: 0.8996598639455783\n",
      "Standard deviation of score: 0.1598729914939595\n"
     ]
    }
   ],
   "source": [
    "from sklearn.svm import SVC\n",
    "model_svmrbf = SVC(kernel='rbf')\n",
    "scores_svm = cross_val_score(model_svmrbf, X_cvec_synos, y, cv=6)\n",
    "print ('Cross-validated scores:', scores_svm)\n",
    "print ('Average score:', scores_svm.mean())\n",
    "print ('Standard deviation of score:', scores_svm.std())\n",
    "svm_model = model_svmrbf.fit(X_cvec_synos, y)"
   ]
  },
  {
   "cell_type": "markdown",
   "metadata": {},
   "source": [
    "Random Forrest and Linear model has the highest accuracy 95% and 92% which are the highest from all the models after adding the job summary as a predictor."
   ]
  },
  {
   "cell_type": "markdown",
   "metadata": {},
   "source": [
    "### Finding the factors that influence pay scale\n",
    "I will be using a few logisitic regressions to determine how the important features effect salary (above of below the median). I will use the count vectorized titles to create a feature matrix."
   ]
  },
  {
   "cell_type": "code",
   "execution_count": 64,
   "metadata": {},
   "outputs": [
    {
     "data": {
      "text/html": [
       "<div>\n",
       "<style scoped>\n",
       "    .dataframe tbody tr th:only-of-type {\n",
       "        vertical-align: middle;\n",
       "    }\n",
       "\n",
       "    .dataframe tbody tr th {\n",
       "        vertical-align: top;\n",
       "    }\n",
       "\n",
       "    .dataframe thead th {\n",
       "        text-align: right;\n",
       "    }\n",
       "</style>\n",
       "<table border=\"1\" class=\"dataframe\">\n",
       "  <thead>\n",
       "    <tr style=\"text-align: right;\">\n",
       "      <th></th>\n",
       "      <th>Scientist</th>\n",
       "      <th>Analyst</th>\n",
       "      <th>Junior</th>\n",
       "      <th>Data Scientist</th>\n",
       "      <th>Data Analyst</th>\n",
       "      <th>adwords</th>\n",
       "      <th>analysis</th>\n",
       "      <th>analyst</th>\n",
       "      <th>believe</th>\n",
       "      <th>business</th>\n",
       "      <th>...</th>\n",
       "      <th>team</th>\n",
       "      <th>teams</th>\n",
       "      <th>test</th>\n",
       "      <th>tools</th>\n",
       "      <th>training</th>\n",
       "      <th>upskilling</th>\n",
       "      <th>using</th>\n",
       "      <th>validate</th>\n",
       "      <th>work</th>\n",
       "      <th>working</th>\n",
       "    </tr>\n",
       "  </thead>\n",
       "  <tbody>\n",
       "    <tr>\n",
       "      <th>0</th>\n",
       "      <td>1</td>\n",
       "      <td>0</td>\n",
       "      <td>0</td>\n",
       "      <td>1</td>\n",
       "      <td>0</td>\n",
       "      <td>0</td>\n",
       "      <td>0</td>\n",
       "      <td>0</td>\n",
       "      <td>0</td>\n",
       "      <td>0</td>\n",
       "      <td>...</td>\n",
       "      <td>0</td>\n",
       "      <td>0</td>\n",
       "      <td>0</td>\n",
       "      <td>0</td>\n",
       "      <td>0</td>\n",
       "      <td>0</td>\n",
       "      <td>0</td>\n",
       "      <td>0</td>\n",
       "      <td>0</td>\n",
       "      <td>0</td>\n",
       "    </tr>\n",
       "    <tr>\n",
       "      <th>1</th>\n",
       "      <td>1</td>\n",
       "      <td>0</td>\n",
       "      <td>0</td>\n",
       "      <td>1</td>\n",
       "      <td>0</td>\n",
       "      <td>0</td>\n",
       "      <td>0</td>\n",
       "      <td>0</td>\n",
       "      <td>0</td>\n",
       "      <td>0</td>\n",
       "      <td>...</td>\n",
       "      <td>0</td>\n",
       "      <td>0</td>\n",
       "      <td>0</td>\n",
       "      <td>0</td>\n",
       "      <td>0</td>\n",
       "      <td>0</td>\n",
       "      <td>0</td>\n",
       "      <td>0</td>\n",
       "      <td>0</td>\n",
       "      <td>0</td>\n",
       "    </tr>\n",
       "    <tr>\n",
       "      <th>2</th>\n",
       "      <td>1</td>\n",
       "      <td>0</td>\n",
       "      <td>1</td>\n",
       "      <td>1</td>\n",
       "      <td>0</td>\n",
       "      <td>0</td>\n",
       "      <td>0</td>\n",
       "      <td>0</td>\n",
       "      <td>1</td>\n",
       "      <td>0</td>\n",
       "      <td>...</td>\n",
       "      <td>0</td>\n",
       "      <td>0</td>\n",
       "      <td>0</td>\n",
       "      <td>0</td>\n",
       "      <td>0</td>\n",
       "      <td>0</td>\n",
       "      <td>0</td>\n",
       "      <td>0</td>\n",
       "      <td>0</td>\n",
       "      <td>0</td>\n",
       "    </tr>\n",
       "    <tr>\n",
       "      <th>3</th>\n",
       "      <td>1</td>\n",
       "      <td>0</td>\n",
       "      <td>1</td>\n",
       "      <td>1</td>\n",
       "      <td>0</td>\n",
       "      <td>0</td>\n",
       "      <td>0</td>\n",
       "      <td>1</td>\n",
       "      <td>0</td>\n",
       "      <td>0</td>\n",
       "      <td>...</td>\n",
       "      <td>0</td>\n",
       "      <td>0</td>\n",
       "      <td>0</td>\n",
       "      <td>0</td>\n",
       "      <td>0</td>\n",
       "      <td>0</td>\n",
       "      <td>0</td>\n",
       "      <td>0</td>\n",
       "      <td>0</td>\n",
       "      <td>0</td>\n",
       "    </tr>\n",
       "    <tr>\n",
       "      <th>4</th>\n",
       "      <td>1</td>\n",
       "      <td>0</td>\n",
       "      <td>0</td>\n",
       "      <td>1</td>\n",
       "      <td>0</td>\n",
       "      <td>0</td>\n",
       "      <td>0</td>\n",
       "      <td>0</td>\n",
       "      <td>0</td>\n",
       "      <td>0</td>\n",
       "      <td>...</td>\n",
       "      <td>0</td>\n",
       "      <td>0</td>\n",
       "      <td>0</td>\n",
       "      <td>0</td>\n",
       "      <td>0</td>\n",
       "      <td>0</td>\n",
       "      <td>0</td>\n",
       "      <td>0</td>\n",
       "      <td>0</td>\n",
       "      <td>0</td>\n",
       "    </tr>\n",
       "  </tbody>\n",
       "</table>\n",
       "<p>5 rows × 55 columns</p>\n",
       "</div>"
      ],
      "text/plain": [
       "   Scientist  Analyst  Junior  Data Scientist  Data Analyst  adwords  \\\n",
       "0          1        0       0               1             0        0   \n",
       "1          1        0       0               1             0        0   \n",
       "2          1        0       1               1             0        0   \n",
       "3          1        0       1               1             0        0   \n",
       "4          1        0       0               1             0        0   \n",
       "\n",
       "   analysis  analyst  believe  business   ...     team  teams  test  tools  \\\n",
       "0         0        0        0         0   ...        0      0     0      0   \n",
       "1         0        0        0         0   ...        0      0     0      0   \n",
       "2         0        0        1         0   ...        0      0     0      0   \n",
       "3         0        1        0         0   ...        0      0     0      0   \n",
       "4         0        0        0         0   ...        0      0     0      0   \n",
       "\n",
       "   training  upskilling  using  validate  work  working  \n",
       "0         0           0      0         0     0        0  \n",
       "1         0           0      0         0     0        0  \n",
       "2         0           0      0         0     0        0  \n",
       "3         0           0      0         0     0        0  \n",
       "4         0           0      0         0     0        0  \n",
       "\n",
       "[5 rows x 55 columns]"
      ]
     },
     "execution_count": 64,
     "metadata": {},
     "output_type": "execute_result"
    }
   ],
   "source": [
    "X_cvec_synos.head()"
   ]
  },
  {
   "cell_type": "code",
   "execution_count": 94,
   "metadata": {},
   "outputs": [
    {
     "name": "stdout",
     "output_type": "stream",
     "text": [
      "Cross-validated scores: [0.57142857 1.         1.         1.         1.         1.        ]\n",
      "Average score: 0.9285714285714285\n",
      "Standard deviation of score: 0.15971914124998499\n"
     ]
    }
   ],
   "source": [
    "log_reg = linear_model.LogisticRegression()\n",
    "log_model = log_reg.fit(X_cvec_synos, y)\n",
    "scores_log = cross_val_score(log_reg, X_cvec_synos, y, cv=6)\n",
    "print ('Cross-validated scores:', scores_log)\n",
    "print ('Average score:', scores_log.mean())\n",
    "print ('Standard deviation of score:', scores_log.std())"
   ]
  },
  {
   "cell_type": "code",
   "execution_count": 95,
   "metadata": {},
   "outputs": [
    {
     "data": {
      "text/plain": [
       "Index(['Scientist', 'Analyst', 'Junior', 'Data Scientist', 'Data Analyst',\n",
       "       'adwords', 'analysis', 'analyst', 'believe', 'business', 'cross',\n",
       "       'customer', 'data', 'experience', 'great', 'industry', 'invoice',\n",
       "       'learn', 'maintaining', 'manager', 'manipulation', 'matching',\n",
       "       'migration', 'multiple', 'notices', 'organization', 'outstanding',\n",
       "       'prepare', 'processes', 'processing', 'pull', 'questions',\n",
       "       'recommendations', 'regulatory', 'responses', 'results', 'review',\n",
       "       'role', 'science', 'scientist', 'scientists', 'sets', 'skills', 'sound',\n",
       "       'sources', 'team', 'teams', 'test', 'tools', 'training', 'upskilling',\n",
       "       'using', 'validate', 'work', 'working'],\n",
       "      dtype='object')"
      ]
     },
     "execution_count": 95,
     "metadata": {},
     "output_type": "execute_result"
    }
   ],
   "source": [
    "X_cvec_synos.columns"
   ]
  },
  {
   "cell_type": "code",
   "execution_count": 69,
   "metadata": {},
   "outputs": [
    {
     "data": {
      "text/plain": [
       "array([[ 1.16762313, -1.86855952, -4.29408255,  1.16762313, -1.30324356,\n",
       "        -0.05699333,  0.15739409,  0.15185664,  1.62732303, -0.11398666,\n",
       "         0.29276922,  0.19095372, -0.15347494,  0.72210354,  1.92009225,\n",
       "        -1.81456477, -0.28617084,  0.29276922, -0.14308542, -0.16095753,\n",
       "        -0.31973047, -0.21218506,  2.69644364, -0.21218506, -0.16095753,\n",
       "        -0.24558549, -0.31973047, -0.21218506, -0.05699333, -0.24558549,\n",
       "        -0.05699333, -0.05699333, -0.31973047, -0.16095753, -0.16095753,\n",
       "        -0.31973047, -0.05699333, -0.16095753,  0.29276922,  1.51571953,\n",
       "         0.29276922, -0.49117098, -0.46281589, -0.14308542, -0.21218506,\n",
       "        -1.16087019,  0.29276922,  2.69644364, -0.24558549,  0.29276922,\n",
       "         0.29276922, -0.05699333, -0.16095753, -0.16095753,  0.02175484]])"
      ]
     },
     "execution_count": 69,
     "metadata": {},
     "output_type": "execute_result"
    }
   ],
   "source": [
    "log_model.coef_"
   ]
  },
  {
   "cell_type": "code",
   "execution_count": 97,
   "metadata": {},
   "outputs": [
    {
     "name": "stdout",
     "output_type": "stream",
     "text": [
      "adwords 1.1676231275752855\n",
      "analysis -1.8685595215526283\n",
      "analyst -4.294082548685262\n",
      "believe 1.1676231275752855\n",
      "business -1.3032435622544511\n",
      "cross -0.05699332912642244\n",
      "customer 0.1573940868175099\n",
      "data 0.15185664283982742\n",
      "experience 1.6273230293780976\n",
      "great -0.11398665825284487\n",
      "industry 0.2927692247381467\n",
      "invoice 0.19095371871853348\n",
      "learn -0.1534749431879848\n",
      "maintaining 0.7221035429569953\n",
      "manager 1.920092254116247\n",
      "manipulation -1.8145647692665672\n",
      "matching -0.28617083670074733\n",
      "migration 0.2927692247381467\n",
      "multiple -0.14308541835037367\n",
      "notices -0.160957526921707\n",
      "organization -0.31973046860177096\n",
      "outstanding -0.21218506171049786\n",
      "prepare 2.69644363825184\n",
      "processes -0.21218506171049786\n",
      "processing -0.160957526921707\n",
      "pull -0.2455854906964112\n",
      "questions -0.31973046860177096\n",
      "recommendations -0.21218506171049786\n",
      "regulatory -0.05699332912642244\n",
      "responses -0.2455854906964112\n",
      "results -0.05699332912642244\n",
      "review -0.05699332912642244\n",
      "role -0.31973046860177096\n",
      "science -0.160957526921707\n",
      "scientist -0.160957526921707\n",
      "scientists -0.31973046860177096\n",
      "sets -0.05699332912642244\n",
      "skills -0.160957526921707\n",
      "sound 0.2927692247381467\n",
      "sources 1.515719533977673\n",
      "team 0.2927692247381467\n",
      "teams -0.4911709813928224\n",
      "test -0.4628158869521446\n",
      "tools -0.14308541835037367\n",
      "training -0.21218506171049786\n",
      "upskilling -1.1608701933159586\n",
      "using 0.2927692247381467\n",
      "validate 2.69644363825184\n",
      "work -0.2455854906964112\n",
      "working 0.2927692247381467\n"
     ]
    }
   ],
   "source": [
    "for a, b in zip(cvec_synos.get_feature_names(), log_model.coef_[0]):\n",
    "    print( a, b)"
   ]
  },
  {
   "cell_type": "markdown",
   "metadata": {},
   "source": [
    "As we can see that the Word Analyst or Analysis are below the median Salary With manager above the median."
   ]
  },
  {
   "cell_type": "markdown",
   "metadata": {},
   "source": [
    "### We'll try with Just the Job Titles to predict"
   ]
  },
  {
   "cell_type": "code",
   "execution_count": 87,
   "metadata": {},
   "outputs": [
    {
     "name": "stdout",
     "output_type": "stream",
     "text": [
      "Cross-validated scores: [0.55102041 0.95918367 0.96938776 0.96938776 0.7755102  0.64285714]\n",
      "Average score: 0.8112244897959183\n",
      "Standard deviation of score: 0.16795455478367016\n"
     ]
    }
   ],
   "source": [
    "log_reg = linear_model.LogisticRegression()\n",
    "log_model = log_reg.fit(X_cvec, y)\n",
    "scores_log = cross_val_score(log_reg, X_cvec, y, cv=6)\n",
    "print ('Cross-validated scores:', scores_log)\n",
    "print ('Average score:', scores_log.mean())\n",
    "print ('Standard deviation of score:', scores_log.std())\n"
   ]
  },
  {
   "cell_type": "code",
   "execution_count": 88,
   "metadata": {},
   "outputs": [
    {
     "data": {
      "text/plain": [
       "Index(['Scientist', 'Analyst', 'Junior', 'Data Scientist', 'Data Analyst'], dtype='object')"
      ]
     },
     "execution_count": 88,
     "metadata": {},
     "output_type": "execute_result"
    }
   ],
   "source": [
    "X_cvec.columns"
   ]
  },
  {
   "cell_type": "code",
   "execution_count": 89,
   "metadata": {},
   "outputs": [
    {
     "data": {
      "text/plain": [
       "array([[ 1.85690027, -2.36279108, -3.58428017,  1.85690027,  0.64557271]])"
      ]
     },
     "execution_count": 89,
     "metadata": {},
     "output_type": "execute_result"
    }
   ],
   "source": [
    "log_model.coef_"
   ]
  },
  {
   "cell_type": "code",
   "execution_count": 104,
   "metadata": {},
   "outputs": [
    {
     "name": "stdout",
     "output_type": "stream",
     "text": [
      "data analyst 1.1676231275752855\n",
      "data scientist -1.8685595215526283\n",
      "junior data -4.294082548685262\n"
     ]
    }
   ],
   "source": [
    "for a, b in zip(cvec.get_feature_names(), log_model.coef_[0]):\n",
    "    print(a, b)"
   ]
  },
  {
   "cell_type": "markdown",
   "metadata": {},
   "source": [
    "With Just the title alone this method actually predicted Data Scientist to be below the Median, therefore predicted incorrectly, as from the Data set there were twice the number of Data Analyst to Data Scientist and sort of pushing the Data Analyst in the Above median salary range.  As we only have 3 Attributes from the model Data Analyst roles dominates the market."
   ]
  }
 ],
 "metadata": {
  "kernelspec": {
   "display_name": "Python 3",
   "language": "python",
   "name": "python3"
  },
  "language_info": {
   "codemirror_mode": {
    "name": "ipython",
    "version": 3
   },
   "file_extension": ".py",
   "mimetype": "text/x-python",
   "name": "python",
   "nbconvert_exporter": "python",
   "pygments_lexer": "ipython3",
   "version": "3.6.5"
  },
  "toc": {
   "base_numbering": 1,
   "nav_menu": {},
   "number_sections": true,
   "sideBar": true,
   "skip_h1_title": false,
   "title_cell": "Table of Contents",
   "title_sidebar": "Contents",
   "toc_cell": false,
   "toc_position": {},
   "toc_section_display": true,
   "toc_window_display": false
  },
  "varInspector": {
   "cols": {
    "lenName": 16,
    "lenType": 16,
    "lenVar": 40
   },
   "kernels_config": {
    "python": {
     "delete_cmd_postfix": "",
     "delete_cmd_prefix": "del ",
     "library": "var_list.py",
     "varRefreshCmd": "print(var_dic_list())"
    },
    "r": {
     "delete_cmd_postfix": ") ",
     "delete_cmd_prefix": "rm(",
     "library": "var_list.r",
     "varRefreshCmd": "cat(var_dic_list()) "
    }
   },
   "types_to_exclude": [
    "module",
    "function",
    "builtin_function_or_method",
    "instance",
    "_Feature"
   ],
   "window_display": false
  }
 },
 "nbformat": 4,
 "nbformat_minor": 2
}
